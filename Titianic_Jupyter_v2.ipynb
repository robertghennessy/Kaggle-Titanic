{
 "cells": [
  {
   "cell_type": "markdown",
   "metadata": {},
   "source": [
    "The goal of the Titanic competition is to predict who survived the disaster based on some information about the individual. The competition is described at https://www.kaggle.com/c/titanic/overview\n",
    "\n",
    "Data Dictionary\n",
    "\n",
    "Survival : 0 = No, 1 = Yes\n",
    "Pclass : Ticket class,, 1st = Upper 2nd = Middle 3rd = Lower\n",
    "sex: sex of the individual\n",
    "Age: age in years\n",
    "sibsp : The # of siblings / spouses aboard the Titanic Sibling = brother, sister, stepbrother, stepsister Spouse = husband, wife (mistresses and fiancés were ignored)\n",
    "parch : The # of parents / children aboard the Titanic Parent = mother, father Child = daughter, son, stepdaughter, stepson Some children travelled only with a nanny, therefore parch=0 for them.\n",
    "Ticket : Ticket number\n",
    "Fare : Passenger fare\n",
    "Cabin : Cabin number embarked\n",
    "Port of Embarkation: C = Cherbourg, Q = Queenstown, S = Southampton"
   ]
  },
  {
   "cell_type": "code",
   "execution_count": 168,
   "metadata": {},
   "outputs": [],
   "source": [
    "import pandas as pd\n",
    "import numpy as np\n",
    "import matplotlib.pyplot as plt\n",
    "import seaborn as sns\n",
    "import re\n",
    "from collections import Counter \n",
    "import scipy.stats as stats\n",
    "import string"
   ]
  },
  {
   "cell_type": "markdown",
   "metadata": {},
   "source": [
    "Loaded the train and test data into pandas data frame. Both the train and test data contain missing values. Train has is missing 177 age values, 687 cabin values and 2 embarked values. Test data is missing 86 age values, 1 fare value and 327 cabin values. The missing values will either need to be imputed (filled in based on training set data) or the rows will need to be removed. Used describe to look into the statistics of the numeric columns. No obvious outliers are observed in the data. "
   ]
  },
  {
   "cell_type": "code",
   "execution_count": 169,
   "metadata": {},
   "outputs": [
    {
     "name": "stdout",
     "output_type": "stream",
     "text": [
      "Missing values in train data\n",
      "PassengerId      0\n",
      "Survived         0\n",
      "Pclass           0\n",
      "Name             0\n",
      "Sex              0\n",
      "Age            177\n",
      "SibSp            0\n",
      "Parch            0\n",
      "Ticket           0\n",
      "Fare             0\n",
      "Cabin          687\n",
      "Embarked         2\n",
      "dtype: int64\n",
      "\n",
      "Missing values in test data\n",
      "PassengerId      0\n",
      "Pclass           0\n",
      "Name             0\n",
      "Sex              0\n",
      "Age             86\n",
      "SibSp            0\n",
      "Parch            0\n",
      "Ticket           0\n",
      "Fare             1\n",
      "Cabin          327\n",
      "Embarked         0\n",
      "dtype: int64\n",
      "\n",
      "Describe train data\n",
      "       PassengerId    Survived      Pclass         Age       SibSp  \\\n",
      "count   891.000000  891.000000  891.000000  714.000000  891.000000   \n",
      "mean    446.000000    0.383838    2.308642   29.699118    0.523008   \n",
      "std     257.353842    0.486592    0.836071   14.526497    1.102743   \n",
      "min       1.000000    0.000000    1.000000    0.420000    0.000000   \n",
      "25%     223.500000    0.000000    2.000000   20.125000    0.000000   \n",
      "50%     446.000000    0.000000    3.000000   28.000000    0.000000   \n",
      "75%     668.500000    1.000000    3.000000   38.000000    1.000000   \n",
      "max     891.000000    1.000000    3.000000   80.000000    8.000000   \n",
      "\n",
      "            Parch        Fare  \n",
      "count  891.000000  891.000000  \n",
      "mean     0.381594   32.204208  \n",
      "std      0.806057   49.693429  \n",
      "min      0.000000    0.000000  \n",
      "25%      0.000000    7.910400  \n",
      "50%      0.000000   14.454200  \n",
      "75%      0.000000   31.000000  \n",
      "max      6.000000  512.329200  \n",
      "\n",
      "Describe test data\n",
      "       PassengerId      Pclass         Age       SibSp       Parch        Fare\n",
      "count   418.000000  418.000000  332.000000  418.000000  418.000000  417.000000\n",
      "mean   1100.500000    2.265550   30.272590    0.447368    0.392344   35.627188\n",
      "std     120.810458    0.841838   14.181209    0.896760    0.981429   55.907576\n",
      "min     892.000000    1.000000    0.170000    0.000000    0.000000    0.000000\n",
      "25%     996.250000    1.000000   21.000000    0.000000    0.000000    7.895800\n",
      "50%    1100.500000    3.000000   27.000000    0.000000    0.000000   14.454200\n",
      "75%    1204.750000    3.000000   39.000000    1.000000    0.000000   31.500000\n",
      "max    1309.000000    3.000000   76.000000    8.000000    9.000000  512.329200\n"
     ]
    }
   ],
   "source": [
    "target_column = ['Survived']\n",
    "# load in the csv files\n",
    "test = pd.read_csv('data_files/test.csv')\n",
    "train = pd.read_csv('data_files/train.csv')\n",
    "# determine the nans in each column\n",
    "print('Missing values in train data')\n",
    "print(train.isna().sum())\n",
    "print('\\nMissing values in test data')\n",
    "print(test.isna().sum())\n",
    "print('\\nDescribe train data')\n",
    "print(train.describe())\n",
    "print('\\nDescribe test data')\n",
    "print(test.describe())"
   ]
  },
  {
   "cell_type": "markdown",
   "metadata": {},
   "source": [
    "Created a function to check to see if any of the rows has invalid values (values that should not exist based on the data definition above). "
   ]
  },
  {
   "cell_type": "code",
   "execution_count": 170,
   "metadata": {},
   "outputs": [
    {
     "name": "stdout",
     "output_type": "stream",
     "text": [
      "Check if train has any invalid values\n",
      "Check if test has any invalid values\n",
      "Column: Survived does not exist\n"
     ]
    }
   ],
   "source": [
    "target_column = 'Survived'\n",
    "\n",
    "# replace NaNs in the train and test dataframes with the missing value\n",
    "#train.fillna(missing_value, inplace=True)\n",
    "#test.fillna(missing_value, inplace=True)\n",
    "\n",
    "check_values_dict = {'Survived':[0, 1], \n",
    "                     'Pclass':[1, 2, 3], \n",
    "                     'Sex':['male', 'female'],\n",
    "                     'Embarked':['C', 'Q', 'S']}\n",
    "\n",
    "def check_values(df, check_dict):\n",
    "    return_dict = {}\n",
    "    for (key, value) in check_dict.items():\n",
    "        # check if the column exists in pandas\n",
    "        if key in df.columns:\n",
    "            # check column and see if there is any invalid values\n",
    "            temp_bool_series = ~df.loc[~df[key].isnull(), key].isin(value)\n",
    "            # if invalid values exist for the column. Store the row indices in dictionary\n",
    "            if temp_bool_series.sum() > 0:\n",
    "                return_dict[key] = temp_bool_series[temp_bool_series].index\n",
    "        else:\n",
    "            print('Column: ' + key + ' does not exist')\n",
    "    return return_dict\n",
    "\n",
    "def print_rows_with_invalid(df, invalid_dict):\n",
    "    for (key, value) in invalid_dict.items():\n",
    "        print(key + ' is invalid in the following rows')\n",
    "        print(df.iloc[value])\n",
    "\n",
    "print('Check if train has any invalid values')\n",
    "print_rows_with_invalid(train, check_values(train, check_values_dict))\n",
    "print('Check if test has any invalid values')\n",
    "print_rows_with_invalid(test, check_values(test, check_values_dict))\n"
   ]
  },
  {
   "cell_type": "markdown",
   "metadata": {},
   "source": [
    "Feature conversion code\n",
    "\n",
    "For most machine learning algorithms, all features must be represented as ints. First step is to convert sex into binary encoding."
   ]
  },
  {
   "cell_type": "code",
   "execution_count": 171,
   "metadata": {},
   "outputs": [],
   "source": [
    "def encode_sex(df):\n",
    "    df['Sex'] = (df['Sex'].str.lower() == 'male').astype(int)\n",
    "    return df\n",
    "\n",
    "train = encode_sex(train)\n",
    "test = encode_sex(test)"
   ]
  },
  {
   "cell_type": "markdown",
   "metadata": {},
   "source": [
    "Last name may contain useful information because families may have been more likely to survive or perish together. Following function extracts the last name by assuming that the last name is to the left of the comma. The last name is coonverted to lower case to ensure that any capitalization is handled correctly. Additionally, the title was extracted because it may give a hint about age. First name was not extracted because it is unlikely to correlate with any person."
   ]
  },
  {
   "cell_type": "code",
   "execution_count": 172,
   "metadata": {},
   "outputs": [],
   "source": [
    "def parse_name(df):\n",
    "    split_name_at_comma = df['Name'].str.split(',', n=1, expand=True)\n",
    "    df['LastName'] = split_name_at_comma.get(0).str.lower()\n",
    "    split_name_at_period = split_name_at_comma.get(1).str.split('.', n=1, expand=True)\n",
    "    df['Title'] = split_name_at_period.get(0).str.lower()\n",
    "    df.drop('Name', axis=1, inplace=True)\n",
    "    return df\n",
    "\n",
    "# extract last name\n",
    "train = parse_name(train)\n",
    "#print(train.head())\n",
    "test = parse_name(test)\n",
    "#print(test.head())"
   ]
  },
  {
   "cell_type": "markdown",
   "metadata": {},
   "source": [
    "Ticket column contains letters and numbers. This column will be broken up into before and after the space. For the text porition of the ticket number, the string is converted to lower case and the punctuation is stripped from the string. "
   ]
  },
  {
   "cell_type": "code",
   "execution_count": 173,
   "metadata": {},
   "outputs": [],
   "source": [
    "# create dictionary of punctuation to remove\n",
    "punctuation_table = str.maketrans(dict.fromkeys(string.punctuation))\n",
    "\n",
    "def parse_ticket(df, punctuation_table):\n",
    "    # split ticket at the first space\n",
    "    split_ticket_at_space = df['Ticket'].str.split(' ', n=1, expand=True)\n",
    "    # convert to lower case and remove the punctuation\n",
    "    temp = split_ticket_at_space.get(0).str.lower().str.translate(punctuation_table)\n",
    "    df['TicketHeader'] = temp[~temp.str.isnumeric()]\n",
    "    df['TicketNumber'] = temp[temp.str.isnumeric()]\n",
    "    df.loc[~temp.str.isnumeric(), 'TicketNumber'] = split_ticket_at_space.get(1)\n",
    "    df['TicketNumber'] = df['TicketNumber'].astype('int64')\n",
    "    return df\n",
    "\n",
    "def parse_ticket_regexp(df):\n",
    "    # Extract letters from the ticket, combine into one string and convert to lower case\n",
    "    df['TicketLetters'] = df['Ticket'].str.findall(r'[A-Za-z]+').str.join('').str.lower()\n",
    "    # Extract numbers from the ticket, combine to one string, replace empty strings with NaNs and convert to numeric\n",
    "    df['TicketNumbers'] = pd.to_numeric(df['Ticket'].str.findall(r'[0-9]+').str.join('').replace('', np.nan))\n",
    "    df.drop('Ticket', axis=1, inplace=True)\n",
    "    return df\n",
    "    \n",
    "\n",
    "#print(parse_ticket(train, punctuation_table).dtypes)\n",
    "#print(parse_ticket(train, punctuation_table).head())\n",
    "#print(parse_ticket_regexp(train).head())\n",
    "\n",
    "train = parse_ticket_regexp(train)\n",
    "test = parse_ticket_regexp(test)"
   ]
  },
  {
   "cell_type": "markdown",
   "metadata": {},
   "source": [
    "Filling in NaNs\n",
    "\n",
    "The columns age, cabin, embarked and fare have NaN values. Exploratory data anlysis is performed to see the correlation between parameters with goal of using a different parameter to guess what the missing value should be.\n",
    "\n",
    "Train has is missing 177 age values, 687 cabin values and 2 embarked values. Test data is missing 86 age values, 1 fare value and 327 cabin values.\n",
    "\n",
    "Fare and Pclass should be correlated. Higher fare with better class (lower number). Histogram was created to look for the correlation. Pclass = 1 has higher ticket price than Pclass = 2 and 3. The fare is non gaussin for the different Pclasses"
   ]
  },
  {
   "cell_type": "code",
   "execution_count": 174,
   "metadata": {},
   "outputs": [
    {
     "data": {
      "image/png": "[encoded data removed]",
      "text/plain": [
       "<Figure size 432x288 with 1 Axes>"
      ]
     },
     "metadata": {
      "needs_background": "light"
     },
     "output_type": "display_data"
    }
   ],
   "source": [
    "df = train[train['Pclass'] == 1]\n",
    "sns.distplot(df['Age'].dropna(),  kde=False, label='Pclass = 1')\n",
    "df = train[train['Pclass'] == 2]\n",
    "sns.distplot(df['Age'].dropna(),  kde=False, label='Pclass = 2')\n",
    "df = train[train['Pclass'] == 3]\n",
    "sns.distplot(df['Age'].dropna(),  kde=False, label='Pclass = 3')\n",
    "plt.legend()\n",
    "plt.title('Fare vs Pclass')\n",
    "plt.xlabel('Fare')\n",
    "plt.ylabel('Number')\n",
    "plt.show()"
   ]
  },
  {
   "cell_type": "code",
   "execution_count": 175,
   "metadata": {},
   "outputs": [
    {
     "name": "stdout",
     "output_type": "stream",
     "text": [
      "     PassengerId  Pclass  Sex   Age  SibSp  Parch  Fare Cabin Embarked  \\\n",
      "152         1044       3    1  60.5      0      0   NaN   NaN        S   \n",
      "\n",
      "    LastName Title TicketLetters  TicketNumbers  \n",
      "152   storey    mr                         3701  \n"
     ]
    }
   ],
   "source": [
    "print(test[test['Fare'].isnull()])"
   ]
  },
  {
   "cell_type": "code",
   "execution_count": null,
   "metadata": {},
   "outputs": [],
   "source": []
  },
  {
   "cell_type": "code",
   "execution_count": null,
   "metadata": {},
   "outputs": [],
   "source": []
  },
  {
   "cell_type": "code",
   "execution_count": null,
   "metadata": {},
   "outputs": [],
   "source": []
  },
  {
   "cell_type": "code",
   "execution_count": 176,
   "metadata": {},
   "outputs": [
    {
     "name": "stdout",
     "output_type": "stream",
     "text": [
      "Sex         0    1\n",
      "Survived          \n",
      "0          81  468\n",
      "1         233  109\n",
      "Sex\n",
      "0    0.742038\n",
      "1    0.188908\n",
      "Name: Survived, dtype: float64\n"
     ]
    }
   ],
   "source": [
    "correlation_matrix_male_survived = pd.crosstab(train['Survived'], train['Sex'], rownames=['Survived'], colnames=['Sex'])\n",
    "print(correlation_matrix_male_survived)\n",
    "print(train.groupby('Sex')['Survived'].agg(np.mean))\n",
    "#Male is a good feature"
   ]
  },
  {
   "cell_type": "code",
   "execution_count": 177,
   "metadata": {},
   "outputs": [
    {
     "name": "stdout",
     "output_type": "stream",
     "text": [
      "Pclass      1   2    3\n",
      "Survived              \n",
      "0          80  97  372\n",
      "1         136  87  119\n",
      "Pclass\n",
      "1    0.629630\n",
      "2    0.472826\n",
      "3    0.242363\n",
      "Name: Survived, dtype: float64\n"
     ]
    }
   ],
   "source": [
    "correlation_matrix_pclass_survived = pd.crosstab(train['Survived'], train['Pclass'], rownames=['Survived'], colnames=['Pclass'])\n",
    "print(correlation_matrix_pclass_survived)\n",
    "print(train.groupby('Pclass')['Survived'].agg(np.mean))\n",
    "#Pclass is a good feature"
   ]
  },
  {
   "cell_type": "code",
   "execution_count": 178,
   "metadata": {},
   "outputs": [
    {
     "data": {
      "image/png": "[encoded data removed]",
      "text/plain": [
       "<Figure size 432x288 with 1 Axes>"
      ]
     },
     "metadata": {
      "needs_background": "light"
     },
     "output_type": "display_data"
    }
   ],
   "source": [
    "#age_bins = list(range(0,100,10))\n",
    "df = train[train['Survived'] == 0]\n",
    "sns.distplot(df['Age'].dropna(),  kde=False, label='Died')\n",
    "df = train[train['Survived'] == 1]\n",
    "sns.distplot(df['Age'].dropna(),  kde=False, label='Survived')\n",
    "plt.legend()\n",
    "plt.title('Age of Survival vs Death')\n",
    "plt.xlabel('Age')\n",
    "plt.ylabel('Number')\n",
    "plt.show()"
   ]
  },
  {
   "cell_type": "code",
   "execution_count": 179,
   "metadata": {},
   "outputs": [
    {
     "name": "stdout",
     "output_type": "stream",
     "text": [
      "AgeDecade\n",
      "0.0    0.612903\n",
      "1.0    0.401961\n",
      "2.0    0.350000\n",
      "3.0    0.437126\n",
      "4.0    0.382022\n",
      "5.0    0.416667\n",
      "6.0    0.315789\n",
      "7.0    0.000000\n",
      "8.0    1.000000\n",
      "Name: Survived, dtype: float64\n",
      "AgeDecade\n",
      "0.0     62\n",
      "1.0    102\n",
      "2.0    220\n",
      "3.0    167\n",
      "4.0     89\n",
      "5.0     48\n",
      "6.0     19\n",
      "7.0      6\n",
      "8.0      1\n",
      "Name: Survived, dtype: int64\n"
     ]
    }
   ],
   "source": [
    "# look into age affects survival\n",
    "train['AgeDecade'] = (train['Age'] / 10).apply(np.floor)\n",
    "trained_grouped_by_age_decade = train.groupby('AgeDecade')\n",
    "print(trained_grouped_by_age_decade['Survived'].agg(np.mean))\n",
    "print(trained_grouped_by_age_decade['Survived'].count())"
   ]
  },
  {
   "cell_type": "code",
   "execution_count": 180,
   "metadata": {},
   "outputs": [
    {
     "data": {
      "image/png": "[encoded data removed]",
      "text/plain": [
       "<Figure size 432x288 with 1 Axes>"
      ]
     },
     "metadata": {
      "needs_background": "light"
     },
     "output_type": "display_data"
    }
   ],
   "source": [
    "stats.probplot(train[\"Age\"], dist=\"norm\", plot=plt)\n",
    "plt.show()\n",
    "# data does not have normal distribution because not on 45 degree line"
   ]
  },
  {
   "cell_type": "code",
   "execution_count": 181,
   "metadata": {},
   "outputs": [
    {
     "name": "stdout",
     "output_type": "stream",
     "text": [
      "SibSp\n",
      "0    0.345395\n",
      "1    0.535885\n",
      "2    0.464286\n",
      "3    0.250000\n",
      "4    0.166667\n",
      "5    0.000000\n",
      "8    0.000000\n",
      "Name: Survived, dtype: float64\n",
      "SibSp\n",
      "0    608\n",
      "1    209\n",
      "2     28\n",
      "3     16\n",
      "4     18\n",
      "5      5\n",
      "8      7\n",
      "Name: Survived, dtype: int64\n"
     ]
    }
   ],
   "source": [
    "print(train.groupby('SibSp')['Survived'].agg(np.mean))\n",
    "print(train.groupby('SibSp')['Survived'].count())"
   ]
  },
  {
   "cell_type": "code",
   "execution_count": 182,
   "metadata": {},
   "outputs": [
    {
     "name": "stdout",
     "output_type": "stream",
     "text": [
      "Parch\n",
      "0    0.343658\n",
      "1    0.550847\n",
      "2    0.500000\n",
      "3    0.600000\n",
      "4    0.000000\n",
      "5    0.200000\n",
      "6    0.000000\n",
      "Name: Survived, dtype: float64\n",
      "Parch\n",
      "0    678\n",
      "1    118\n",
      "2     80\n",
      "3      5\n",
      "4      4\n",
      "5      5\n",
      "6      1\n",
      "Name: Survived, dtype: int64\n"
     ]
    }
   ],
   "source": [
    "print(train.groupby('Parch')['Survived'].agg(np.mean))\n",
    "print(train.groupby('Parch')['Survived'].count())"
   ]
  },
  {
   "cell_type": "code",
   "execution_count": 183,
   "metadata": {},
   "outputs": [
    {
     "name": "stdout",
     "output_type": "stream",
     "text": [
      "Embarked\n",
      "C    0.553571\n",
      "Q    0.389610\n",
      "S    0.336957\n",
      "Name: Survived, dtype: float64\n",
      "Embarked\n",
      "C    168\n",
      "Q     77\n",
      "S    644\n",
      "Name: Survived, dtype: int64\n"
     ]
    }
   ],
   "source": [
    "print(train.groupby('Embarked')['Survived'].agg(np.mean))\n",
    "print(train.groupby('Embarked')['Survived'].count())\n",
    "# suprisingly this looks like a good feature"
   ]
  },
  {
   "cell_type": "code",
   "execution_count": 184,
   "metadata": {},
   "outputs": [
    {
     "name": "stdout",
     "output_type": "stream",
     "text": [
      "Cabin\n",
      "A10    0.0\n",
      "A14    0.0\n",
      "A16    1.0\n",
      "A19    0.0\n",
      "A20    1.0\n",
      "      ... \n",
      "F33    1.0\n",
      "F38    0.0\n",
      "F4     1.0\n",
      "G6     0.5\n",
      "T      0.0\n",
      "Name: Survived, Length: 147, dtype: float64\n",
      "Cabin\n",
      "A10    1\n",
      "A14    1\n",
      "A16    1\n",
      "A19    1\n",
      "A20    1\n",
      "      ..\n",
      "F33    3\n",
      "F38    1\n",
      "F4     2\n",
      "G6     4\n",
      "T      1\n",
      "Name: Survived, Length: 147, dtype: int64\n"
     ]
    },
    {
     "data": {
      "image/png": "[encoded data removed]",
      "text/plain": [
       "<Figure size 432x288 with 1 Axes>"
      ]
     },
     "metadata": {
      "needs_background": "light"
     },
     "output_type": "display_data"
    }
   ],
   "source": [
    "survival_by_cabin = train.groupby('Cabin')['Survived']\n",
    "print(survival_by_cabin.agg(np.mean))\n",
    "print(survival_by_cabin.count())\n",
    "#print(survival_by_cabin.loc[survival_by_cabin.count() > 1])\n",
    "survival_by_cabin.agg(np.mean).plot()\n",
    "plt.show()\n"
   ]
  },
  {
   "cell_type": "code",
   "execution_count": 185,
   "metadata": {},
   "outputs": [],
   "source": [
    "def most_frequent(input_list):\n",
    "    if not input_list:\n",
    "        return ''\n",
    "    else:\n",
    "        occurence_count = Counter(input_list)\n",
    "        return occurence_count.most_common(1)[0][0] "
   ]
  },
  {
   "cell_type": "code",
   "execution_count": 186,
   "metadata": {},
   "outputs": [
    {
     "name": "stdout",
     "output_type": "stream",
     "text": [
      "A\n",
      "\n"
     ]
    }
   ],
   "source": [
    "print(most_frequent(['A', 'B', 'A']))\n",
    "print(most_frequent(['']))"
   ]
  },
  {
   "cell_type": "code",
   "execution_count": 187,
   "metadata": {},
   "outputs": [
    {
     "name": "stdout",
     "output_type": "stream",
     "text": [
      "    PassengerId  Survived  Pclass  Sex   Age  SibSp  Parch      Fare  \\\n",
      "3             4         1       1    0  35.0      1      0   53.1000   \n",
      "10           11         1       3    0   4.0      1      1   16.7000   \n",
      "27           28         0       1    1  19.0      3      2  263.0000   \n",
      "52           53         1       1    0  49.0      1      0   76.7292   \n",
      "62           63         0       1    1  45.0      1      0   83.4750   \n",
      "\n",
      "          Cabin Embarked   LastName  Title TicketLetters  TicketNumbers  \\\n",
      "3          C123        S   futrelle    mrs                     113803.0   \n",
      "10           G6        S  sandstrom   miss            pp         9549.0   \n",
      "27  C23 C25 C27        S    fortune     mr                      19950.0   \n",
      "52          D33        C     harper    mrs            pc        17572.0   \n",
      "62          C83        S     harris     mr                      36973.0   \n",
      "\n",
      "    AgeDecade  \n",
      "3         3.0  \n",
      "10        0.0  \n",
      "27        1.0  \n",
      "52        4.0  \n",
      "62        4.0  \n"
     ]
    },
    {
     "data": {
      "image/png": "[encoded data removed]",
      "text/plain": [
       "<Figure size 432x288 with 1 Axes>"
      ]
     },
     "metadata": {
      "needs_background": "light"
     },
     "output_type": "display_data"
    }
   ],
   "source": [
    "# Cabin, Embarked, and age have missing values\n",
    "# find cabins with more than one person\n",
    "cabin_more_than_one_person = train[train['Cabin'].duplicated(keep=False)].dropna()\n",
    "print(cabin_more_than_one_person.head())\n",
    "cabin_more_than_one_person.groupby('Cabin')['Survived'].agg(np.mean).plot()\n",
    "plt.show()"
   ]
  },
  {
   "cell_type": "code",
   "execution_count": 188,
   "metadata": {},
   "outputs": [
    {
     "name": "stdout",
     "output_type": "stream",
     "text": [
      "     687\n",
      "c     59\n",
      "b     47\n",
      "d     33\n",
      "e     32\n",
      "a     15\n",
      "f     13\n",
      "g      4\n",
      "t      1\n",
      "Name: CabinLetter, dtype: int64\n"
     ]
    }
   ],
   "source": [
    "# break up the cabin column into level and number. Need to check for correlation between different features. Ex.\n",
    "# pclass and cabin letter are likely correlated\n",
    "#train['CabinLetter'] = train['Cabin'].str.extract(r\"^[a-zA-Z]+\").lower()\n",
    "#s = pd.Series(['C1', 'A1 A2 A3', 'D3'])\n",
    "#s.str.findall(r'[A-Za-z]', flags=re.IGNORECASE)\n",
    "train['Cabin'] = train['Cabin'].replace(np.nan, '', regex=True).str.lower()\n",
    "train['CabinLetter'] = train['Cabin'].str.findall(r'[A-Za-z]', flags=re.IGNORECASE).apply(lambda x: most_frequent(x))\n",
    "print(train['CabinLetter'].value_counts())"
   ]
  },
  {
   "cell_type": "code",
   "execution_count": 189,
   "metadata": {},
   "outputs": [
    {
     "name": "stdout",
     "output_type": "stream",
     "text": [
      "CabinLetter\n",
      "     0.299854\n",
      "a    0.466667\n",
      "b    0.744681\n",
      "c    0.593220\n",
      "d    0.757576\n",
      "e    0.750000\n",
      "f    0.615385\n",
      "g    0.500000\n",
      "t    0.000000\n",
      "Name: Survived, dtype: float64\n",
      "CabinLetter\n",
      "     687\n",
      "a     15\n",
      "b     47\n",
      "c     59\n",
      "d     33\n",
      "e     32\n",
      "f     13\n",
      "g      4\n",
      "t      1\n",
      "Name: Survived, dtype: int64\n"
     ]
    },
    {
     "data": {
      "image/png": "[encoded data removed]",
      "text/plain": [
       "<Figure size 432x288 with 1 Axes>"
      ]
     },
     "metadata": {
      "needs_background": "light"
     },
     "output_type": "display_data"
    }
   ],
   "source": [
    "survival_by_cabin_letter = train.groupby('CabinLetter')['Survived']\n",
    "print(survival_by_cabin_letter.agg(np.mean))\n",
    "print(survival_by_cabin_letter.count())\n",
    "#print(survival_by_cabin.loc[survival_by_cabin.count() > 1])\n",
    "survival_by_cabin_letter.agg(np.mean).plot()\n",
    "plt.show()"
   ]
  },
  {
   "cell_type": "code",
   "execution_count": 190,
   "metadata": {},
   "outputs": [
    {
     "data": {
      "image/png": "[encoded data removed]",
      "text/plain": [
       "<Figure size 432x288 with 1 Axes>"
      ]
     },
     "metadata": {
      "needs_background": "light"
     },
     "output_type": "display_data"
    }
   ],
   "source": [
    "#age_bins = list(range(0,100,10))\n",
    "sns.distplot(train['Fare'].dropna(),  kde=False, label='Died')\n",
    "plt.xlabel('Fare')\n",
    "plt.ylabel('Number')\n",
    "plt.show()"
   ]
  },
  {
   "cell_type": "code",
   "execution_count": 191,
   "metadata": {},
   "outputs": [
    {
     "data": {
      "image/png": "[encoded data removed]",
      "text/plain": [
       "<Figure size 432x288 with 1 Axes>"
      ]
     },
     "metadata": {
      "needs_background": "light"
     },
     "output_type": "display_data"
    }
   ],
   "source": [
    "#age_bins = list(range(0,100,10))\n",
    "df = train[train['Survived'] == 0]\n",
    "sns.distplot(df['Fare'].dropna(),  kde=False, label='Died')\n",
    "df = train[train['Survived'] == 1]\n",
    "sns.distplot(df['Fare'].dropna(),  kde=False, label='Survived')\n",
    "plt.legend()\n",
    "plt.title('Fare of Survival vs Death')\n",
    "plt.xlabel('Fare')\n",
    "plt.ylabel('Number')\n",
    "plt.show()"
   ]
  },
  {
   "cell_type": "code",
   "execution_count": 192,
   "metadata": {},
   "outputs": [
    {
     "data": {
      "text/plain": [
       "[]"
      ]
     },
     "execution_count": 192,
     "metadata": {},
     "output_type": "execute_result"
    },
    {
     "data": {
      "image/png": "[encoded data removed]",
      "text/plain": [
       "<Figure size 432x288 with 1 Axes>"
      ]
     },
     "metadata": {
      "needs_background": "light"
     },
     "output_type": "display_data"
    }
   ],
   "source": [
    "sns.scatterplot(x=train['Fare'], y=train['CabinLetter'], hue=train['Survived'])\n",
    "plt.plot()"
   ]
  },
  {
   "cell_type": "code",
   "execution_count": null,
   "metadata": {},
   "outputs": [],
   "source": []
  },
  {
   "cell_type": "code",
   "execution_count": null,
   "metadata": {},
   "outputs": [],
   "source": []
  },
  {
   "cell_type": "code",
   "execution_count": 193,
   "metadata": {},
   "outputs": [
    {
     "name": "stdout",
     "output_type": "stream",
     "text": [
      "    PassengerId  Survived  Pclass  Sex   Age  SibSp  Parch     Fare Cabin  \\\n",
      "0             1         0       3    1  22.0      1      0   7.2500         \n",
      "1             2         1       1    0  38.0      1      0  71.2833   c85   \n",
      "2             3         1       3    0  26.0      0      0   7.9250         \n",
      "3             4         1       1    0  35.0      1      0  53.1000  c123   \n",
      "4             5         0       3    1  35.0      0      0   8.0500         \n",
      "5             6         0       3    1   NaN      0      0   8.4583         \n",
      "6             7         0       1    1  54.0      0      0  51.8625   e46   \n",
      "7             8         0       3    1   2.0      3      1  21.0750         \n",
      "8             9         1       3    0  27.0      0      2  11.1333         \n",
      "9            10         1       2    0  14.0      1      0  30.0708         \n",
      "10           11         1       3    0   4.0      1      1  16.7000    g6   \n",
      "11           12         1       1    0  58.0      0      0  26.5500  c103   \n",
      "12           13         0       3    1  20.0      0      0   8.0500         \n",
      "13           14         0       3    1  39.0      1      5  31.2750         \n",
      "14           15         0       3    0  14.0      0      0   7.8542         \n",
      "15           16         1       2    0  55.0      0      0  16.0000         \n",
      "16           17         0       3    1   2.0      4      1  29.1250         \n",
      "17           18         1       2    1   NaN      0      0  13.0000         \n",
      "18           19         0       3    0  31.0      1      0  18.0000         \n",
      "19           20         1       3    0   NaN      0      0   7.2250         \n",
      "\n",
      "   Embarked       LastName    Title TicketLetters  TicketNumbers  AgeDecade  \\\n",
      "0         S         braund       mr             a       521171.0        2.0   \n",
      "1         C        cumings      mrs            pc        17599.0        3.0   \n",
      "2         S      heikkinen     miss         stono     23101282.0        2.0   \n",
      "3         S       futrelle      mrs                     113803.0        3.0   \n",
      "4         S          allen       mr                     373450.0        3.0   \n",
      "5         Q          moran       mr                     330877.0        NaN   \n",
      "6         S       mccarthy       mr                      17463.0        5.0   \n",
      "7         S        palsson   master                     349909.0        0.0   \n",
      "8         S        johnson      mrs                     347742.0        2.0   \n",
      "9         C         nasser      mrs                     237736.0        1.0   \n",
      "10        S      sandstrom     miss            pp         9549.0        0.0   \n",
      "11        S        bonnell     miss                     113783.0        5.0   \n",
      "12        S    saundercock       mr             a        52151.0        2.0   \n",
      "13        S      andersson       mr                     347082.0        3.0   \n",
      "14        S        vestrom     miss                     350406.0        1.0   \n",
      "15        S        hewlett      mrs                     248706.0        5.0   \n",
      "16        Q           rice   master                     382652.0        0.0   \n",
      "17        S       williams       mr                     244373.0        NaN   \n",
      "18        S  vander planke      mrs                     345763.0        3.0   \n",
      "19        C     masselmani      mrs                       2649.0        NaN   \n",
      "\n",
      "   CabinLetter  \n",
      "0               \n",
      "1            c  \n",
      "2               \n",
      "3            c  \n",
      "4               \n",
      "5               \n",
      "6            e  \n",
      "7               \n",
      "8               \n",
      "9               \n",
      "10           g  \n",
      "11           c  \n",
      "12              \n",
      "13              \n",
      "14              \n",
      "15              \n",
      "16              \n",
      "17              \n",
      "18              \n",
      "19              \n"
     ]
    }
   ],
   "source": [
    "print(train.head(20))"
   ]
  },
  {
   "cell_type": "code",
   "execution_count": null,
   "metadata": {},
   "outputs": [],
   "source": []
  }
 ],
 "metadata": {
  "kernelspec": {
   "display_name": "Python 3",
   "language": "python",
   "name": "python3"
  },
  "language_info": {
   "codemirror_mode": {
    "name": "ipython",
    "version": 3
   },
   "file_extension": ".py",
   "mimetype": "text/x-python",
   "name": "python",
   "nbconvert_exporter": "python",
   "pygments_lexer": "ipython3",
   "version": "3.7.4"
  }
 },
 "nbformat": 4,
 "nbformat_minor": 2
}
