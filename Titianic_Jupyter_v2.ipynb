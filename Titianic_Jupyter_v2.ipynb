{
 "cells": [
  {
   "cell_type": "markdown",
   "metadata": {},
   "source": [
    "The goal of the Titanic competition is to predict who survived the disaster based on some information about the individual. The competition is described at https://www.kaggle.com/c/titanic/overview\n",
    "\n",
    "__Data Dictionary__\n",
    "- Survival: 0 = No, 1 = Yes\n",
    "- Pclass: Ticket class,, 1st = Upper 2nd = Middle 3rd = Lower\n",
    "- Sex: sex of the individual\n",
    "- Age: age in years\n",
    "- SibSp: The # of siblings / spouses aboard the Titanic Sibling = brother, sister, stepbrother, stepsister Spouse = husband, wife (mistresses and fiancés were ignored)\n",
    "- Parch: The # of parents / children aboard the Titanic Parent = mother, father Child = daughter, son, stepdaughter, stepson Some children travelled only with a nanny, therefore parch=0 for them.\n",
    "- Ticket: Ticket number\n",
    "- Fare: Passenger fare\n",
    "- Cabin: Cabin number embarked\n",
    "- Port of Embarkation: C = Cherbourg, Q = Queenstown, S = Southampton"
   ]
  },
  {
   "cell_type": "code",
   "execution_count": 1208,
   "metadata": {},
   "outputs": [],
   "source": [
    "import pandas as pd\n",
    "import numpy as np\n",
    "import matplotlib.pyplot as plt\n",
    "import seaborn as sns\n",
    "import re\n",
    "from collections import Counter \n",
    "import scipy.stats as stats\n",
    "import string\n",
    "from sklearn.impute import SimpleImputer\n",
    "from sklearn.model_selection import train_test_split\n",
    "from sklearn.ensemble import RandomForestClassifier\n",
    "from sklearn.model_selection import cross_val_score\n",
    "from sklearn.neighbors import KNeighborsClassifier\n",
    "from sklearn.naive_bayes import GaussianNB"
   ]
  },
  {
   "cell_type": "markdown",
   "metadata": {},
   "source": [
    "Loaded the train and test data into pandas data frame. Both the train and test data contain missing values. Train has is missing 177 age values, 687 cabin values and 2 embarked values. Test data is missing 86 age values, 1 fare value and 327 cabin values. The missing values will either need to be imputed (filled in based on training set data) or the rows will need to be removed. Used describe to look into the statistics of the numeric columns. No obvious outliers are observed in the data. "
   ]
  },
  {
   "cell_type": "code",
   "execution_count": 1209,
   "metadata": {},
   "outputs": [],
   "source": [
    "target_column = ['Survived']\n",
    "# load in the csv files\n",
    "test = pd.read_csv('data_files/test.csv')\n",
    "train = pd.read_csv('data_files/train.csv')"
   ]
  },
  {
   "cell_type": "markdown",
   "metadata": {},
   "source": [
    "Check_nans return a data frame with percentage missing calculated for the test and train dataframe. "
   ]
  },
  {
   "cell_type": "code",
   "execution_count": 1210,
   "metadata": {},
   "outputs": [],
   "source": [
    "def check_nans(train_df, test_df):\n",
    "    train_nan = train_df.isna().sum() / len(train_df) * 100\n",
    "    train_nan.sort_values(inplace=True, ascending=False)\n",
    "    test_nan = test_df.isna().sum() / len(test_df) * 100\n",
    "    test_nan.sort_values(inplace=True, ascending=False)\n",
    "    return_df = pd.concat([train_nan, test_nan], axis=1)\n",
    "    return_df.columns = ['Train', 'Test']\n",
    "    return return_df"
   ]
  },
  {
   "cell_type": "code",
   "execution_count": 1211,
   "metadata": {},
   "outputs": [
    {
     "name": "stdout",
     "output_type": "stream",
     "text": [
      "                 Train       Test\n",
      "Cabin        77.104377  78.229665\n",
      "Age          19.865320  20.574163\n",
      "Embarked      0.224467   0.000000\n",
      "Fare          0.000000   0.239234\n",
      "Ticket        0.000000   0.000000\n",
      "Parch         0.000000   0.000000\n",
      "SibSp         0.000000   0.000000\n",
      "Sex           0.000000   0.000000\n",
      "Name          0.000000   0.000000\n",
      "Pclass        0.000000   0.000000\n",
      "Survived      0.000000        NaN\n",
      "PassengerId   0.000000   0.000000\n"
     ]
    }
   ],
   "source": [
    "print(check_nans(train, test))"
   ]
  },
  {
   "cell_type": "code",
   "execution_count": 1212,
   "metadata": {},
   "outputs": [
    {
     "name": "stdout",
     "output_type": "stream",
     "text": [
      "\n",
      "Describe train data\n",
      "       PassengerId    Survived      Pclass         Age       SibSp  \\\n",
      "count   891.000000  891.000000  891.000000  714.000000  891.000000   \n",
      "mean    446.000000    0.383838    2.308642   29.699118    0.523008   \n",
      "std     257.353842    0.486592    0.836071   14.526497    1.102743   \n",
      "min       1.000000    0.000000    1.000000    0.420000    0.000000   \n",
      "25%     223.500000    0.000000    2.000000   20.125000    0.000000   \n",
      "50%     446.000000    0.000000    3.000000   28.000000    0.000000   \n",
      "75%     668.500000    1.000000    3.000000   38.000000    1.000000   \n",
      "max     891.000000    1.000000    3.000000   80.000000    8.000000   \n",
      "\n",
      "            Parch        Fare  \n",
      "count  891.000000  891.000000  \n",
      "mean     0.381594   32.204208  \n",
      "std      0.806057   49.693429  \n",
      "min      0.000000    0.000000  \n",
      "25%      0.000000    7.910400  \n",
      "50%      0.000000   14.454200  \n",
      "75%      0.000000   31.000000  \n",
      "max      6.000000  512.329200  \n",
      "\n",
      "Describe test data\n",
      "       PassengerId      Pclass         Age       SibSp       Parch        Fare\n",
      "count   418.000000  418.000000  332.000000  418.000000  418.000000  417.000000\n",
      "mean   1100.500000    2.265550   30.272590    0.447368    0.392344   35.627188\n",
      "std     120.810458    0.841838   14.181209    0.896760    0.981429   55.907576\n",
      "min     892.000000    1.000000    0.170000    0.000000    0.000000    0.000000\n",
      "25%     996.250000    1.000000   21.000000    0.000000    0.000000    7.895800\n",
      "50%    1100.500000    3.000000   27.000000    0.000000    0.000000   14.454200\n",
      "75%    1204.750000    3.000000   39.000000    1.000000    0.000000   31.500000\n",
      "max    1309.000000    3.000000   76.000000    8.000000    9.000000  512.329200\n"
     ]
    }
   ],
   "source": [
    "print('\\nDescribe train data')\n",
    "print(train.describe())\n",
    "print('\\nDescribe test data')\n",
    "print(test.describe())"
   ]
  },
  {
   "cell_type": "markdown",
   "metadata": {},
   "source": [
    "## Check for invalid values\n",
    "\n",
    "Created a function to check to see if any of the rows has invalid values (values that should not exist based on the data definition above). "
   ]
  },
  {
   "cell_type": "code",
   "execution_count": 1213,
   "metadata": {},
   "outputs": [
    {
     "name": "stdout",
     "output_type": "stream",
     "text": [
      "Check if train has any invalid values\n",
      "Check if test has any invalid values\n",
      "Column: Survived does not exist\n"
     ]
    }
   ],
   "source": [
    "target_column = 'Survived'\n",
    "\n",
    "# replace NaNs in the train and test dataframes with the missing value\n",
    "#train.fillna(missing_value, inplace=True)\n",
    "#test.fillna(missing_value, inplace=True)\n",
    "\n",
    "check_values_dict = {'Survived':[0, 1], \n",
    "                     'Pclass':[1, 2, 3], \n",
    "                     'Sex':['male', 'female'],\n",
    "                     'Embarked':['C', 'Q', 'S']}\n",
    "\n",
    "def check_values(df, check_dict):\n",
    "    return_dict = {}\n",
    "    for (key, value) in check_dict.items():\n",
    "        # check if the column exists in pandas\n",
    "        if key in df.columns:\n",
    "            # check column and see if there is any invalid values\n",
    "            temp_bool_series = ~df.loc[~df[key].isnull(), key].isin(value)\n",
    "            # if invalid values exist for the column. Store the row indices in dictionary\n",
    "            if temp_bool_series.sum() > 0:\n",
    "                return_dict[key] = temp_bool_series[temp_bool_series].index\n",
    "        else:\n",
    "            print('Column: ' + key + ' does not exist')\n",
    "    return return_dict\n",
    "\n",
    "def print_rows_with_invalid(df, invalid_dict):\n",
    "    for (key, value) in invalid_dict.items():\n",
    "        print(key + ' is invalid in the following rows')\n",
    "        print(df.iloc[value])\n",
    "\n",
    "print('Check if train has any invalid values')\n",
    "print_rows_with_invalid(train, check_values(train, check_values_dict))\n",
    "print('Check if test has any invalid values')\n",
    "print_rows_with_invalid(test, check_values(test, check_values_dict))\n"
   ]
  },
  {
   "cell_type": "markdown",
   "metadata": {},
   "source": [
    "## Feature conversion encoding\n",
    "\n",
    "For most machine learning algorithms, all features must be represented as numbers. Sex is encoded into integers. "
   ]
  },
  {
   "cell_type": "code",
   "execution_count": 1214,
   "metadata": {},
   "outputs": [],
   "source": [
    "def encode_sex(df):\n",
    "    df['Sex'] = (df['Sex'].str.lower() == 'male').astype(int)\n",
    "    return df\n",
    "\n",
    "train = encode_sex(train)\n",
    "test = encode_sex(test)"
   ]
  },
  {
   "cell_type": "markdown",
   "metadata": {},
   "source": [
    "Last name may contain useful information because families may have been more likely to survive or perish together. Following function extracts the last name and title. Last name is assumed to be to the left of the comma. The title may give a hint about age and it is assummed to be between the comma and period. Both are converted to lower case to handle if same word was capitalized differntly in different records."
   ]
  },
  {
   "cell_type": "code",
   "execution_count": 1215,
   "metadata": {},
   "outputs": [],
   "source": [
    "def parse_name(df):\n",
    "    split_name_at_comma = df['Name'].str.split(',', n=1, expand=True)\n",
    "    df['LastName'] = split_name_at_comma.get(0).str.lower()\n",
    "    split_name_at_period = split_name_at_comma.get(1).str.split('.', n=1, expand=True)\n",
    "    df['Title'] = split_name_at_period.get(0).str.lower().str.strip()\n",
    "    df.drop('Name', axis=1, inplace=True)\n",
    "    return df\n",
    "\n",
    "# extract name and title\n",
    "train = parse_name(train)\n",
    "test = parse_name(test)"
   ]
  },
  {
   "cell_type": "markdown",
   "metadata": {},
   "source": [
    "Ticket column contains letters and numbers. The column will be broken up into letters and numbers. For the text porition of the ticket number, the string is converted to lower case and the punctuation is stripped from the string. "
   ]
  },
  {
   "cell_type": "code",
   "execution_count": 1216,
   "metadata": {},
   "outputs": [],
   "source": [
    "# create dictionary of punctuation to remove\n",
    "punctuation_table = str.maketrans(dict.fromkeys(string.punctuation))\n",
    "\n",
    "def parse_ticket(df, punctuation_table):\n",
    "    # split ticket at the first space\n",
    "    split_ticket_at_space = df['Ticket'].str.split(' ', n=1, expand=True)\n",
    "    # convert to lower case and remove the punctuation\n",
    "    temp = split_ticket_at_space.get(0).str.lower().str.translate(punctuation_table)\n",
    "    df['TicketHeader'] = temp[~temp.str.isnumeric()]\n",
    "    df['TicketNumber'] = temp[temp.str.isnumeric()]\n",
    "    df.loc[~temp.str.isnumeric(), 'TicketNumber'] = split_ticket_at_space.get(1)\n",
    "    df['TicketNumber'] = df['TicketNumber'].astype('int64')\n",
    "    return df\n",
    "\n",
    "def extract_numbers_text(df, col):\n",
    "    # Extract letters from the col, combine into one string and convert to lower case\n",
    "    df[col + 'Letters'] = df[col].str.findall(r'[A-Za-z]+').str.join('').str.lower()\n",
    "    # Extract numbers from the col, combine to one string, replace empty strings with NaNs and convert to numeric\n",
    "    df[col + 'Numbers'] = pd.to_numeric(df[col].str.findall(r'[0-9]+').str.join('').replace('', np.nan))\n",
    "    #df.drop(col, axis=1, inplace=True)\n",
    "    return df\n",
    "    \n",
    "\n",
    "train = extract_numbers_text(train, 'Ticket')\n",
    "test = extract_numbers_text(test, 'Ticket')\n",
    "\n",
    "train = extract_numbers_text(train, 'Cabin')\n",
    "test = extract_numbers_text(test, 'Cabin')"
   ]
  },
  {
   "cell_type": "markdown",
   "metadata": {},
   "source": [
    "Some individuals have multiple cabins. For example, cabin = 'C1 C2 C3' would lead to an extracted text = 'ccc'. The following function extracts only the unique characters. For the example above, the extracted text would become 'c'."
   ]
  },
  {
   "cell_type": "code",
   "execution_count": 1217,
   "metadata": {},
   "outputs": [],
   "source": [
    "def create_set_string(string):\n",
    "    if type(string) == str:\n",
    "        string = ''.join(sorted(list(set(string))))\n",
    "    return string\n",
    " \n",
    "train['CabinLetters'] = train['CabinLetters'].apply(create_set_string)\n",
    "test['CabinLetters'] = test['CabinLetters'].apply(create_set_string)"
   ]
  },
  {
   "cell_type": "markdown",
   "metadata": {},
   "source": [
    "Calculate the percentage of records in the train and tet dataframes."
   ]
  },
  {
   "cell_type": "code",
   "execution_count": 1218,
   "metadata": {},
   "outputs": [],
   "source": [
    "def calc_percent_records(train_df, test_df,  col):\n",
    "    train_per = train_df[col].value_counts(dropna=False)/len(train_df)*100\n",
    "    test_per = test_df[col].value_counts(dropna=False)/len(test_df)*100\n",
    "    out_df = pd.concat([train_per, test_per], axis=1)\n",
    "    out_df.columns = ['Train', 'Test']\n",
    "    return out_df"
   ]
  },
  {
   "cell_type": "markdown",
   "metadata": {},
   "source": [
    "Looked at the percentage of people that were on the different decks. The percentage is low for all decks, which means the deck must be imputed from the other features in order for this to be a useful feature. "
   ]
  },
  {
   "cell_type": "code",
   "execution_count": 1219,
   "metadata": {},
   "outputs": [
    {
     "name": "stdout",
     "output_type": "stream",
     "text": [
      "         Train       Test\n",
      "NaN  77.104377  78.229665\n",
      "c     6.621773   8.373206\n",
      "b     5.274972   4.306220\n",
      "d     3.703704   3.110048\n",
      "e     3.591470   2.153110\n",
      "a     1.683502   1.674641\n",
      "f     1.010101   1.196172\n",
      "g     0.448934   0.239234\n",
      "fg    0.336700   0.239234\n",
      "t     0.112233        NaN\n",
      "ef    0.112233   0.478469\n"
     ]
    }
   ],
   "source": [
    "print(calc_percent_records(train, test, 'CabinLetters'))"
   ]
  },
  {
   "cell_type": "markdown",
   "metadata": {},
   "source": [
    "## Impute Missing Data\n",
    "\n",
    "The columns age, cabin, embarked and fare have NaN values. Exploratory data anlysis is performed to see the correlation between parameters with goal of using a different parameter to guess what the missing value should be.\n",
    "\n",
    "Train has is missing 177 age values, 687 cabin values and 2 embarked values. Test data is missing 86 age values, 1 fare value and 327 cabin values.\n",
    "\n"
   ]
  },
  {
   "cell_type": "markdown",
   "metadata": {},
   "source": [
    "### Fare \n",
    "\n",
    "Fare and Pclass should be correlated. Higher fare with better class (lower number). Histogram was created to look for the correlation. Pclass = 1 has higher ticket price than Pclass = 2 and 3. The fare is non gaussin for the different Pclasses"
   ]
  },
  {
   "cell_type": "code",
   "execution_count": 1220,
   "metadata": {},
   "outputs": [
    {
     "data": {
      "image/png": "[encoded data removed]",
      "text/plain": [
       "<Figure size 432x288 with 1 Axes>"
      ]
     },
     "metadata": {
      "needs_background": "light"
     },
     "output_type": "display_data"
    }
   ],
   "source": [
    "def multi_hist(df, value_col, hue_col, bins):\n",
    "    unique_values = sorted(df[hue_col].unique())\n",
    "    for value in unique_values:\n",
    "        selected_entries = df[df[hue_col] == value]\n",
    "        label = hue_col + ' = '+ str(value)\n",
    "        sns.distplot(selected_entries[value_col].dropna(),  kde=False, label=label, bins=bins)\n",
    "    plt.legend()\n",
    "    plt.xlabel(value_col)\n",
    "    plt.ylabel('Number')\n",
    "    plt.show()\n",
    "    return None\n",
    "\n",
    "bins = np.arange(0, 90, 10)\n",
    "multi_hist(train, 'Fare', 'Pclass', bins=bins)\n",
    "#Note: There is a new function called sns.histogram that should be released soon which will do the above better"
   ]
  },
  {
   "cell_type": "markdown",
   "metadata": {},
   "source": [
    "A function is created to look at the emperical cummulative distribution function (ECDF). ECDF is another way to look at the distribution of the data. From the ECDF, there is large difference in the distribution for fare of pclass = 1 and the other pclasses. The difference between pclass = 2 and pclass = 3 is small. "
   ]
  },
  {
   "cell_type": "code",
   "execution_count": 1221,
   "metadata": {},
   "outputs": [
    {
     "data": {
      "image/png": "[encoded data removed]",
      "text/plain": [
       "<Figure size 432x288 with 1 Axes>"
      ]
     },
     "metadata": {
      "needs_background": "light"
     },
     "output_type": "display_data"
    },
    {
     "name": "stdout",
     "output_type": "stream",
     "text": [
      "             mean   median        std  min       max  count\n",
      "Pclass                                                     \n",
      "1       84.154687  60.2875  78.380373  0.0  512.3292    216\n",
      "2       20.662183  14.2500  13.417399  0.0   73.5000    184\n",
      "3       13.675550   8.0500  11.778142  0.0   69.5500    491\n"
     ]
    }
   ],
   "source": [
    "def multi_ecdf(df, value_col, hue_col):\n",
    "    unique_values = sorted(df[hue_col].dropna().unique())\n",
    "    for value in unique_values:\n",
    "        selected_entries = df[df[hue_col] == value]\n",
    "        label = hue_col + ' = '+ str(value)\n",
    "        \"\"\" Compute ECDF \"\"\"\n",
    "        x = np.sort(selected_entries[value_col].dropna())\n",
    "        n = x.size\n",
    "        y = np.arange(1, n+1) / n\n",
    "        sns.scatterplot(x, y, label=label)\n",
    "    plt.legend()\n",
    "    plt.xlabel(value_col)\n",
    "    plt.ylabel('Cummulative Probability')\n",
    "    plt.show()\n",
    "    return None\n",
    "\n",
    "multi_ecdf(train, 'Fare', 'Pclass')\n",
    "\n",
    "print(train.groupby('Pclass')['Fare'].agg([np.mean, np.median, np.std, 'min', 'max', 'count']))"
   ]
  },
  {
   "cell_type": "markdown",
   "metadata": {},
   "source": [
    "The missing fare will be imputed by using the median fare from train for the given pclass. Additionally, fares of 0 will be considered missing. This reduces the impact of the outliers observed in Pclass = 1."
   ]
  },
  {
   "cell_type": "code",
   "execution_count": 1222,
   "metadata": {},
   "outputs": [],
   "source": [
    "train['Fare'] = train['Fare'].replace(0, np.nan)\n",
    "test['Fare'] = test['Fare'].replace(0, np.nan)\n",
    "\n",
    "def impute_fare(train, test):\n",
    "    median_fare_by_class = train.groupby('Pclass')['Fare'].agg(np.median).round(2)\n",
    "    for p_class in median_fare_by_class.index:\n",
    "        mask_train = train['Fare'].isna() & (train['Pclass'] == p_class)\n",
    "        mask_test = test['Fare'].isna() & (test['Pclass'] == p_class)\n",
    "        train.loc[mask_train, 'Fare'] = median_fare_by_class[p_class]\n",
    "        test.loc[mask_test, 'Fare'] = median_fare_by_class[p_class]\n",
    "    return train, test\n",
    "\n",
    "train, test = impute_fare(train, test)"
   ]
  },
  {
   "cell_type": "markdown",
   "metadata": {},
   "source": [
    "### Age\n",
    "\n",
    "Age may be correlated with the title of the person (ex. Mr., Mrs., ....). In order to determine this, histograms were created for the different titles. Before creating the historam any title with very low percentage is merged into a new category callled other. "
   ]
  },
  {
   "cell_type": "code",
   "execution_count": 1223,
   "metadata": {},
   "outputs": [
    {
     "name": "stdout",
     "output_type": "stream",
     "text": [
      "                  Train       Test\n",
      "mr            58.024691  57.416268\n",
      "miss          20.426487  18.660287\n",
      "mrs           14.029181  17.224880\n",
      "master         4.489338   5.023923\n",
      "dr             0.785634   0.239234\n",
      "rev            0.673401   0.478469\n",
      "col            0.224467   0.478469\n",
      "major          0.224467        NaN\n",
      "mlle           0.224467        NaN\n",
      "ms             0.112233   0.239234\n",
      "capt           0.112233        NaN\n",
      "mme            0.112233        NaN\n",
      "jonkheer       0.112233        NaN\n",
      "the countess   0.112233        NaN\n",
      "lady           0.112233        NaN\n",
      "sir            0.112233        NaN\n",
      "don            0.112233        NaN\n",
      "dona                NaN   0.239234\n"
     ]
    }
   ],
   "source": [
    "print(calc_percent_records(train, test, 'Title'))"
   ]
  },
  {
   "cell_type": "markdown",
   "metadata": {},
   "source": [
    "Some of the titles are used very infrequently. Those titles will not be useful for training. The following function will merge titles with low frequency into a new title called other."
   ]
  },
  {
   "cell_type": "code",
   "execution_count": 1224,
   "metadata": {},
   "outputs": [],
   "source": [
    "def merge_values(df, col, threshold, new_value):\n",
    "    value_precent = df[col].value_counts() / df[col].value_counts().sum() * 100\n",
    "    merge_index = value_precent[value_precent < threshold].index\n",
    "    df.loc[df[col].isin(merge_index), col] = new_value\n",
    "    return df"
   ]
  },
  {
   "cell_type": "code",
   "execution_count": 1225,
   "metadata": {},
   "outputs": [
    {
     "name": "stdout",
     "output_type": "stream",
     "text": [
      "            Train       Test\n",
      "mr      58.024691  57.416268\n",
      "miss    20.426487  18.660287\n",
      "mrs     14.029181  17.224880\n",
      "master   4.489338   5.023923\n",
      "other    3.030303   1.674641\n"
     ]
    }
   ],
   "source": [
    "train = merge_values(train, 'Title', 4, 'other')\n",
    "test = merge_values(test, 'Title', 4, 'other')\n",
    "print(calc_percent_records(train, test, 'Title'))"
   ]
  },
  {
   "cell_type": "markdown",
   "metadata": {},
   "source": [
    "Create an ECDF on the age to better determine if a title can be used to impute age. "
   ]
  },
  {
   "cell_type": "code",
   "execution_count": 1226,
   "metadata": {
    "scrolled": true
   },
   "outputs": [
    {
     "data": {
      "image/png": "[encoded data removed]",
      "text/plain": [
       "<Figure size 432x288 with 1 Axes>"
      ]
     },
     "metadata": {
      "needs_background": "light"
     },
     "output_type": "display_data"
    }
   ],
   "source": [
    "multi_ecdf(train, 'Age', 'Title')"
   ]
  },
  {
   "cell_type": "code",
   "execution_count": 1227,
   "metadata": {},
   "outputs": [
    {
     "name": "stdout",
     "output_type": "stream",
     "text": [
      "             mean  median        std    min   max  count\n",
      "Title                                                   \n",
      "master   4.574167     3.5   3.619872   0.42  12.0     36\n",
      "miss    21.773973    21.0  12.990292   0.75  63.0    146\n",
      "mr      32.368090    30.0  12.708793  11.00  80.0    398\n",
      "mrs     35.898148    35.0  11.433628  14.00  63.0    108\n",
      "other   42.384615    44.5  13.200233  23.00  70.0     26\n"
     ]
    }
   ],
   "source": [
    "print(train.groupby('Title')['Age'].agg([np.mean, np.median, np.std, 'min', 'max', 'count']))"
   ]
  },
  {
   "cell_type": "markdown",
   "metadata": {},
   "source": [
    "Master is a good way to determine if a male is less than 10 years old. However, miss cannot be used by itself because it has a wide distribution. Looked at other variables can be used to determine if a miss is less than 10 years old.  The other two variables that may be helpful is Parch (# of parents and children on board) and SibSp (the number of siblings or spuses on board)."
   ]
  },
  {
   "cell_type": "code",
   "execution_count": 1228,
   "metadata": {},
   "outputs": [
    {
     "data": {
      "image/png": "[encoded data removed]",
      "text/plain": [
       "<Figure size 432x288 with 1 Axes>"
      ]
     },
     "metadata": {
      "needs_background": "light"
     },
     "output_type": "display_data"
    },
    {
     "data": {
      "image/png": "[encoded data removed]",
      "text/plain": [
       "<Figure size 432x288 with 1 Axes>"
      ]
     },
     "metadata": {
      "needs_background": "light"
     },
     "output_type": "display_data"
    }
   ],
   "source": [
    "multi_ecdf(train[train['Title'] == 'miss'], 'Age', 'Parch')\n",
    "mask = (train['Title'] == 'miss') & (train['Parch'].isin([1, 2]))\n",
    "sns.distplot(train[mask]['Age'].dropna(),  kde=False, bins=np.arange(0, 90, 10))\n",
    "plt.show()"
   ]
  },
  {
   "cell_type": "markdown",
   "metadata": {},
   "source": [
    "If the miss has at least one parent, she is likely less than 20 years old."
   ]
  },
  {
   "cell_type": "code",
   "execution_count": 1229,
   "metadata": {},
   "outputs": [
    {
     "data": {
      "image/png": "[encoded data removed]",
      "text/plain": [
       "<Figure size 432x288 with 1 Axes>"
      ]
     },
     "metadata": {
      "needs_background": "light"
     },
     "output_type": "display_data"
    }
   ],
   "source": [
    "multi_ecdf(train[train['Title'] == 'miss'], 'Age', 'SibSp')"
   ]
  },
  {
   "cell_type": "markdown",
   "metadata": {},
   "source": [
    "The amount of sibling does not seem to be a good metric. There are individuals with no siblings that are less than 10 years. During the titanic disaster, women and children were the first ones on the lifeboats. Therefore, I will create a new feature called child. This feature is to capture any individual that is less than 10 years old. If the age is blank, it will assume that all individuals with the title master and miss with at least one parent is also a child."
   ]
  },
  {
   "cell_type": "code",
   "execution_count": 1230,
   "metadata": {},
   "outputs": [
    {
     "name": "stdout",
     "output_type": "stream",
     "text": [
      "0    786\n",
      "1    105\n",
      "Name: Child, dtype: int64\n",
      "0    361\n",
      "1     57\n",
      "Name: Child, dtype: int64\n"
     ]
    }
   ],
   "source": [
    "def encode_child(df, age):\n",
    "    df['Child'] = 0\n",
    "    age_mask = (df['Age'] <= age)\n",
    "    master_mask = (df['Title'] == 'master')\n",
    "    miss_mask = (train['Title'] == 'miss') & (train['Parch'].isin([1, 2]))\n",
    "    df.loc[(age_mask | master_mask | miss_mask),'Child'] = 1\n",
    "    return df\n",
    "\n",
    "train = encode_child(train, 10)\n",
    "test = encode_child(test, 10)\n",
    "\n",
    "\n",
    "print(train['Child'].value_counts())\n",
    "print(test['Child'].value_counts())"
   ]
  },
  {
   "cell_type": "markdown",
   "metadata": {},
   "source": [
    "Group age by decade and look at the survival rate for the different groups."
   ]
  },
  {
   "cell_type": "code",
   "execution_count": 1231,
   "metadata": {},
   "outputs": [
    {
     "name": "stdout",
     "output_type": "stream",
     "text": [
      "               mean  count\n",
      "AgeDecade                 \n",
      "0.0        0.612903     62\n",
      "1.0        0.401961    102\n",
      "2.0        0.350000    220\n",
      "3.0        0.437126    167\n",
      "4.0        0.382022     89\n",
      "5.0        0.416667     48\n",
      "6.0        0.315789     19\n",
      "7.0        0.000000      6\n",
      "8.0        1.000000      1\n"
     ]
    }
   ],
   "source": [
    "train['AgeDecade'] = (train['Age'] / 10).apply(np.floor)\n",
    "trained_grouped_by_age_decade = train.groupby('AgeDecade')\n",
    "print(trained_grouped_by_age_decade['Survived'].agg([np.mean, 'count']))"
   ]
  },
  {
   "cell_type": "markdown",
   "metadata": {},
   "source": [
    "Only indiviudals less than 10 years old have significantly different survival rate compared to the other age groups. This age group is covered by the new feature called Child. Age will be dropped because it has little effect on the survival rate and it cannot be imputed by the other features."
   ]
  },
  {
   "cell_type": "code",
   "execution_count": 1232,
   "metadata": {},
   "outputs": [],
   "source": [
    "train.drop(['Age', 'AgeDecade'], axis=1, inplace=True)\n",
    "test.drop('Age', axis=1, inplace=True)"
   ]
  },
  {
   "cell_type": "markdown",
   "metadata": {},
   "source": [
    "### Cabin ###\n",
    "\n",
    "Check if ticket number can be used to fill in cabin. People with the same ticket number should be in the same cabin."
   ]
  },
  {
   "cell_type": "code",
   "execution_count": 1233,
   "metadata": {},
   "outputs": [
    {
     "name": "stdout",
     "output_type": "stream",
     "text": [
      "10\n",
      "[3.0, 2668.0, 17421.0, 17755.0, 17757.0, 17760.0, 17761.0, 19877.0, 36928.0, 113781.0]\n",
      "     PassengerId  Survived  Pclass  Sex  SibSp  Parch  Ticket    Fare  \\\n",
      "297          298         0       1    0      1      2  113781  151.55   \n",
      "305          306         1       1    1      1      2  113781  151.55   \n",
      "498          499         0       1    0      1      2  113781  151.55   \n",
      "708          709         1       1    0      0      0  113781  151.55   \n",
      "\n",
      "       Cabin Embarked LastName   Title TicketLetters  TicketNumbers  \\\n",
      "297  C22 C26        S  allison    miss                     113781.0   \n",
      "305  C22 C26        S  allison  master                     113781.0   \n",
      "498  C22 C26        S  allison     mrs                     113781.0   \n",
      "708      NaN        S  cleaver    miss                     113781.0   \n",
      "\n",
      "    CabinLetters  CabinNumbers  Child  \n",
      "297            c        2226.0      1  \n",
      "305            c        2226.0      1  \n",
      "498            c        2226.0      0  \n",
      "708          NaN           NaN      0  \n"
     ]
    }
   ],
   "source": [
    "# list of ticket numbers that have a not null cabin\n",
    "ticket_numbers_not_null = train[train['Cabin'].notnull()]['TicketNumbers'].unique()\n",
    "# list of ticket numbers that have a null cabin\n",
    "ticket_numbers_null = train[train['Cabin'].isna()]['TicketNumbers'].unique()\n",
    "# create a list of ticket numbers with at least one nul value and one not null value\n",
    "common_ticket_numbers = sorted(list(set(ticket_numbers_not_null) & set(ticket_numbers_null)))\n",
    "print(len(common_ticket_numbers))\n",
    "print(common_ticket_numbers)\n",
    "print(train[train['TicketNumbers'] == 113781])"
   ]
  },
  {
   "cell_type": "markdown",
   "metadata": {},
   "source": [
    "Unfortunately, only 10 ticket numbers have at least one null and at least one not null value. Looking at some of the entries, those tickets are sold to people with different last name. Therefore, cabin cannot be imputed from ticket number.\n",
    "\n",
    "Check if last name can be used to fill in cabin. It is likely that people with the same last night will be in the same cabin."
   ]
  },
  {
   "cell_type": "code",
   "execution_count": 1234,
   "metadata": {},
   "outputs": [
    {
     "name": "stdout",
     "output_type": "stream",
     "text": [
      "14\n",
      "['allen', 'brown', 'carlsson', 'carter', 'daly', 'flynn', 'harper', 'harris', 'hoyt', 'keane', 'peter', 'smith', 'webber', 'wick']\n",
      "     PassengerId  Survived  Pclass  Sex  SibSp  Parch  Ticket   Fare    Cabin  \\\n",
      "249          250         0       2    1      1      0  244252   26.0      NaN   \n",
      "390          391         1       1    1      1      2  113760  120.0  B96 B98   \n",
      "435          436         1       1    0      1      2  113760  120.0  B96 B98   \n",
      "763          764         1       1    0      1      2  113760  120.0  B96 B98   \n",
      "802          803         1       1    1      1      2  113760  120.0  B96 B98   \n",
      "854          855         0       2    0      1      0  244252   26.0      NaN   \n",
      "\n",
      "    Embarked LastName   Title TicketLetters  TicketNumbers CabinLetters  \\\n",
      "249        S   carter   other                     244252.0          NaN   \n",
      "390        S   carter      mr                     113760.0            b   \n",
      "435        S   carter    miss                     113760.0            b   \n",
      "763        S   carter     mrs                     113760.0            b   \n",
      "802        S   carter  master                     113760.0            b   \n",
      "854        S   carter     mrs                     244252.0          NaN   \n",
      "\n",
      "     CabinNumbers  Child  \n",
      "249           NaN      0  \n",
      "390        9698.0      0  \n",
      "435        9698.0      1  \n",
      "763        9698.0      0  \n",
      "802        9698.0      1  \n",
      "854           NaN      0  \n"
     ]
    }
   ],
   "source": [
    "# list of ticket numbers that have a not null cabin\n",
    "last_name_numbers_not_null = train[train['Cabin'].notnull()]['LastName'].unique()\n",
    "# list of ticket numbers that have a null cabin\n",
    "last_name_numbers_null = train[train['Cabin'].isna()]['LastName'].unique()\n",
    "# create a list of ticket numbers with at least one nul value and one not null value\n",
    "common_last_name = sorted(list(set(last_name_numbers_not_null) & set(last_name_numbers_null)))\n",
    "print(len(common_last_name))\n",
    "print(common_last_name)\n",
    "print(train[train['LastName'] == 'carter'])"
   ]
  },
  {
   "cell_type": "markdown",
   "metadata": {},
   "source": [
    "Unfortunately, only 14 last names have at least one null and at least one not null value. Looking at some of the entries, those last names correspond to tickets with very different fares and classes. Therfore, last name cannot be used to determine cabin.\n",
    "\n",
    "Next, investigate if there is a relationship between the Pclass and the cabin deck."
   ]
  },
  {
   "cell_type": "code",
   "execution_count": 1235,
   "metadata": {},
   "outputs": [
    {
     "name": "stdout",
     "output_type": "stream",
     "text": [
      "Pclass       1  2  3\n",
      "Cabin Deck          \n",
      "a           15  0  0\n",
      "b           47  0  0\n",
      "c           59  0  0\n",
      "d           29  4  0\n",
      "e           25  4  3\n",
      "ef           0  0  1\n",
      "f            0  8  1\n",
      "fg           0  0  3\n",
      "g            0  0  4\n",
      "t            1  0  0\n"
     ]
    }
   ],
   "source": [
    "print(pd.crosstab(train['CabinLetters'], train['Pclass'], rownames=['Cabin Deck'], colnames=['Pclass']))"
   ]
  },
  {
   "cell_type": "markdown",
   "metadata": {},
   "source": [
    "Only first class passengers were on decks A, B and C. Decks D and E were mostly first class passengers. The other decks were mostly second or third class passengers."
   ]
  },
  {
   "cell_type": "code",
   "execution_count": 1236,
   "metadata": {},
   "outputs": [
    {
     "data": {
      "image/png": "[encoded data removed]",
      "text/plain": [
       "<Figure size 432x288 with 1 Axes>"
      ]
     },
     "metadata": {
      "needs_background": "light"
     },
     "output_type": "display_data"
    },
    {
     "name": "stdout",
     "output_type": "stream",
     "text": [
      "                    mean    median         std      min       max  count\n",
      "CabinLetters                                                            \n",
      "a              43.755887  39.60000   15.112007  26.0000   81.8583     15\n",
      "b             116.143211  80.00000  107.214675   5.0000  512.3292     47\n",
      "c             100.151341  83.47500   70.225588  26.5500  263.0000     59\n",
      "d              57.244576  53.10000   29.592832  12.8750  113.2750     33\n",
      "e              46.026694  45.18125   32.608315   8.0500  134.5000     32\n",
      "ef             22.358300  22.35830         NaN  22.3583   22.3583      1\n",
      "f              21.972222  26.00000   12.116907   7.7500   39.0000      9\n",
      "fg              7.650000   7.65000    0.000000   7.6500    7.6500      3\n",
      "g              13.581250  13.58125    3.601222  10.4625   16.7000      4\n",
      "t              35.500000  35.50000         NaN  35.5000   35.5000      1\n"
     ]
    }
   ],
   "source": [
    "multi_ecdf(train, 'Fare', 'CabinLetters')\n",
    "print(train.groupby(by='CabinLetters')['Fare'].agg([np.mean, np.median, np.std, 'min', 'max', 'count']))"
   ]
  },
  {
   "cell_type": "code",
   "execution_count": 1237,
   "metadata": {},
   "outputs": [
    {
     "data": {
      "image/png": "[encoded data removed]",
      "text/plain": [
       "<Figure size 432x288 with 1 Axes>"
      ]
     },
     "metadata": {
      "needs_background": "light"
     },
     "output_type": "display_data"
    },
    {
     "name": "stdout",
     "output_type": "stream",
     "text": [
      "                    mean  median         std      min       max  count\n",
      "CabinLetters                                                          \n",
      "a              43.755887  39.600   15.112007  26.0000   81.8583     15\n",
      "b             116.143211  80.000  107.214675   5.0000  512.3292     47\n",
      "c             100.151341  83.475   70.225588  26.5500  263.0000     59\n",
      "d              63.324286  75.250   26.172260  25.9292  113.2750     29\n",
      "e              55.740168  55.000   30.386910  25.5875  134.5000     25\n",
      "t              35.500000  35.500         NaN  35.5000   35.5000      1\n"
     ]
    }
   ],
   "source": [
    "multi_ecdf(train[train['Pclass'].isin([1])], 'Fare', 'CabinLetters')\n",
    "print(train[train['Pclass'].isin([1])].groupby(by='CabinLetters'\n",
    "                                              )['Fare'].agg([np.mean, np.median, np.std, 'min', 'max', 'count']))"
   ]
  },
  {
   "cell_type": "markdown",
   "metadata": {},
   "source": [
    "There appears to be no way to easily impute the cabin from the other data that should correlate with it. Therefore, cabin and cabin letters will be dropped."
   ]
  },
  {
   "cell_type": "code",
   "execution_count": 1238,
   "metadata": {},
   "outputs": [],
   "source": [
    "train.drop(['Cabin', 'CabinLetters', 'CabinNumbers'], axis=1, inplace=True)\n",
    "test.drop(['Cabin', 'CabinLetters', 'CabinNumbers'], axis=1, inplace=True)"
   ]
  },
  {
   "cell_type": "markdown",
   "metadata": {},
   "source": [
    "### Embarked ###"
   ]
  },
  {
   "cell_type": "markdown",
   "metadata": {},
   "source": [
    "Embarktation port is unlikely to be correlated with any other parameter. Missing values will be replaced with the most common values."
   ]
  },
  {
   "cell_type": "code",
   "execution_count": 1239,
   "metadata": {},
   "outputs": [],
   "source": [
    "embark_mode = train['Embarked'].mode()[0]\n",
    "train['Embarked'].fillna(embark_mode, inplace=True)\n",
    "test['Embarked'].fillna(embark_mode, inplace=True)"
   ]
  },
  {
   "cell_type": "markdown",
   "metadata": {},
   "source": [
    "For most machine learing algorithms, the data needs to be encoded as numbers. The following code encodes the location where the person embarked. "
   ]
  },
  {
   "cell_type": "code",
   "execution_count": 1240,
   "metadata": {},
   "outputs": [],
   "source": [
    "dict_encode_embarked = {'C':0, 'Q':1, 'S':2}\n",
    "train['Embarked'].replace(dict_encode_embarked, inplace=True)\n",
    "test['Embarked'].replace(dict_encode_embarked, inplace=True)"
   ]
  },
  {
   "cell_type": "markdown",
   "metadata": {},
   "source": [
    "### Fare Encoding ###"
   ]
  },
  {
   "cell_type": "markdown",
   "metadata": {},
   "source": [
    "Plot the ECDF of the fare column."
   ]
  },
  {
   "cell_type": "code",
   "execution_count": 1241,
   "metadata": {},
   "outputs": [
    {
     "data": {
      "image/png": "[encoded data removed]",
      "text/plain": [
       "<Figure size 432x288 with 1 Axes>"
      ]
     },
     "metadata": {
      "needs_background": "light"
     },
     "output_type": "display_data"
    }
   ],
   "source": [
    "def ecdf(df, value_col):\n",
    "    x = np.sort(df[value_col].dropna())\n",
    "    n = x.size\n",
    "    y = np.arange(1, n+1) / n\n",
    "    sns.scatterplot(x, y)\n",
    "    plt.xlabel(value_col)\n",
    "    plt.ylabel('Cummulative Probability')\n",
    "    plt.show()\n",
    "    return None\n",
    "\n",
    "ecdf(train, 'Fare')"
   ]
  },
  {
   "cell_type": "markdown",
   "metadata": {},
   "source": [
    "The fares have a long tail and are spread out. Will break up the fares into 10 separate categories of approximately the same size."
   ]
  },
  {
   "cell_type": "code",
   "execution_count": 1242,
   "metadata": {},
   "outputs": [
    {
     "name": "stdout",
     "output_type": "stream",
     "text": [
      "[  4.0125   7.7375   7.8958   8.05    11.2417  14.5     23.      27.7208\n",
      "  41.5792  77.9583 512.3292]\n"
     ]
    }
   ],
   "source": [
    "def determine_boundaries(df, col, numb_cats):\n",
    "    vals = np.sort(df[col].to_numpy())\n",
    "    numb_per_cat = len(vals) // numb_cats\n",
    "    mod = len(vals) % numb_cats\n",
    "    # create index array. Spread out the mod so that last bucket is not \n",
    "    # significantly larger than other buckets\n",
    "    indexes = np.arange(0, len(vals)+1, numb_per_cat)\n",
    "    mod_corr = np.zeros(numb_cats+1)\n",
    "    mod_corr[0:mod+1] = np.arange(0, mod+1)\n",
    "    mod_corr[mod+1:] = mod_corr[mod]\n",
    "    # correct for 0 indexing\n",
    "    indexes =  indexes + mod_corr - np.ones(numb_cats+1)\n",
    "    indexes[0] = 0\n",
    "    indexes = indexes.astype(int)\n",
    "    return vals[indexes]\n",
    "\n",
    "boundaries = determine_boundaries(train, 'Fare', 10)\n",
    "print(boundaries)"
   ]
  },
  {
   "cell_type": "code",
   "execution_count": 1243,
   "metadata": {},
   "outputs": [
    {
     "data": {
      "image/png": "[encoded data removed]",
      "text/plain": [
       "<Figure size 432x288 with 1 Axes>"
      ]
     },
     "metadata": {
      "needs_background": "light"
     },
     "output_type": "display_data"
    },
    {
     "name": "stdout",
     "output_type": "stream",
     "text": [
      "[  4.0125   7.7375   7.8958   8.05    11.2417  14.5     23.      27.7208\n",
      "  41.5792  77.9583 512.3292]\n"
     ]
    }
   ],
   "source": [
    "numb_cats= 10\n",
    "train['FareCats'], bins = pd.qcut(train['Fare'], numb_cats, retbins=True, labels=np.arange(0,numb_cats))\n",
    "sns.scatterplot(train['Fare'], train['FareCats'])\n",
    "plt.xlabel('Fare')\n",
    "plt.ylabel('Fare Category')\n",
    "plt.show()\n",
    "print(bins)"
   ]
  },
  {
   "cell_type": "markdown",
   "metadata": {},
   "source": [
    "Use the bins from train to encode the test data."
   ]
  },
  {
   "cell_type": "code",
   "execution_count": 1244,
   "metadata": {},
   "outputs": [
    {
     "name": "stdout",
     "output_type": "stream",
     "text": [
      "1    65\n",
      "4    48\n",
      "0    47\n",
      "8    45\n",
      "5    45\n",
      "9    44\n",
      "6    40\n",
      "3    31\n",
      "7    30\n",
      "2    23\n",
      "Name: FareCats, dtype: int64\n"
     ]
    },
    {
     "data": {
      "image/png": "[encoded data removed]",
      "text/plain": [
       "<Figure size 432x288 with 1 Axes>"
      ]
     },
     "metadata": {
      "needs_background": "light"
     },
     "output_type": "display_data"
    },
    {
     "name": "stdout",
     "output_type": "stream",
     "text": [
      "[  0.       7.7375   7.8958   8.05    11.2417  14.5     23.      27.7208\n",
      "  41.5792  77.9583 512.3292]\n"
     ]
    }
   ],
   "source": [
    "# ensure that all fares are encoded\n",
    "bins[0] = 0\n",
    "\n",
    "test['FareCats'], bins = pd.cut(test['Fare'], bins=bins, retbins=True, labels=np.arange(0,numb_cats))\n",
    "print(test['FareCats'].value_counts())\n",
    "sns.scatterplot(test['Fare'], test['FareCats'])\n",
    "plt.xlabel('Fare')\n",
    "plt.ylabel('Fare Category')\n",
    "plt.show()\n",
    "print(bins)"
   ]
  },
  {
   "cell_type": "markdown",
   "metadata": {},
   "source": [
    "Check to see if the fare categories have an impact on the survival rate."
   ]
  },
  {
   "cell_type": "code",
   "execution_count": 1245,
   "metadata": {},
   "outputs": [
    {
     "name": "stdout",
     "output_type": "stream",
     "text": [
      "FareCats\n",
      "0    0.177778\n",
      "1    0.228814\n",
      "2    0.227273\n",
      "3    0.273810\n",
      "4    0.375000\n",
      "5    0.456522\n",
      "6    0.465116\n",
      "7    0.388889\n",
      "8    0.500000\n",
      "9    0.758621\n",
      "Name: Survived, dtype: float64\n"
     ]
    }
   ],
   "source": [
    "print(train.groupby('FareCats')['Survived'].agg(np.mean))"
   ]
  },
  {
   "cell_type": "markdown",
   "metadata": {},
   "source": [
    "This looks like a good feature. Drop fare because it is redundant and convert FareCats into numbers."
   ]
  },
  {
   "cell_type": "code",
   "execution_count": 1246,
   "metadata": {},
   "outputs": [],
   "source": [
    "train.drop('Fare', inplace=True, axis=1)\n",
    "test.drop('Fare', inplace=True, axis=1)\n",
    "train['FareCats'] = train['FareCats'].astype(int)\n",
    "test['FareCats'] = test['FareCats'].astype(int)"
   ]
  },
  {
   "cell_type": "markdown",
   "metadata": {},
   "source": [
    "# Feature Checking #"
   ]
  },
  {
   "cell_type": "markdown",
   "metadata": {},
   "source": [
    "Determine which features have too few common entries to be useful by looking at the percentage of entries that contained the most common value. Also looked at the percentage entries that had the least common value to determine if any of the entries should be merged. "
   ]
  },
  {
   "cell_type": "code",
   "execution_count": 1247,
   "metadata": {},
   "outputs": [
    {
     "name": "stdout",
     "output_type": "stream",
     "text": [
      "Train\n",
      "           Column MostCommonValue  MCV_Percent LeastCommonValue  LCV_Percent\n",
      "0     PassengerId             891     0.112233                1     0.112233\n",
      "6          Ticket            1601     0.785634           315086     0.112233\n",
      "11  TicketNumbers            2343     0.785634           348124     0.112233\n",
      "8        LastName       andersson     1.010101            novel     0.112233\n",
      "10  TicketLetters              pc     6.734007              sop     0.112233\n",
      "13       FareCats               1    13.243547                2     7.407407\n",
      "2          Pclass               3    55.106622                2    20.650954\n",
      "9           Title              mr    58.024691            other     3.030303\n",
      "1        Survived               0    61.616162                1    38.383838\n",
      "3             Sex               1    64.758698                0    35.241302\n",
      "4           SibSp               0    68.237935                5     0.561167\n",
      "7        Embarked               2    72.502806                1     8.641975\n",
      "5           Parch               0    76.094276                6     0.112233\n",
      "12          Child               0    88.215488                1    11.784512\n",
      "Test\n",
      "           Column MostCommonValue  MCV_Percent LeastCommonValue  LCV_Percent\n",
      "0     PassengerId             891     0.112233                1     0.112233\n",
      "6          Ticket            1601     0.785634           315086     0.112233\n",
      "11  TicketNumbers            2343     0.785634           348124     0.112233\n",
      "8        LastName       andersson     1.010101            novel     0.112233\n",
      "10  TicketLetters              pc     6.734007              sop     0.112233\n",
      "13       FareCats               1    13.243547                2     7.407407\n",
      "2          Pclass               3    55.106622                2    20.650954\n",
      "9           Title              mr    58.024691            other     3.030303\n",
      "1        Survived               0    61.616162                1    38.383838\n",
      "3             Sex               1    64.758698                0    35.241302\n",
      "4           SibSp               0    68.237935                5     0.561167\n",
      "7        Embarked               2    72.502806                1     8.641975\n",
      "5           Parch               0    76.094276                6     0.112233\n",
      "12          Child               0    88.215488                1    11.784512\n"
     ]
    }
   ],
   "source": [
    "def common_percent(df):\n",
    "    ret_pd = pd.DataFrame(columns=['Column', 'MostCommonValue', 'MCV_Percent', 'LeastCommonValue', 'LCV_Percent'])\n",
    "    for col in df.columns:\n",
    "        value_counts = df[col].replace('', np.nan, regex=True).dropna().value_counts()\n",
    "        ret_pd = ret_pd.append({'Column': col,\n",
    "                                'MostCommonValue': value_counts.index[0],\n",
    "                                'MCV_Percent': value_counts.iloc[0]/len(df)*100,\n",
    "                                'LeastCommonValue': value_counts.index[-1],\n",
    "                                'LCV_Percent': value_counts.iloc[-1]/len(df)*100},\n",
    "                               ignore_index=True)\n",
    "        \n",
    "    return ret_pd.sort_values(by=['MCV_Percent', 'LCV_Percent'])\n",
    "\n",
    "print('Train')\n",
    "print(common_percent(train))\n",
    "\n",
    "print('Test')\n",
    "print(common_percent(train))"
   ]
  },
  {
   "cell_type": "markdown",
   "metadata": {},
   "source": [
    "Ticket, TicketLetters, TicketNumbers and LastName have entries with very low incidence. Therefore, they will be dropped.\n",
    "\n",
    "Title will be dropped becuase it was used to include the feature Child and also encodes gender which is in the Sex column."
   ]
  },
  {
   "cell_type": "code",
   "execution_count": 1248,
   "metadata": {},
   "outputs": [],
   "source": [
    "drop_list = ['Ticket', 'TicketNumbers', 'LastName', 'TicketLetters', 'Title']\n",
    "train.drop(drop_list, axis=1, inplace=True)\n",
    "test.drop(drop_list, axis=1, inplace=True)"
   ]
  },
  {
   "cell_type": "markdown",
   "metadata": {},
   "source": [
    "Parch and SibSp have some values that are very rare. Therefore, will investigate merging values."
   ]
  },
  {
   "cell_type": "code",
   "execution_count": 1249,
   "metadata": {},
   "outputs": [
    {
     "name": "stdout",
     "output_type": "stream",
     "text": [
      "       Train       Test\n",
      "0  76.094276  77.511962\n",
      "1  13.243547  12.440191\n",
      "2   8.978676   7.894737\n",
      "3   0.561167   0.717703\n",
      "4   0.448934   0.478469\n",
      "5   0.561167   0.239234\n",
      "6   0.112233   0.239234\n",
      "9        NaN   0.478469\n",
      "       Train       Test\n",
      "0  68.237935  67.703349\n",
      "1  23.456790  26.315789\n",
      "2   3.142536   3.349282\n",
      "4   2.020202   0.956938\n",
      "3   1.795735   0.956938\n",
      "8   0.785634   0.478469\n",
      "5   0.561167   0.239234\n"
     ]
    }
   ],
   "source": [
    "print(calc_percent_records(train, test, 'Parch'))\n",
    "print(calc_percent_records(train, test, 'SibSp'))"
   ]
  },
  {
   "cell_type": "markdown",
   "metadata": {},
   "source": [
    "For Parch, any entries with incidence less than 5% will be merged into a new category 3. For SibSp, any category with incidence less than 5% will be merged into a new category 2."
   ]
  },
  {
   "cell_type": "code",
   "execution_count": 1250,
   "metadata": {},
   "outputs": [],
   "source": [
    "train = merge_values(train, 'Parch', 5, 3)\n",
    "test = merge_values(test, 'Parch', 5, 3)\n",
    "train = merge_values(train, 'SibSp', 5, 2)\n",
    "test = merge_values(test, 'SibSp', 5, 2)"
   ]
  },
  {
   "cell_type": "code",
   "execution_count": 1251,
   "metadata": {},
   "outputs": [
    {
     "name": "stdout",
     "output_type": "stream",
     "text": [
      "       Train       Test\n",
      "0  76.094276  77.511962\n",
      "1  13.243547  12.440191\n",
      "2   8.978676   7.894737\n",
      "3   1.683502   2.153110\n",
      "       Train       Test\n",
      "0  68.237935  67.703349\n",
      "1  23.456790  26.315789\n",
      "2   8.305275   5.980861\n"
     ]
    }
   ],
   "source": [
    "print(calc_percent_records(train, test, 'Parch'))\n",
    "print(calc_percent_records(train, test, 'SibSp'))"
   ]
  },
  {
   "cell_type": "markdown",
   "metadata": {},
   "source": [
    "Before running machine learning on this data, all data must be converted to numeric values. The following checks that the columns are encoded as numbers."
   ]
  },
  {
   "cell_type": "code",
   "execution_count": 1252,
   "metadata": {},
   "outputs": [
    {
     "name": "stdout",
     "output_type": "stream",
     "text": [
      "PassengerId    int64\n",
      "Survived       int64\n",
      "Pclass         int64\n",
      "Sex            int64\n",
      "SibSp          int64\n",
      "Parch          int64\n",
      "Embarked       int64\n",
      "Child          int64\n",
      "FareCats       int64\n",
      "dtype: object\n",
      "PassengerId    int64\n",
      "Pclass         int64\n",
      "Sex            int64\n",
      "SibSp          int64\n",
      "Parch          int64\n",
      "Embarked       int64\n",
      "Child          int64\n",
      "FareCats       int64\n",
      "dtype: object\n"
     ]
    }
   ],
   "source": [
    "print(train.dtypes)\n",
    "print(test.dtypes)"
   ]
  },
  {
   "cell_type": "markdown",
   "metadata": {},
   "source": [
    "Check to see if any of the remaining columns have NaNs."
   ]
  },
  {
   "cell_type": "code",
   "execution_count": 1253,
   "metadata": {},
   "outputs": [
    {
     "name": "stdout",
     "output_type": "stream",
     "text": [
      "             Train  Test\n",
      "FareCats       0.0   0.0\n",
      "Child          0.0   0.0\n",
      "Embarked       0.0   0.0\n",
      "Parch          0.0   0.0\n",
      "SibSp          0.0   0.0\n",
      "Sex            0.0   0.0\n",
      "Pclass         0.0   0.0\n",
      "Survived       0.0   NaN\n",
      "PassengerId    0.0   0.0\n"
     ]
    }
   ],
   "source": [
    "print(check_nans(train, test))"
   ]
  },
  {
   "cell_type": "markdown",
   "metadata": {},
   "source": [
    "All of the data is encoded as numbers and all have the NaNs have been replaced with other values. To check if there is any redundant features, a correlation heat map will be created. Correlation only checks if there is a linear relationship. It will not capture a nonlinear relationship."
   ]
  },
  {
   "cell_type": "code",
   "execution_count": 1254,
   "metadata": {},
   "outputs": [
    {
     "data": {
      "image/png": "[encoded data removed]",
      "text/plain": [
       "<Figure size 432x288 with 2 Axes>"
      ]
     },
     "metadata": {
      "needs_background": "light"
     },
     "output_type": "display_data"
    }
   ],
   "source": [
    "sns.heatmap(train.drop(['PassengerId'], axis=1).corr(), cmap='viridis',annot = True)\n",
    "plt.show()"
   ]
  },
  {
   "cell_type": "markdown",
   "metadata": {},
   "source": [
    "There are correlations between the different values but nothing above 0.6. None of the featues will be dropped. "
   ]
  },
  {
   "cell_type": "markdown",
   "metadata": {},
   "source": [
    "# Machine Learning #"
   ]
  },
  {
   "cell_type": "markdown",
   "metadata": {},
   "source": [
    "Features and target need to be split up."
   ]
  },
  {
   "cell_type": "code",
   "execution_count": 1255,
   "metadata": {},
   "outputs": [],
   "source": [
    "train_features = train.drop(['PassengerId', 'Survived'], axis=1)\n",
    "train_target = train['Survived']\n",
    "test_features = test.drop(['PassengerId'], axis=1)"
   ]
  },
  {
   "cell_type": "markdown",
   "metadata": {},
   "source": [
    "RandomForestClassifier works well with categorical data. Therefore, it will be the first clssifier used. Cross validation will be used to "
   ]
  },
  {
   "cell_type": "code",
   "execution_count": 1256,
   "metadata": {},
   "outputs": [
    {
     "name": "stdout",
     "output_type": "stream",
     "text": [
      "[0.82511211 0.86098655 0.8161435  0.81081081]\n",
      "0.8282632408192947\n"
     ]
    }
   ],
   "source": [
    "rf = RandomForestClassifier(random_state=0)\n",
    "scores = cross_val_score(rf, train_features, train_target, cv=4)\n",
    "print(scores)\n",
    "print(np.mean(scores))"
   ]
  },
  {
   "cell_type": "code",
   "execution_count": 1257,
   "metadata": {},
   "outputs": [
    {
     "name": "stdout",
     "output_type": "stream",
     "text": [
      "[0.75784753 0.8206278  0.78923767 0.83783784]\n",
      "0.8013877105805357\n"
     ]
    }
   ],
   "source": [
    "knn = KNeighborsClassifier()\n",
    "scores = cross_val_score(knn, train_features, train_target, cv=4)\n",
    "print(scores)\n",
    "print(np.mean(scores))"
   ]
  },
  {
   "cell_type": "code",
   "execution_count": 1258,
   "metadata": {},
   "outputs": [
    {
     "name": "stdout",
     "output_type": "stream",
     "text": [
      "[0.68609865 0.79372197 0.77578475 0.7972973 ]\n",
      "0.7632256696158042\n"
     ]
    }
   ],
   "source": [
    "gnb = GaussianNB()\n",
    "scores = cross_val_score(gnb, train_features, train_target, cv=4)\n",
    "print(scores)\n",
    "print(np.mean(scores))"
   ]
  },
  {
   "cell_type": "code",
   "execution_count": null,
   "metadata": {},
   "outputs": [],
   "source": []
  },
  {
   "cell_type": "code",
   "execution_count": null,
   "metadata": {},
   "outputs": [],
   "source": []
  },
  {
   "cell_type": "code",
   "execution_count": null,
   "metadata": {},
   "outputs": [],
   "source": []
  },
  {
   "cell_type": "markdown",
   "metadata": {},
   "source": [
    "# TO DO: #\n",
    "- extratct what was the important parameters in random forest\n",
    "- perform hyperparameter tuning of the 3 models"
   ]
  },
  {
   "cell_type": "code",
   "execution_count": null,
   "metadata": {},
   "outputs": [],
   "source": []
  },
  {
   "cell_type": "markdown",
   "metadata": {},
   "source": []
  },
  {
   "cell_type": "code",
   "execution_count": null,
   "metadata": {},
   "outputs": [],
   "source": []
  },
  {
   "cell_type": "code",
   "execution_count": null,
   "metadata": {},
   "outputs": [],
   "source": []
  },
  {
   "cell_type": "code",
   "execution_count": 1259,
   "metadata": {},
   "outputs": [
    {
     "data": {
      "text/html": [
       "<div>\n",
       "<style scoped>\n",
       "    .dataframe tbody tr th:only-of-type {\n",
       "        vertical-align: middle;\n",
       "    }\n",
       "\n",
       "    .dataframe tbody tr th {\n",
       "        vertical-align: top;\n",
       "    }\n",
       "\n",
       "    .dataframe thead th {\n",
       "        text-align: right;\n",
       "    }\n",
       "</style>\n",
       "<table border=\"1\" class=\"dataframe\">\n",
       "  <thead>\n",
       "    <tr style=\"text-align: right;\">\n",
       "      <th></th>\n",
       "      <th>PassengerId</th>\n",
       "      <th>Survived</th>\n",
       "      <th>Pclass</th>\n",
       "      <th>Sex</th>\n",
       "      <th>SibSp</th>\n",
       "      <th>Parch</th>\n",
       "      <th>Embarked</th>\n",
       "      <th>Child</th>\n",
       "      <th>FareCats</th>\n",
       "    </tr>\n",
       "  </thead>\n",
       "  <tbody>\n",
       "    <tr>\n",
       "      <th>count</th>\n",
       "      <td>451.000000</td>\n",
       "      <td>451.0</td>\n",
       "      <td>451.000000</td>\n",
       "      <td>451.0</td>\n",
       "      <td>451.000000</td>\n",
       "      <td>451.000000</td>\n",
       "      <td>451.000000</td>\n",
       "      <td>451.0</td>\n",
       "      <td>451.000000</td>\n",
       "    </tr>\n",
       "    <tr>\n",
       "      <th>mean</th>\n",
       "      <td>453.882483</td>\n",
       "      <td>0.0</td>\n",
       "      <td>2.456763</td>\n",
       "      <td>1.0</td>\n",
       "      <td>0.241685</td>\n",
       "      <td>0.150776</td>\n",
       "      <td>1.631929</td>\n",
       "      <td>0.0</td>\n",
       "      <td>3.492239</td>\n",
       "    </tr>\n",
       "    <tr>\n",
       "      <th>std</th>\n",
       "      <td>257.480126</td>\n",
       "      <td>0.0</td>\n",
       "      <td>0.768703</td>\n",
       "      <td>0.0</td>\n",
       "      <td>0.517808</td>\n",
       "      <td>0.489324</td>\n",
       "      <td>0.725565</td>\n",
       "      <td>0.0</td>\n",
       "      <td>2.785168</td>\n",
       "    </tr>\n",
       "    <tr>\n",
       "      <th>min</th>\n",
       "      <td>1.000000</td>\n",
       "      <td>0.0</td>\n",
       "      <td>1.000000</td>\n",
       "      <td>1.0</td>\n",
       "      <td>0.000000</td>\n",
       "      <td>0.000000</td>\n",
       "      <td>0.000000</td>\n",
       "      <td>0.0</td>\n",
       "      <td>0.000000</td>\n",
       "    </tr>\n",
       "    <tr>\n",
       "      <th>25%</th>\n",
       "      <td>222.500000</td>\n",
       "      <td>0.0</td>\n",
       "      <td>2.000000</td>\n",
       "      <td>1.0</td>\n",
       "      <td>0.000000</td>\n",
       "      <td>0.000000</td>\n",
       "      <td>2.000000</td>\n",
       "      <td>0.0</td>\n",
       "      <td>1.000000</td>\n",
       "    </tr>\n",
       "    <tr>\n",
       "      <th>50%</th>\n",
       "      <td>465.000000</td>\n",
       "      <td>0.0</td>\n",
       "      <td>3.000000</td>\n",
       "      <td>1.0</td>\n",
       "      <td>0.000000</td>\n",
       "      <td>0.000000</td>\n",
       "      <td>2.000000</td>\n",
       "      <td>0.0</td>\n",
       "      <td>3.000000</td>\n",
       "    </tr>\n",
       "    <tr>\n",
       "      <th>75%</th>\n",
       "      <td>680.000000</td>\n",
       "      <td>0.0</td>\n",
       "      <td>3.000000</td>\n",
       "      <td>1.0</td>\n",
       "      <td>0.000000</td>\n",
       "      <td>0.000000</td>\n",
       "      <td>2.000000</td>\n",
       "      <td>0.0</td>\n",
       "      <td>6.000000</td>\n",
       "    </tr>\n",
       "    <tr>\n",
       "      <th>max</th>\n",
       "      <td>891.000000</td>\n",
       "      <td>0.0</td>\n",
       "      <td>3.000000</td>\n",
       "      <td>1.0</td>\n",
       "      <td>2.000000</td>\n",
       "      <td>3.000000</td>\n",
       "      <td>2.000000</td>\n",
       "      <td>0.0</td>\n",
       "      <td>9.000000</td>\n",
       "    </tr>\n",
       "  </tbody>\n",
       "</table>\n",
       "</div>"
      ],
      "text/plain": [
       "       PassengerId  Survived      Pclass    Sex       SibSp       Parch  \\\n",
       "count   451.000000     451.0  451.000000  451.0  451.000000  451.000000   \n",
       "mean    453.882483       0.0    2.456763    1.0    0.241685    0.150776   \n",
       "std     257.480126       0.0    0.768703    0.0    0.517808    0.489324   \n",
       "min       1.000000       0.0    1.000000    1.0    0.000000    0.000000   \n",
       "25%     222.500000       0.0    2.000000    1.0    0.000000    0.000000   \n",
       "50%     465.000000       0.0    3.000000    1.0    0.000000    0.000000   \n",
       "75%     680.000000       0.0    3.000000    1.0    0.000000    0.000000   \n",
       "max     891.000000       0.0    3.000000    1.0    2.000000    3.000000   \n",
       "\n",
       "         Embarked  Child    FareCats  \n",
       "count  451.000000  451.0  451.000000  \n",
       "mean     1.631929    0.0    3.492239  \n",
       "std      0.725565    0.0    2.785168  \n",
       "min      0.000000    0.0    0.000000  \n",
       "25%      2.000000    0.0    1.000000  \n",
       "50%      2.000000    0.0    3.000000  \n",
       "75%      2.000000    0.0    6.000000  \n",
       "max      2.000000    0.0    9.000000  "
      ]
     },
     "execution_count": 1259,
     "metadata": {},
     "output_type": "execute_result"
    }
   ],
   "source": [
    "train[adult_male_died].describe()"
   ]
  },
  {
   "cell_type": "code",
   "execution_count": 1260,
   "metadata": {},
   "outputs": [
    {
     "data": {
      "text/html": [
       "<div>\n",
       "<style scoped>\n",
       "    .dataframe tbody tr th:only-of-type {\n",
       "        vertical-align: middle;\n",
       "    }\n",
       "\n",
       "    .dataframe tbody tr th {\n",
       "        vertical-align: top;\n",
       "    }\n",
       "\n",
       "    .dataframe thead th {\n",
       "        text-align: right;\n",
       "    }\n",
       "</style>\n",
       "<table border=\"1\" class=\"dataframe\">\n",
       "  <thead>\n",
       "    <tr style=\"text-align: right;\">\n",
       "      <th></th>\n",
       "      <th>PassengerId</th>\n",
       "      <th>Survived</th>\n",
       "      <th>Pclass</th>\n",
       "      <th>Sex</th>\n",
       "      <th>SibSp</th>\n",
       "      <th>Parch</th>\n",
       "      <th>Embarked</th>\n",
       "      <th>Child</th>\n",
       "      <th>FareCats</th>\n",
       "    </tr>\n",
       "  </thead>\n",
       "  <tbody>\n",
       "    <tr>\n",
       "      <th>count</th>\n",
       "      <td>86.000000</td>\n",
       "      <td>86.0</td>\n",
       "      <td>86.000000</td>\n",
       "      <td>86.0</td>\n",
       "      <td>86.000000</td>\n",
       "      <td>86.000000</td>\n",
       "      <td>86.000000</td>\n",
       "      <td>86.0</td>\n",
       "      <td>86.000000</td>\n",
       "    </tr>\n",
       "    <tr>\n",
       "      <th>mean</th>\n",
       "      <td>473.755814</td>\n",
       "      <td>1.0</td>\n",
       "      <td>1.930233</td>\n",
       "      <td>1.0</td>\n",
       "      <td>0.244186</td>\n",
       "      <td>0.104651</td>\n",
       "      <td>1.406977</td>\n",
       "      <td>0.0</td>\n",
       "      <td>5.127907</td>\n",
       "    </tr>\n",
       "    <tr>\n",
       "      <th>std</th>\n",
       "      <td>235.404530</td>\n",
       "      <td>0.0</td>\n",
       "      <td>0.955365</td>\n",
       "      <td>0.0</td>\n",
       "      <td>0.483518</td>\n",
       "      <td>0.376644</td>\n",
       "      <td>0.899384</td>\n",
       "      <td>0.0</td>\n",
       "      <td>2.909605</td>\n",
       "    </tr>\n",
       "    <tr>\n",
       "      <th>min</th>\n",
       "      <td>18.000000</td>\n",
       "      <td>1.0</td>\n",
       "      <td>1.000000</td>\n",
       "      <td>1.0</td>\n",
       "      <td>0.000000</td>\n",
       "      <td>0.000000</td>\n",
       "      <td>0.000000</td>\n",
       "      <td>0.0</td>\n",
       "      <td>0.000000</td>\n",
       "    </tr>\n",
       "    <tr>\n",
       "      <th>25%</th>\n",
       "      <td>284.750000</td>\n",
       "      <td>1.0</td>\n",
       "      <td>1.000000</td>\n",
       "      <td>1.0</td>\n",
       "      <td>0.000000</td>\n",
       "      <td>0.000000</td>\n",
       "      <td>0.000000</td>\n",
       "      <td>0.0</td>\n",
       "      <td>2.000000</td>\n",
       "    </tr>\n",
       "    <tr>\n",
       "      <th>50%</th>\n",
       "      <td>510.500000</td>\n",
       "      <td>1.0</td>\n",
       "      <td>2.000000</td>\n",
       "      <td>1.0</td>\n",
       "      <td>0.000000</td>\n",
       "      <td>0.000000</td>\n",
       "      <td>2.000000</td>\n",
       "      <td>0.0</td>\n",
       "      <td>6.000000</td>\n",
       "    </tr>\n",
       "    <tr>\n",
       "      <th>75%</th>\n",
       "      <td>657.750000</td>\n",
       "      <td>1.0</td>\n",
       "      <td>3.000000</td>\n",
       "      <td>1.0</td>\n",
       "      <td>0.000000</td>\n",
       "      <td>0.000000</td>\n",
       "      <td>2.000000</td>\n",
       "      <td>0.0</td>\n",
       "      <td>8.000000</td>\n",
       "    </tr>\n",
       "    <tr>\n",
       "      <th>max</th>\n",
       "      <td>890.000000</td>\n",
       "      <td>1.0</td>\n",
       "      <td>3.000000</td>\n",
       "      <td>1.0</td>\n",
       "      <td>2.000000</td>\n",
       "      <td>2.000000</td>\n",
       "      <td>2.000000</td>\n",
       "      <td>0.0</td>\n",
       "      <td>9.000000</td>\n",
       "    </tr>\n",
       "  </tbody>\n",
       "</table>\n",
       "</div>"
      ],
      "text/plain": [
       "       PassengerId  Survived     Pclass   Sex      SibSp      Parch  \\\n",
       "count    86.000000      86.0  86.000000  86.0  86.000000  86.000000   \n",
       "mean    473.755814       1.0   1.930233   1.0   0.244186   0.104651   \n",
       "std     235.404530       0.0   0.955365   0.0   0.483518   0.376644   \n",
       "min      18.000000       1.0   1.000000   1.0   0.000000   0.000000   \n",
       "25%     284.750000       1.0   1.000000   1.0   0.000000   0.000000   \n",
       "50%     510.500000       1.0   2.000000   1.0   0.000000   0.000000   \n",
       "75%     657.750000       1.0   3.000000   1.0   0.000000   0.000000   \n",
       "max     890.000000       1.0   3.000000   1.0   2.000000   2.000000   \n",
       "\n",
       "        Embarked  Child   FareCats  \n",
       "count  86.000000   86.0  86.000000  \n",
       "mean    1.406977    0.0   5.127907  \n",
       "std     0.899384    0.0   2.909605  \n",
       "min     0.000000    0.0   0.000000  \n",
       "25%     0.000000    0.0   2.000000  \n",
       "50%     2.000000    0.0   6.000000  \n",
       "75%     2.000000    0.0   8.000000  \n",
       "max     2.000000    0.0   9.000000  "
      ]
     },
     "execution_count": 1260,
     "metadata": {},
     "output_type": "execute_result"
    }
   ],
   "source": [
    "train[adult_male_survived].describe()"
   ]
  },
  {
   "cell_type": "code",
   "execution_count": 1261,
   "metadata": {},
   "outputs": [
    {
     "name": "stdout",
     "output_type": "stream",
     "text": [
      "0.7485380116959064\n",
      "     PassengerId  Survived  Pclass  Sex  SibSp  Parch  Embarked  Child  \\\n",
      "17            18         1       2    1      0      0         2      0   \n",
      "21            22         1       2    1      0      0         2      0   \n",
      "23            24         1       1    1      0      0         2      0   \n",
      "36            37         1       3    1      0      0         0      0   \n",
      "55            56         1       1    1      0      0         2      0   \n",
      "..           ...       ...     ...  ...    ...    ...       ...    ...   \n",
      "828          829         1       3    1      0      0         1      0   \n",
      "838          839         1       3    1      0      0         2      0   \n",
      "839          840         1       1    1      0      0         0      0   \n",
      "857          858         1       1    1      0      0         2      0   \n",
      "889          890         1       1    1      0      0         0      0   \n",
      "\n",
      "     FareCats  \n",
      "17          4  \n",
      "21          4  \n",
      "23          7  \n",
      "36          0  \n",
      "55          7  \n",
      "..        ...  \n",
      "828         1  \n",
      "838         8  \n",
      "839         7  \n",
      "857         6  \n",
      "889         7  \n",
      "\n",
      "[86 rows x 9 columns]\n"
     ]
    }
   ],
   "source": [
    "stupid_est = train['Child'] | ~ train['Sex'].astype('bool')\n",
    "results = train['Survived'].astype('bool') & stupid_est\n",
    "print(results.sum() / train['Survived'].sum())\n",
    "\n",
    "print(train[train['Survived'].astype('bool') & ~ stupid_est])"
   ]
  },
  {
   "cell_type": "markdown",
   "metadata": {},
   "source": [
    "Feature Selection"
   ]
  },
  {
   "cell_type": "code",
   "execution_count": 1262,
   "metadata": {},
   "outputs": [
    {
     "name": "stdout",
     "output_type": "stream",
     "text": [
      "Sex         0    1\n",
      "Survived          \n",
      "0          81  468\n",
      "1         233  109\n",
      "Sex\n",
      "0    0.742038\n",
      "1    0.188908\n",
      "Name: Survived, dtype: float64\n"
     ]
    }
   ],
   "source": [
    "correlation_matrix_male_survived = pd.crosstab(train['Survived'], train['Sex'], \n",
    "                                               rownames=['Survived'], colnames=['Sex'])\n",
    "print(correlation_matrix_male_survived)\n",
    "print(train.groupby('Sex')['Survived'].agg(np.mean))\n",
    "#Male is a good feature"
   ]
  },
  {
   "cell_type": "code",
   "execution_count": 1263,
   "metadata": {},
   "outputs": [
    {
     "name": "stdout",
     "output_type": "stream",
     "text": [
      "Pclass      1   2    3\n",
      "Survived              \n",
      "0          80  97  372\n",
      "1         136  87  119\n",
      "Pclass\n",
      "1    0.629630\n",
      "2    0.472826\n",
      "3    0.242363\n",
      "Name: Survived, dtype: float64\n"
     ]
    }
   ],
   "source": [
    "correlation_matrix_pclass_survived = pd.crosstab(train['Survived'], train['Pclass'], \n",
    "                                                 rownames=['Survived'], colnames=['Pclass'])\n",
    "print(correlation_matrix_pclass_survived)\n",
    "print(train.groupby('Pclass')['Survived'].agg(np.mean))\n",
    "#Pclass is a good feature"
   ]
  },
  {
   "cell_type": "code",
   "execution_count": null,
   "metadata": {},
   "outputs": [],
   "source": []
  },
  {
   "cell_type": "code",
   "execution_count": null,
   "metadata": {},
   "outputs": [],
   "source": []
  },
  {
   "cell_type": "code",
   "execution_count": 1264,
   "metadata": {},
   "outputs": [
    {
     "name": "stdout",
     "output_type": "stream",
     "text": [
      "              mean  count\n",
      "Embarked                 \n",
      "0         0.553571    168\n",
      "1         0.389610     77\n",
      "2         0.339009    646\n"
     ]
    }
   ],
   "source": [
    "print(train.groupby('Embarked')['Survived'].agg([np.mean, 'count']))"
   ]
  },
  {
   "cell_type": "code",
   "execution_count": 1265,
   "metadata": {},
   "outputs": [
    {
     "name": "stdout",
     "output_type": "stream",
     "text": [
      "           mean  count\n",
      "SibSp                 \n",
      "0      0.345395    608\n",
      "1      0.535885    209\n",
      "2      0.270270     74\n"
     ]
    }
   ],
   "source": [
    "print(train.groupby('SibSp')['Survived'].agg([np.mean, 'count']))"
   ]
  },
  {
   "cell_type": "code",
   "execution_count": 1266,
   "metadata": {},
   "outputs": [
    {
     "name": "stdout",
     "output_type": "stream",
     "text": [
      "Parch\n",
      "0    0.343658\n",
      "1    0.550847\n",
      "2    0.500000\n",
      "3    0.266667\n",
      "Name: Survived, dtype: float64\n",
      "Parch\n",
      "0    678\n",
      "1    118\n",
      "2     80\n",
      "3     15\n",
      "Name: Survived, dtype: int64\n"
     ]
    }
   ],
   "source": [
    "print(train.groupby('Parch')['Survived'].agg(np.mean))\n",
    "print(train.groupby('Parch')['Survived'].count())"
   ]
  },
  {
   "cell_type": "code",
   "execution_count": 1267,
   "metadata": {},
   "outputs": [
    {
     "name": "stdout",
     "output_type": "stream",
     "text": [
      "Embarked\n",
      "0    0.553571\n",
      "1    0.389610\n",
      "2    0.339009\n",
      "Name: Survived, dtype: float64\n",
      "Embarked\n",
      "0    168\n",
      "1     77\n",
      "2    646\n",
      "Name: Survived, dtype: int64\n"
     ]
    }
   ],
   "source": [
    "print(train.groupby('Embarked')['Survived'].agg(np.mean))\n",
    "print(train.groupby('Embarked')['Survived'].count())\n",
    "# suprisingly this looks like a good feature"
   ]
  },
  {
   "cell_type": "code",
   "execution_count": null,
   "metadata": {},
   "outputs": [],
   "source": []
  },
  {
   "cell_type": "code",
   "execution_count": 1268,
   "metadata": {},
   "outputs": [],
   "source": [
    "def most_frequent(input_list):\n",
    "    if not input_list:\n",
    "        return ''\n",
    "    else:\n",
    "        occurence_count = Counter(input_list)\n",
    "        return occurence_count.most_common(1)[0][0] "
   ]
  },
  {
   "cell_type": "code",
   "execution_count": null,
   "metadata": {},
   "outputs": [],
   "source": []
  },
  {
   "cell_type": "code",
   "execution_count": null,
   "metadata": {},
   "outputs": [],
   "source": []
  },
  {
   "cell_type": "code",
   "execution_count": null,
   "metadata": {},
   "outputs": [],
   "source": []
  },
  {
   "cell_type": "code",
   "execution_count": null,
   "metadata": {},
   "outputs": [],
   "source": []
  },
  {
   "cell_type": "code",
   "execution_count": null,
   "metadata": {},
   "outputs": [],
   "source": []
  },
  {
   "cell_type": "code",
   "execution_count": null,
   "metadata": {},
   "outputs": [],
   "source": []
  },
  {
   "cell_type": "code",
   "execution_count": null,
   "metadata": {},
   "outputs": [],
   "source": []
  },
  {
   "cell_type": "code",
   "execution_count": null,
   "metadata": {},
   "outputs": [],
   "source": []
  },
  {
   "cell_type": "code",
   "execution_count": null,
   "metadata": {},
   "outputs": [],
   "source": []
  },
  {
   "cell_type": "code",
   "execution_count": null,
   "metadata": {},
   "outputs": [],
   "source": []
  },
  {
   "cell_type": "code",
   "execution_count": null,
   "metadata": {},
   "outputs": [],
   "source": [
    "\n"
   ]
  },
  {
   "cell_type": "code",
   "execution_count": null,
   "metadata": {},
   "outputs": [],
   "source": []
  },
  {
   "cell_type": "code",
   "execution_count": null,
   "metadata": {},
   "outputs": [],
   "source": []
  }
 ],
 "metadata": {
  "kernelspec": {
   "display_name": "Python 3",
   "language": "python",
   "name": "python3"
  },
  "language_info": {
   "codemirror_mode": {
    "name": "ipython",
    "version": 3
   },
   "file_extension": ".py",
   "mimetype": "text/x-python",
   "name": "python",
   "nbconvert_exporter": "python",
   "pygments_lexer": "ipython3",
   "version": "3.8.3"
  }
 },
 "nbformat": 4,
 "nbformat_minor": 2
}
