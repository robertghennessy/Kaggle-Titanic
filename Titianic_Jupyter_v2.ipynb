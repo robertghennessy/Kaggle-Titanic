{
 "cells": [
  {
   "cell_type": "markdown",
   "metadata": {},
   "source": [
    "The goal of the Titanic competition is to predict who survived the disaster based on some information about the individual. The competition is described at https://www.kaggle.com/c/titanic/overview\n",
    "\n",
    "__Data Dictionary__\n",
    "- Survival: 0 = No, 1 = Yes\n",
    "- Pclass: Ticket class,, 1st = Upper 2nd = Middle 3rd = Lower\n",
    "- Sex: sex of the individual\n",
    "- Age: age in years\n",
    "- SibSp: The # of siblings / spouses aboard the Titanic Sibling = brother, sister, stepbrother, stepsister Spouse = husband, wife (mistresses and fiancés were ignored)\n",
    "- Parch: The # of parents / children aboard the Titanic Parent = mother, father Child = daughter, son, stepdaughter, stepson Some children travelled only with a nanny, therefore parch=0 for them.\n",
    "- Ticket: Ticket number\n",
    "- Fare: Passenger fare\n",
    "- Cabin: Cabin number embarked\n",
    "- Port of Embarkation: C = Cherbourg, Q = Queenstown, S = Southampton"
   ]
  },
  {
   "cell_type": "code",
   "execution_count": 683,
   "metadata": {},
   "outputs": [],
   "source": [
    "import pandas as pd\n",
    "import numpy as np\n",
    "import matplotlib.pyplot as plt\n",
    "import seaborn as sns\n",
    "import re\n",
    "from collections import Counter \n",
    "import scipy.stats as stats\n",
    "import string"
   ]
  },
  {
   "cell_type": "markdown",
   "metadata": {},
   "source": [
    "Loaded the train and test data into pandas data frame. Both the train and test data contain missing values. Train has is missing 177 age values, 687 cabin values and 2 embarked values. Test data is missing 86 age values, 1 fare value and 327 cabin values. The missing values will either need to be imputed (filled in based on training set data) or the rows will need to be removed. Used describe to look into the statistics of the numeric columns. No obvious outliers are observed in the data. "
   ]
  },
  {
   "cell_type": "code",
   "execution_count": 684,
   "metadata": {},
   "outputs": [
    {
     "name": "stdout",
     "output_type": "stream",
     "text": [
      "Missing values in train data\n",
      "PassengerId      0\n",
      "Survived         0\n",
      "Pclass           0\n",
      "Name             0\n",
      "Sex              0\n",
      "Age            177\n",
      "SibSp            0\n",
      "Parch            0\n",
      "Ticket           0\n",
      "Fare             0\n",
      "Cabin          687\n",
      "Embarked         2\n",
      "dtype: int64\n",
      "\n",
      "Missing values in test data\n",
      "PassengerId      0\n",
      "Pclass           0\n",
      "Name             0\n",
      "Sex              0\n",
      "Age             86\n",
      "SibSp            0\n",
      "Parch            0\n",
      "Ticket           0\n",
      "Fare             1\n",
      "Cabin          327\n",
      "Embarked         0\n",
      "dtype: int64\n",
      "\n",
      "Describe train data\n",
      "       PassengerId    Survived      Pclass         Age       SibSp  \\\n",
      "count   891.000000  891.000000  891.000000  714.000000  891.000000   \n",
      "mean    446.000000    0.383838    2.308642   29.699118    0.523008   \n",
      "std     257.353842    0.486592    0.836071   14.526497    1.102743   \n",
      "min       1.000000    0.000000    1.000000    0.420000    0.000000   \n",
      "25%     223.500000    0.000000    2.000000   20.125000    0.000000   \n",
      "50%     446.000000    0.000000    3.000000   28.000000    0.000000   \n",
      "75%     668.500000    1.000000    3.000000   38.000000    1.000000   \n",
      "max     891.000000    1.000000    3.000000   80.000000    8.000000   \n",
      "\n",
      "            Parch        Fare  \n",
      "count  891.000000  891.000000  \n",
      "mean     0.381594   32.204208  \n",
      "std      0.806057   49.693429  \n",
      "min      0.000000    0.000000  \n",
      "25%      0.000000    7.910400  \n",
      "50%      0.000000   14.454200  \n",
      "75%      0.000000   31.000000  \n",
      "max      6.000000  512.329200  \n",
      "\n",
      "Describe test data\n",
      "       PassengerId      Pclass         Age       SibSp       Parch        Fare\n",
      "count   418.000000  418.000000  332.000000  418.000000  418.000000  417.000000\n",
      "mean   1100.500000    2.265550   30.272590    0.447368    0.392344   35.627188\n",
      "std     120.810458    0.841838   14.181209    0.896760    0.981429   55.907576\n",
      "min     892.000000    1.000000    0.170000    0.000000    0.000000    0.000000\n",
      "25%     996.250000    1.000000   21.000000    0.000000    0.000000    7.895800\n",
      "50%    1100.500000    3.000000   27.000000    0.000000    0.000000   14.454200\n",
      "75%    1204.750000    3.000000   39.000000    1.000000    0.000000   31.500000\n",
      "max    1309.000000    3.000000   76.000000    8.000000    9.000000  512.329200\n"
     ]
    }
   ],
   "source": [
    "target_column = ['Survived']\n",
    "# load in the csv files\n",
    "test = pd.read_csv('data_files/test.csv')\n",
    "train = pd.read_csv('data_files/train.csv')\n",
    "# determine the nans in each column\n",
    "print('Missing values in train data')\n",
    "print(train.isna().sum())\n",
    "print('\\nMissing values in test data')\n",
    "print(test.isna().sum())\n",
    "print('\\nDescribe train data')\n",
    "print(train.describe())\n",
    "print('\\nDescribe test data')\n",
    "print(test.describe())"
   ]
  },
  {
   "cell_type": "markdown",
   "metadata": {},
   "source": [
    "## Check for invalid values\n",
    "\n",
    "Created a function to check to see if any of the rows has invalid values (values that should not exist based on the data definition above). "
   ]
  },
  {
   "cell_type": "code",
   "execution_count": 685,
   "metadata": {},
   "outputs": [
    {
     "name": "stdout",
     "output_type": "stream",
     "text": [
      "Check if train has any invalid values\n",
      "Check if test has any invalid values\n",
      "Column: Survived does not exist\n"
     ]
    }
   ],
   "source": [
    "target_column = 'Survived'\n",
    "\n",
    "# replace NaNs in the train and test dataframes with the missing value\n",
    "#train.fillna(missing_value, inplace=True)\n",
    "#test.fillna(missing_value, inplace=True)\n",
    "\n",
    "check_values_dict = {'Survived':[0, 1], \n",
    "                     'Pclass':[1, 2, 3], \n",
    "                     'Sex':['male', 'female'],\n",
    "                     'Embarked':['C', 'Q', 'S']}\n",
    "\n",
    "def check_values(df, check_dict):\n",
    "    return_dict = {}\n",
    "    for (key, value) in check_dict.items():\n",
    "        # check if the column exists in pandas\n",
    "        if key in df.columns:\n",
    "            # check column and see if there is any invalid values\n",
    "            temp_bool_series = ~df.loc[~df[key].isnull(), key].isin(value)\n",
    "            # if invalid values exist for the column. Store the row indices in dictionary\n",
    "            if temp_bool_series.sum() > 0:\n",
    "                return_dict[key] = temp_bool_series[temp_bool_series].index\n",
    "        else:\n",
    "            print('Column: ' + key + ' does not exist')\n",
    "    return return_dict\n",
    "\n",
    "def print_rows_with_invalid(df, invalid_dict):\n",
    "    for (key, value) in invalid_dict.items():\n",
    "        print(key + ' is invalid in the following rows')\n",
    "        print(df.iloc[value])\n",
    "\n",
    "print('Check if train has any invalid values')\n",
    "print_rows_with_invalid(train, check_values(train, check_values_dict))\n",
    "print('Check if test has any invalid values')\n",
    "print_rows_with_invalid(test, check_values(test, check_values_dict))\n"
   ]
  },
  {
   "cell_type": "markdown",
   "metadata": {},
   "source": [
    "## Feature conversion encoding\n",
    "\n",
    "For most machine learning algorithms, all features must be represented as numbers. Sex is encoded into integers. "
   ]
  },
  {
   "cell_type": "code",
   "execution_count": 686,
   "metadata": {},
   "outputs": [],
   "source": [
    "def encode_sex(df):\n",
    "    df['Sex'] = (df['Sex'].str.lower() == 'male').astype(int)\n",
    "    return df\n",
    "\n",
    "train = encode_sex(train)\n",
    "test = encode_sex(test)"
   ]
  },
  {
   "cell_type": "markdown",
   "metadata": {},
   "source": [
    "Last name may contain useful information because families may have been more likely to survive or perish together. Following function extracts the last name and title. Last name is assumed to be to the left of the comma. The title may give a hint about age and it is assummed to be between the comma and period. Both are converted to lower case to handle if same word was capitalized differntly in different records."
   ]
  },
  {
   "cell_type": "code",
   "execution_count": 687,
   "metadata": {},
   "outputs": [],
   "source": [
    "def parse_name(df):\n",
    "    split_name_at_comma = df['Name'].str.split(',', n=1, expand=True)\n",
    "    df['LastName'] = split_name_at_comma.get(0).str.lower()\n",
    "    split_name_at_period = split_name_at_comma.get(1).str.split('.', n=1, expand=True)\n",
    "    df['Title'] = split_name_at_period.get(0).str.lower().str.strip()\n",
    "    df.drop('Name', axis=1, inplace=True)\n",
    "    return df\n",
    "\n",
    "# extract name and title\n",
    "train = parse_name(train)\n",
    "test = parse_name(test)"
   ]
  },
  {
   "cell_type": "markdown",
   "metadata": {},
   "source": [
    "Ticket column contains letters and numbers. The column will be broken up into letters and numbers. For the text porition of the ticket number, the string is converted to lower case and the punctuation is stripped from the string. "
   ]
  },
  {
   "cell_type": "code",
   "execution_count": 688,
   "metadata": {},
   "outputs": [],
   "source": [
    "# create dictionary of punctuation to remove\n",
    "punctuation_table = str.maketrans(dict.fromkeys(string.punctuation))\n",
    "\n",
    "def parse_ticket(df, punctuation_table):\n",
    "    # split ticket at the first space\n",
    "    split_ticket_at_space = df['Ticket'].str.split(' ', n=1, expand=True)\n",
    "    # convert to lower case and remove the punctuation\n",
    "    temp = split_ticket_at_space.get(0).str.lower().str.translate(punctuation_table)\n",
    "    df['TicketHeader'] = temp[~temp.str.isnumeric()]\n",
    "    df['TicketNumber'] = temp[temp.str.isnumeric()]\n",
    "    df.loc[~temp.str.isnumeric(), 'TicketNumber'] = split_ticket_at_space.get(1)\n",
    "    df['TicketNumber'] = df['TicketNumber'].astype('int64')\n",
    "    return df\n",
    "\n",
    "def extract_numbers_text(df, col):\n",
    "    # Extract letters from the col, combine into one string and convert to lower case\n",
    "    df[col + 'Letters'] = df[col].str.findall(r'[A-Za-z]+').str.join('').str.lower()\n",
    "    # Extract numbers from the col, combine to one string, replace empty strings with NaNs and convert to numeric\n",
    "    df[col + 'Numbers'] = pd.to_numeric(df[col].str.findall(r'[0-9]+').str.join('').replace('', np.nan))\n",
    "    #df.drop(col, axis=1, inplace=True)\n",
    "    return df\n",
    "    \n",
    "\n",
    "train = extract_numbers_text(train, 'Ticket')\n",
    "test = extract_numbers_text(test, 'Ticket')\n",
    "\n",
    "train = extract_numbers_text(train, 'Cabin')\n",
    "test = extract_numbers_text(test, 'Cabin')\n"
   ]
  },
  {
   "cell_type": "markdown",
   "metadata": {},
   "source": [
    "Some individuals have multiple cabins. For example, cabin = 'C1 C2 C3' would lead to an extracted text = 'ccc'. The following function extracts only the unique characters. For the example above, the extracted text would become 'c'."
   ]
  },
  {
   "cell_type": "code",
   "execution_count": 689,
   "metadata": {},
   "outputs": [],
   "source": [
    "def create_set_string(string):\n",
    "    if type(string) == str:\n",
    "        string = ''.join(sorted(list(set(string))))\n",
    "    return string\n",
    " \n",
    "train['CabinLetters'] = train['CabinLetters'].apply(create_set_string)\n",
    "test['CabinLetters'] = test['CabinLetters'].apply(create_set_string)\n",
    "\n"
   ]
  },
  {
   "cell_type": "markdown",
   "metadata": {},
   "source": [
    "Looked at the percentage of people that were on the different decks. The percentage is low for all decks, which means the deck must be imputed from the other features in order for this to be a useful feature. "
   ]
  },
  {
   "cell_type": "code",
   "execution_count": 690,
   "metadata": {},
   "outputs": [
    {
     "name": "stdout",
     "output_type": "stream",
     "text": [
      "Percentage of records in train\n",
      "c     6.621773\n",
      "b     5.274972\n",
      "d     3.703704\n",
      "e     3.591470\n",
      "a     1.683502\n",
      "f     1.010101\n",
      "g     0.448934\n",
      "fg    0.336700\n",
      "ef    0.112233\n",
      "t     0.112233\n",
      "Name: CabinLetters, dtype: float64\n",
      "Percentage of records in test\n",
      "c     3.928171\n",
      "b     2.020202\n",
      "d     1.459035\n",
      "e     1.010101\n",
      "a     0.785634\n",
      "f     0.561167\n",
      "ef    0.224467\n",
      "g     0.112233\n",
      "fg    0.112233\n",
      "Name: CabinLetters, dtype: float64\n"
     ]
    }
   ],
   "source": [
    "print('Percentage of records in train')\n",
    "print(train['CabinLetters'].value_counts()/len(train)*100)\n",
    "print('Percentage of records in test')\n",
    "print(test['CabinLetters'].value_counts()/len(train)*100)"
   ]
  },
  {
   "cell_type": "markdown",
   "metadata": {},
   "source": [
    "## Impute Missing Data\n",
    "\n",
    "The columns age, cabin, embarked and fare have NaN values. Exploratory data anlysis is performed to see the correlation between parameters with goal of using a different parameter to guess what the missing value should be.\n",
    "\n",
    "Train has is missing 177 age values, 687 cabin values and 2 embarked values. Test data is missing 86 age values, 1 fare value and 327 cabin values.\n",
    "\n"
   ]
  },
  {
   "cell_type": "markdown",
   "metadata": {},
   "source": [
    "### Fare \n",
    "\n",
    "Fare and Pclass should be correlated. Higher fare with better class (lower number). Histogram was created to look for the correlation. Pclass = 1 has higher ticket price than Pclass = 2 and 3. The fare is non gaussin for the different Pclasses"
   ]
  },
  {
   "cell_type": "code",
   "execution_count": 691,
   "metadata": {},
   "outputs": [
    {
     "data": {
      "image/png": "[encoded data removed]",
      "text/plain": [
       "<Figure size 432x288 with 1 Axes>"
      ]
     },
     "metadata": {
      "needs_background": "light"
     },
     "output_type": "display_data"
    }
   ],
   "source": [
    "def multi_hist(df, value_col, hue_col, bins):\n",
    "    unique_values = sorted(df[hue_col].unique())\n",
    "    for value in unique_values:\n",
    "        selected_entries = df[df[hue_col] == value]\n",
    "        label = hue_col + ' = '+ str(value)\n",
    "        sns.distplot(selected_entries[value_col].dropna(),  kde=False, label=label, bins=bins)\n",
    "    plt.legend()\n",
    "    plt.xlabel(value_col)\n",
    "    plt.ylabel('Number')\n",
    "    plt.show()\n",
    "    return None\n",
    "\n",
    "bins = np.arange(0, 90, 10)\n",
    "multi_hist(train, 'Fare', 'Pclass', bins=bins)\n",
    "#Note: There is a new function called sns.histogram that should be released soon which will do the above better"
   ]
  },
  {
   "cell_type": "markdown",
   "metadata": {},
   "source": [
    "A function is created to look at the emperical cummulative distribution function (ECDF). ECDF is another way to look at the distribution of the data. From the ECDF, there is large difference in the distribution for fare of pclass = 1 and the other pclasses. The difference between pclass = 2 and pclass = 3 is small. "
   ]
  },
  {
   "cell_type": "code",
   "execution_count": 692,
   "metadata": {},
   "outputs": [
    {
     "data": {
      "image/png": "[encoded data removed]",
      "text/plain": [
       "<Figure size 432x288 with 1 Axes>"
      ]
     },
     "metadata": {
      "needs_background": "light"
     },
     "output_type": "display_data"
    },
    {
     "name": "stdout",
     "output_type": "stream",
     "text": [
      "             mean   median        std\n",
      "Pclass                               \n",
      "1       84.154687  60.2875  78.380373\n",
      "2       20.662183  14.2500  13.417399\n",
      "3       13.675550   8.0500  11.778142\n"
     ]
    }
   ],
   "source": [
    "def multi_ecdf(df, value_col, hue_col):\n",
    "    unique_values = sorted(df[hue_col].unique())\n",
    "    for value in unique_values:\n",
    "        selected_entries = df[df[hue_col] == value]\n",
    "        label = hue_col + ' = '+ str(value)\n",
    "        \"\"\" Compute ECDF \"\"\"\n",
    "        x = np.sort(selected_entries[value_col].dropna())\n",
    "        n = x.size\n",
    "        y = np.arange(1, n+1) / n\n",
    "        sns.scatterplot(x, y, label=label)\n",
    "    plt.legend()\n",
    "    plt.xlabel(value_col)\n",
    "    plt.ylabel('Number')\n",
    "    plt.show()\n",
    "    return None\n",
    "\n",
    "multi_ecdf(train, 'Fare', 'Pclass')\n",
    "\n",
    "print(train.groupby('Pclass')['Fare'].agg([np.mean, np.median, np.std]))"
   ]
  },
  {
   "cell_type": "markdown",
   "metadata": {},
   "source": [
    "The missing fare will be imputed by using the median fare from train for the given pclass. This reduces the impact of the outliers observed in Pclass = 1."
   ]
  },
  {
   "cell_type": "code",
   "execution_count": 693,
   "metadata": {},
   "outputs": [],
   "source": [
    "def impute_fare(train, test):\n",
    "    median_fare_by_class = train.groupby('Pclass')['Fare'].agg(np.median).round(2)\n",
    "    for p_class in median_fare_by_class.index:\n",
    "        mask_train = train['Fare'].isna() & (train['Pclass'] == p_class)\n",
    "        mask_test = test['Fare'].isna() & (test['Pclass'] == p_class)\n",
    "        train.loc[mask_train, 'Fare'] = median_fare_by_class[p_class]\n",
    "        test.loc[mask_test, 'Fare'] = median_fare_by_class[p_class]\n",
    "    return train, test\n",
    "\n",
    "train, test = impute_fare(train, test)"
   ]
  },
  {
   "cell_type": "markdown",
   "metadata": {},
   "source": [
    "### Age\n",
    "\n",
    "Age may be correlated with the title of the person (ex. Mr., Mrs., ....). In order to determine this, histograms were created for the different titles. Before creating the historam any title with very low percentage is merged into a new category callled other. "
   ]
  },
  {
   "cell_type": "code",
   "execution_count": 694,
   "metadata": {},
   "outputs": [
    {
     "name": "stdout",
     "output_type": "stream",
     "text": [
      "mr              58.024691\n",
      "miss            20.426487\n",
      "mrs             14.029181\n",
      "master           4.489338\n",
      "dr               0.785634\n",
      "rev              0.673401\n",
      "major            0.224467\n",
      "col              0.224467\n",
      "mlle             0.224467\n",
      "sir              0.112233\n",
      "don              0.112233\n",
      "lady             0.112233\n",
      "mme              0.112233\n",
      "capt             0.112233\n",
      "jonkheer         0.112233\n",
      "the countess     0.112233\n",
      "ms               0.112233\n",
      "Name: Title, dtype: float64\n",
      "mr        58.024691\n",
      "miss      20.426487\n",
      "mrs       14.029181\n",
      "master     4.489338\n",
      "other      3.030303\n",
      "Name: Title, dtype: float64\n"
     ]
    }
   ],
   "source": [
    "merge_below_percent = 4\n",
    "title_precent = train['Title'].value_counts() / train['Title'].value_counts().sum() * 100\n",
    "print(title_precent)\n",
    "merge_index = title_precent[title_precent < merge_below_percent].index\n",
    "train.loc[train['Title'].isin(merge_index), 'Title'] = 'other'\n",
    "print(train['Title'].value_counts() / train['Title'].value_counts().sum() * 100)"
   ]
  },
  {
   "cell_type": "markdown",
   "metadata": {},
   "source": [
    "Create an ECDF on the age to better determine if titlte can be used to impute age. Master can be used if the individual is under 10. The other titles have wide distributions."
   ]
  },
  {
   "cell_type": "code",
   "execution_count": 695,
   "metadata": {
    "scrolled": true
   },
   "outputs": [
    {
     "data": {
      "image/png": "[encoded data removed]",
      "text/plain": [
       "<Figure size 432x288 with 1 Axes>"
      ]
     },
     "metadata": {
      "needs_background": "light"
     },
     "output_type": "display_data"
    },
    {
     "name": "stdout",
     "output_type": "stream",
     "text": [
      "             mean  median        std\n",
      "Title                               \n",
      "master   4.574167     3.5   3.619872\n",
      "miss    21.773973    21.0  12.990292\n",
      "mr      32.368090    30.0  12.708793\n",
      "mrs     35.898148    35.0  11.433628\n",
      "other   42.384615    44.5  13.200233\n"
     ]
    }
   ],
   "source": [
    "multi_ecdf(train, 'Age', 'Title')\n",
    "print(train.groupby('Title')['Age'].agg([np.mean, np.median, np.std]))"
   ]
  },
  {
   "cell_type": "markdown",
   "metadata": {},
   "source": [
    "### Cabin\n",
    "\n",
    "Check if ticket number can be used to fill in cabin. Unfortunately, only 10 ticket numbers have at least one null and at least one not null value. Looking at some of the entries, those tickets are sold to people with different last name. Therefore, cabin cannot be imputed from ticket number "
   ]
  },
  {
   "cell_type": "code",
   "execution_count": 696,
   "metadata": {},
   "outputs": [
    {
     "name": "stdout",
     "output_type": "stream",
     "text": [
      "10\n",
      "[3.0, 2668.0, 17421.0, 17755.0, 17757.0, 17760.0, 17761.0, 19877.0, 36928.0, 113781.0]\n",
      "     PassengerId  Survived  Pclass  Sex    Age  SibSp  Parch  Ticket    Fare  \\\n",
      "297          298         0       1    0   2.00      1      2  113781  151.55   \n",
      "305          306         1       1    1   0.92      1      2  113781  151.55   \n",
      "498          499         0       1    0  25.00      1      2  113781  151.55   \n",
      "708          709         1       1    0  22.00      0      0  113781  151.55   \n",
      "\n",
      "       Cabin Embarked LastName   Title TicketLetters  TicketNumbers  \\\n",
      "297  C22 C26        S  allison    miss                     113781.0   \n",
      "305  C22 C26        S  allison  master                     113781.0   \n",
      "498  C22 C26        S  allison     mrs                     113781.0   \n",
      "708      NaN        S  cleaver    miss                     113781.0   \n",
      "\n",
      "    CabinLetters  CabinNumbers  \n",
      "297            c        2226.0  \n",
      "305            c        2226.0  \n",
      "498            c        2226.0  \n",
      "708          NaN           NaN  \n"
     ]
    }
   ],
   "source": [
    "# list of ticket numbers that have a not null cabin\n",
    "ticket_numbers_not_null = train[train['Cabin'].notnull()]['TicketNumbers'].unique()\n",
    "# list of ticket numbers that have a null cabin\n",
    "ticket_numbers_null = train[train['Cabin'].isna()]['TicketNumbers'].unique()\n",
    "# create a list of ticket numbers with at least one nul value and one not null value\n",
    "common_ticket_numbers = sorted(list(set(ticket_numbers_not_null) & set(ticket_numbers_null)))\n",
    "print(len(common_ticket_numbers))\n",
    "print(common_ticket_numbers)\n",
    "print(train[train['TicketNumbers'] == 113781])"
   ]
  },
  {
   "cell_type": "markdown",
   "metadata": {},
   "source": [
    "Check if last name can be used to fill in cabin. Unfortunately, only 14 last nameshave at least one null and at least one not null value. Looking at some of the entries, those last names correspond to tickets with very different fares and classes. Therfore, last name cannot be used to determine cabin."
   ]
  },
  {
   "cell_type": "code",
   "execution_count": 697,
   "metadata": {},
   "outputs": [
    {
     "name": "stdout",
     "output_type": "stream",
     "text": [
      "14\n",
      "['allen', 'brown', 'carlsson', 'carter', 'daly', 'flynn', 'harper', 'harris', 'hoyt', 'keane', 'peter', 'smith', 'webber', 'wick']\n",
      "     PassengerId  Survived  Pclass  Sex   Age  SibSp  Parch  Ticket   Fare  \\\n",
      "249          250         0       2    1  54.0      1      0  244252   26.0   \n",
      "390          391         1       1    1  36.0      1      2  113760  120.0   \n",
      "435          436         1       1    0  14.0      1      2  113760  120.0   \n",
      "763          764         1       1    0  36.0      1      2  113760  120.0   \n",
      "802          803         1       1    1  11.0      1      2  113760  120.0   \n",
      "854          855         0       2    0  44.0      1      0  244252   26.0   \n",
      "\n",
      "       Cabin Embarked LastName   Title TicketLetters  TicketNumbers  \\\n",
      "249      NaN        S   carter   other                     244252.0   \n",
      "390  B96 B98        S   carter      mr                     113760.0   \n",
      "435  B96 B98        S   carter    miss                     113760.0   \n",
      "763  B96 B98        S   carter     mrs                     113760.0   \n",
      "802  B96 B98        S   carter  master                     113760.0   \n",
      "854      NaN        S   carter     mrs                     244252.0   \n",
      "\n",
      "    CabinLetters  CabinNumbers  \n",
      "249          NaN           NaN  \n",
      "390            b        9698.0  \n",
      "435            b        9698.0  \n",
      "763            b        9698.0  \n",
      "802            b        9698.0  \n",
      "854          NaN           NaN  \n"
     ]
    }
   ],
   "source": [
    "# list of ticket numbers that have a not null cabin\n",
    "last_name_numbers_not_null = train[train['Cabin'].notnull()]['LastName'].unique()\n",
    "# list of ticket numbers that have a null cabin\n",
    "last_name_numbers_null = train[train['Cabin'].isna()]['LastName'].unique()\n",
    "# create a list of ticket numbers with at least one nul value and one not null value\n",
    "common_last_name = sorted(list(set(last_name_numbers_not_null) & set(last_name_numbers_null)))\n",
    "print(len(common_last_name))\n",
    "print(common_last_name)\n",
    "print(train[train['LastName'] == 'carter'])\n"
   ]
  },
  {
   "cell_type": "markdown",
   "metadata": {},
   "source": []
  },
  {
   "cell_type": "code",
   "execution_count": 698,
   "metadata": {},
   "outputs": [
    {
     "name": "stdout",
     "output_type": "stream",
     "text": [
      "CabinLetters\n",
      "a     0.466667\n",
      "b     0.744681\n",
      "c     0.593220\n",
      "d     0.757576\n",
      "e     0.750000\n",
      "ef    1.000000\n",
      "f     0.777778\n",
      "fg    0.000000\n",
      "g     0.500000\n",
      "t     0.000000\n",
      "Name: Survived, dtype: float64\n"
     ]
    }
   ],
   "source": [
    "print(train.groupby('CabinLetters')['Survived'].agg(np.mean))"
   ]
  },
  {
   "cell_type": "code",
   "execution_count": null,
   "metadata": {},
   "outputs": [],
   "source": []
  },
  {
   "cell_type": "code",
   "execution_count": 699,
   "metadata": {},
   "outputs": [
    {
     "name": "stdout",
     "output_type": "stream",
     "text": [
      "Title\n",
      "master    0.575000\n",
      "miss      0.697802\n",
      "mr        0.156673\n",
      "mrs       0.792000\n",
      "other     0.444444\n",
      "Name: Survived, dtype: float64\n"
     ]
    }
   ],
   "source": [
    "print(train.groupby('Title')['Survived'].agg(np.mean))"
   ]
  },
  {
   "cell_type": "code",
   "execution_count": 700,
   "metadata": {},
   "outputs": [
    {
     "name": "stdout",
     "output_type": "stream",
     "text": [
      "[[2 1 1 ... 17599.0 'c' 85.0]\n",
      " [4 1 1 ... 113803.0 'c' 123.0]\n",
      " [7 0 1 ... 17463.0 'e' 46.0]\n",
      " ...\n",
      " [880 1 1 ... 11767.0 'c' 50.0]\n",
      " [888 1 1 ... 112053.0 'b' 42.0]\n",
      " [890 1 1 ... 111369.0 'c' 148.0]]\n"
     ]
    }
   ],
   "source": [
    "print(mask_train_not_null.to_numpy())"
   ]
  },
  {
   "cell_type": "code",
   "execution_count": null,
   "metadata": {},
   "outputs": [],
   "source": []
  },
  {
   "cell_type": "code",
   "execution_count": null,
   "metadata": {},
   "outputs": [],
   "source": []
  },
  {
   "cell_type": "markdown",
   "metadata": {},
   "source": [
    "Feature Selection"
   ]
  },
  {
   "cell_type": "code",
   "execution_count": 701,
   "metadata": {},
   "outputs": [
    {
     "name": "stdout",
     "output_type": "stream",
     "text": [
      "Sex         0    1\n",
      "Survived          \n",
      "0          81  468\n",
      "1         233  109\n",
      "Sex\n",
      "0    0.742038\n",
      "1    0.188908\n",
      "Name: Survived, dtype: float64\n"
     ]
    }
   ],
   "source": [
    "correlation_matrix_male_survived = pd.crosstab(train['Survived'], train['Sex'], rownames=['Survived'], colnames=['Sex'])\n",
    "print(correlation_matrix_male_survived)\n",
    "print(train.groupby('Sex')['Survived'].agg(np.mean))\n",
    "#Male is a good feature"
   ]
  },
  {
   "cell_type": "code",
   "execution_count": 702,
   "metadata": {},
   "outputs": [
    {
     "name": "stdout",
     "output_type": "stream",
     "text": [
      "Pclass      1   2    3\n",
      "Survived              \n",
      "0          80  97  372\n",
      "1         136  87  119\n",
      "Pclass\n",
      "1    0.629630\n",
      "2    0.472826\n",
      "3    0.242363\n",
      "Name: Survived, dtype: float64\n"
     ]
    }
   ],
   "source": [
    "correlation_matrix_pclass_survived = pd.crosstab(train['Survived'], train['Pclass'], rownames=['Survived'], colnames=['Pclass'])\n",
    "print(correlation_matrix_pclass_survived)\n",
    "print(train.groupby('Pclass')['Survived'].agg(np.mean))\n",
    "#Pclass is a good feature"
   ]
  },
  {
   "cell_type": "code",
   "execution_count": 703,
   "metadata": {},
   "outputs": [
    {
     "data": {
      "image/png": "[encoded data removed]",
      "text/plain": [
       "<Figure size 432x288 with 1 Axes>"
      ]
     },
     "metadata": {
      "needs_background": "light"
     },
     "output_type": "display_data"
    }
   ],
   "source": [
    "#age_bins = list(range(0,100,10))\n",
    "df = train[train['Survived'] == 0]\n",
    "sns.distplot(df['Age'].dropna(),  kde=False, label='Died')\n",
    "df = train[train['Survived'] == 1]\n",
    "sns.distplot(df['Age'].dropna(),  kde=False, label='Survived')\n",
    "plt.legend()\n",
    "plt.title('Age of Survival vs Death')\n",
    "plt.xlabel('Age')\n",
    "plt.ylabel('Number')\n",
    "plt.show()"
   ]
  },
  {
   "cell_type": "code",
   "execution_count": 704,
   "metadata": {},
   "outputs": [
    {
     "name": "stdout",
     "output_type": "stream",
     "text": [
      "AgeDecade\n",
      "0.0    0.612903\n",
      "1.0    0.401961\n",
      "2.0    0.350000\n",
      "3.0    0.437126\n",
      "4.0    0.382022\n",
      "5.0    0.416667\n",
      "6.0    0.315789\n",
      "7.0    0.000000\n",
      "8.0    1.000000\n",
      "Name: Survived, dtype: float64\n",
      "AgeDecade\n",
      "0.0     62\n",
      "1.0    102\n",
      "2.0    220\n",
      "3.0    167\n",
      "4.0     89\n",
      "5.0     48\n",
      "6.0     19\n",
      "7.0      6\n",
      "8.0      1\n",
      "Name: Survived, dtype: int64\n"
     ]
    }
   ],
   "source": [
    "# look into age affects survival\n",
    "train['AgeDecade'] = (train['Age'] / 10).apply(np.floor)\n",
    "trained_grouped_by_age_decade = train.groupby('AgeDecade')\n",
    "print(trained_grouped_by_age_decade['Survived'].agg(np.mean))\n",
    "print(trained_grouped_by_age_decade['Survived'].count())"
   ]
  },
  {
   "cell_type": "code",
   "execution_count": 705,
   "metadata": {},
   "outputs": [
    {
     "data": {
      "image/png": "[encoded data removed]",
      "text/plain": [
       "<Figure size 432x288 with 1 Axes>"
      ]
     },
     "metadata": {
      "needs_background": "light"
     },
     "output_type": "display_data"
    }
   ],
   "source": [
    "stats.probplot(train[\"Age\"], dist=\"norm\", plot=plt)\n",
    "plt.show()\n",
    "# data does not have normal distribution because not on 45 degree line"
   ]
  },
  {
   "cell_type": "code",
   "execution_count": 706,
   "metadata": {},
   "outputs": [
    {
     "name": "stdout",
     "output_type": "stream",
     "text": [
      "SibSp\n",
      "0    0.345395\n",
      "1    0.535885\n",
      "2    0.464286\n",
      "3    0.250000\n",
      "4    0.166667\n",
      "5    0.000000\n",
      "8    0.000000\n",
      "Name: Survived, dtype: float64\n",
      "SibSp\n",
      "0    608\n",
      "1    209\n",
      "2     28\n",
      "3     16\n",
      "4     18\n",
      "5      5\n",
      "8      7\n",
      "Name: Survived, dtype: int64\n"
     ]
    }
   ],
   "source": [
    "print(train.groupby('SibSp')['Survived'].agg(np.mean))\n",
    "print(train.groupby('SibSp')['Survived'].count())"
   ]
  },
  {
   "cell_type": "code",
   "execution_count": 707,
   "metadata": {},
   "outputs": [
    {
     "name": "stdout",
     "output_type": "stream",
     "text": [
      "Parch\n",
      "0    0.343658\n",
      "1    0.550847\n",
      "2    0.500000\n",
      "3    0.600000\n",
      "4    0.000000\n",
      "5    0.200000\n",
      "6    0.000000\n",
      "Name: Survived, dtype: float64\n",
      "Parch\n",
      "0    678\n",
      "1    118\n",
      "2     80\n",
      "3      5\n",
      "4      4\n",
      "5      5\n",
      "6      1\n",
      "Name: Survived, dtype: int64\n"
     ]
    }
   ],
   "source": [
    "print(train.groupby('Parch')['Survived'].agg(np.mean))\n",
    "print(train.groupby('Parch')['Survived'].count())"
   ]
  },
  {
   "cell_type": "code",
   "execution_count": 708,
   "metadata": {},
   "outputs": [
    {
     "name": "stdout",
     "output_type": "stream",
     "text": [
      "Embarked\n",
      "C    0.553571\n",
      "Q    0.389610\n",
      "S    0.336957\n",
      "Name: Survived, dtype: float64\n",
      "Embarked\n",
      "C    168\n",
      "Q     77\n",
      "S    644\n",
      "Name: Survived, dtype: int64\n"
     ]
    }
   ],
   "source": [
    "print(train.groupby('Embarked')['Survived'].agg(np.mean))\n",
    "print(train.groupby('Embarked')['Survived'].count())\n",
    "# suprisingly this looks like a good feature"
   ]
  },
  {
   "cell_type": "code",
   "execution_count": 709,
   "metadata": {},
   "outputs": [
    {
     "name": "stdout",
     "output_type": "stream",
     "text": [
      "Cabin\n",
      "A10    0.0\n",
      "A14    0.0\n",
      "A16    1.0\n",
      "A19    0.0\n",
      "A20    1.0\n",
      "      ... \n",
      "F33    1.0\n",
      "F38    0.0\n",
      "F4     1.0\n",
      "G6     0.5\n",
      "T      0.0\n",
      "Name: Survived, Length: 147, dtype: float64\n",
      "Cabin\n",
      "A10    1\n",
      "A14    1\n",
      "A16    1\n",
      "A19    1\n",
      "A20    1\n",
      "      ..\n",
      "F33    3\n",
      "F38    1\n",
      "F4     2\n",
      "G6     4\n",
      "T      1\n",
      "Name: Survived, Length: 147, dtype: int64\n"
     ]
    },
    {
     "data": {
      "image/png": "[encoded data removed]",
      "text/plain": [
       "<Figure size 432x288 with 1 Axes>"
      ]
     },
     "metadata": {
      "needs_background": "light"
     },
     "output_type": "display_data"
    }
   ],
   "source": [
    "survival_by_cabin = train.groupby('Cabin')['Survived']\n",
    "print(survival_by_cabin.agg(np.mean))\n",
    "print(survival_by_cabin.count())\n",
    "#print(survival_by_cabin.loc[survival_by_cabin.count() > 1])\n",
    "survival_by_cabin.agg(np.mean).plot()\n",
    "plt.show()\n"
   ]
  },
  {
   "cell_type": "code",
   "execution_count": 710,
   "metadata": {},
   "outputs": [],
   "source": [
    "def most_frequent(input_list):\n",
    "    if not input_list:\n",
    "        return ''\n",
    "    else:\n",
    "        occurence_count = Counter(input_list)\n",
    "        return occurence_count.most_common(1)[0][0] "
   ]
  },
  {
   "cell_type": "code",
   "execution_count": 711,
   "metadata": {},
   "outputs": [
    {
     "name": "stdout",
     "output_type": "stream",
     "text": [
      "A\n",
      "\n"
     ]
    }
   ],
   "source": [
    "print(most_frequent(['A', 'B', 'A']))\n",
    "print(most_frequent(['']))"
   ]
  },
  {
   "cell_type": "code",
   "execution_count": 712,
   "metadata": {},
   "outputs": [
    {
     "name": "stdout",
     "output_type": "stream",
     "text": [
      "    PassengerId  Survived  Pclass  Sex   Age  SibSp  Parch    Ticket  \\\n",
      "3             4         1       1    0  35.0      1      0    113803   \n",
      "10           11         1       3    0   4.0      1      1   PP 9549   \n",
      "27           28         0       1    1  19.0      3      2     19950   \n",
      "52           53         1       1    0  49.0      1      0  PC 17572   \n",
      "62           63         0       1    1  45.0      1      0     36973   \n",
      "\n",
      "        Fare        Cabin Embarked   LastName Title TicketLetters  \\\n",
      "3    53.1000         C123        S   futrelle   mrs                 \n",
      "10   16.7000           G6        S  sandstrom  miss            pp   \n",
      "27  263.0000  C23 C25 C27        S    fortune    mr                 \n",
      "52   76.7292          D33        C     harper   mrs            pc   \n",
      "62   83.4750          C83        S     harris    mr                 \n",
      "\n",
      "    TicketNumbers CabinLetters  CabinNumbers  AgeDecade  \n",
      "3        113803.0            c         123.0        3.0  \n",
      "10         9549.0            g           6.0        0.0  \n",
      "27        19950.0            c      232527.0        1.0  \n",
      "52        17572.0            d          33.0        4.0  \n",
      "62        36973.0            c          83.0        4.0  \n"
     ]
    },
    {
     "data": {
      "image/png": "[encoded data removed]",
      "text/plain": [
       "<Figure size 432x288 with 1 Axes>"
      ]
     },
     "metadata": {
      "needs_background": "light"
     },
     "output_type": "display_data"
    }
   ],
   "source": [
    "# Cabin, Embarked, and age have missing values\n",
    "# find cabins with more than one person\n",
    "cabin_more_than_one_person = train[train['Cabin'].duplicated(keep=False)].dropna()\n",
    "print(cabin_more_than_one_person.head())\n",
    "cabin_more_than_one_person.groupby('Cabin')['Survived'].agg(np.mean).plot()\n",
    "plt.show()"
   ]
  },
  {
   "cell_type": "code",
   "execution_count": 713,
   "metadata": {},
   "outputs": [
    {
     "ename": "KeyError",
     "evalue": "'CabinLetter'",
     "output_type": "error",
     "traceback": [
      "\u001b[0;31m---------------------------------------------------------------------------\u001b[0m",
      "\u001b[0;31mKeyError\u001b[0m                                  Traceback (most recent call last)",
      "\u001b[0;32m<ipython-input-713-df7f8fe5cdd2>\u001b[0m in \u001b[0;36m<module>\u001b[0;34m\u001b[0m\n\u001b[0;32m----> 1\u001b[0;31m \u001b[0msurvival_by_cabin_letter\u001b[0m \u001b[0;34m=\u001b[0m \u001b[0mtrain\u001b[0m\u001b[0;34m.\u001b[0m\u001b[0mgroupby\u001b[0m\u001b[0;34m(\u001b[0m\u001b[0;34m'CabinLetter'\u001b[0m\u001b[0;34m)\u001b[0m\u001b[0;34m[\u001b[0m\u001b[0;34m'Survived'\u001b[0m\u001b[0;34m]\u001b[0m\u001b[0;34m\u001b[0m\u001b[0;34m\u001b[0m\u001b[0m\n\u001b[0m\u001b[1;32m      2\u001b[0m \u001b[0mprint\u001b[0m\u001b[0;34m(\u001b[0m\u001b[0msurvival_by_cabin_letter\u001b[0m\u001b[0;34m.\u001b[0m\u001b[0magg\u001b[0m\u001b[0;34m(\u001b[0m\u001b[0mnp\u001b[0m\u001b[0;34m.\u001b[0m\u001b[0mmean\u001b[0m\u001b[0;34m)\u001b[0m\u001b[0;34m)\u001b[0m\u001b[0;34m\u001b[0m\u001b[0;34m\u001b[0m\u001b[0m\n\u001b[1;32m      3\u001b[0m \u001b[0mprint\u001b[0m\u001b[0;34m(\u001b[0m\u001b[0msurvival_by_cabin_letter\u001b[0m\u001b[0;34m.\u001b[0m\u001b[0mcount\u001b[0m\u001b[0;34m(\u001b[0m\u001b[0;34m)\u001b[0m\u001b[0;34m)\u001b[0m\u001b[0;34m\u001b[0m\u001b[0;34m\u001b[0m\u001b[0m\n\u001b[1;32m      4\u001b[0m \u001b[0;31m#print(survival_by_cabin.loc[survival_by_cabin.count() > 1])\u001b[0m\u001b[0;34m\u001b[0m\u001b[0;34m\u001b[0m\u001b[0;34m\u001b[0m\u001b[0m\n\u001b[1;32m      5\u001b[0m \u001b[0msurvival_by_cabin_letter\u001b[0m\u001b[0;34m.\u001b[0m\u001b[0magg\u001b[0m\u001b[0;34m(\u001b[0m\u001b[0mnp\u001b[0m\u001b[0;34m.\u001b[0m\u001b[0mmean\u001b[0m\u001b[0;34m)\u001b[0m\u001b[0;34m.\u001b[0m\u001b[0mplot\u001b[0m\u001b[0;34m(\u001b[0m\u001b[0;34m)\u001b[0m\u001b[0;34m\u001b[0m\u001b[0;34m\u001b[0m\u001b[0m\n",
      "\u001b[0;32m/opt/anaconda3/lib/python3.7/site-packages/pandas/core/generic.py\u001b[0m in \u001b[0;36mgroupby\u001b[0;34m(self, by, axis, level, as_index, sort, group_keys, squeeze, observed, **kwargs)\u001b[0m\n\u001b[1;32m   7892\u001b[0m             \u001b[0msqueeze\u001b[0m\u001b[0;34m=\u001b[0m\u001b[0msqueeze\u001b[0m\u001b[0;34m,\u001b[0m\u001b[0;34m\u001b[0m\u001b[0;34m\u001b[0m\u001b[0m\n\u001b[1;32m   7893\u001b[0m             \u001b[0mobserved\u001b[0m\u001b[0;34m=\u001b[0m\u001b[0mobserved\u001b[0m\u001b[0;34m,\u001b[0m\u001b[0;34m\u001b[0m\u001b[0;34m\u001b[0m\u001b[0m\n\u001b[0;32m-> 7894\u001b[0;31m             \u001b[0;34m**\u001b[0m\u001b[0mkwargs\u001b[0m\u001b[0;34m\u001b[0m\u001b[0;34m\u001b[0m\u001b[0m\n\u001b[0m\u001b[1;32m   7895\u001b[0m         )\n\u001b[1;32m   7896\u001b[0m \u001b[0;34m\u001b[0m\u001b[0m\n",
      "\u001b[0;32m/opt/anaconda3/lib/python3.7/site-packages/pandas/core/groupby/groupby.py\u001b[0m in \u001b[0;36mgroupby\u001b[0;34m(obj, by, **kwds)\u001b[0m\n\u001b[1;32m   2520\u001b[0m         \u001b[0;32mraise\u001b[0m \u001b[0mTypeError\u001b[0m\u001b[0;34m(\u001b[0m\u001b[0;34m\"invalid type: {}\"\u001b[0m\u001b[0;34m.\u001b[0m\u001b[0mformat\u001b[0m\u001b[0;34m(\u001b[0m\u001b[0mobj\u001b[0m\u001b[0;34m)\u001b[0m\u001b[0;34m)\u001b[0m\u001b[0;34m\u001b[0m\u001b[0;34m\u001b[0m\u001b[0m\n\u001b[1;32m   2521\u001b[0m \u001b[0;34m\u001b[0m\u001b[0m\n\u001b[0;32m-> 2522\u001b[0;31m     \u001b[0;32mreturn\u001b[0m \u001b[0mklass\u001b[0m\u001b[0;34m(\u001b[0m\u001b[0mobj\u001b[0m\u001b[0;34m,\u001b[0m \u001b[0mby\u001b[0m\u001b[0;34m,\u001b[0m \u001b[0;34m**\u001b[0m\u001b[0mkwds\u001b[0m\u001b[0;34m)\u001b[0m\u001b[0;34m\u001b[0m\u001b[0;34m\u001b[0m\u001b[0m\n\u001b[0m",
      "\u001b[0;32m/opt/anaconda3/lib/python3.7/site-packages/pandas/core/groupby/groupby.py\u001b[0m in \u001b[0;36m__init__\u001b[0;34m(self, obj, keys, axis, level, grouper, exclusions, selection, as_index, sort, group_keys, squeeze, observed, **kwargs)\u001b[0m\n\u001b[1;32m    389\u001b[0m                 \u001b[0msort\u001b[0m\u001b[0;34m=\u001b[0m\u001b[0msort\u001b[0m\u001b[0;34m,\u001b[0m\u001b[0;34m\u001b[0m\u001b[0;34m\u001b[0m\u001b[0m\n\u001b[1;32m    390\u001b[0m                 \u001b[0mobserved\u001b[0m\u001b[0;34m=\u001b[0m\u001b[0mobserved\u001b[0m\u001b[0;34m,\u001b[0m\u001b[0;34m\u001b[0m\u001b[0;34m\u001b[0m\u001b[0m\n\u001b[0;32m--> 391\u001b[0;31m                 \u001b[0mmutated\u001b[0m\u001b[0;34m=\u001b[0m\u001b[0mself\u001b[0m\u001b[0;34m.\u001b[0m\u001b[0mmutated\u001b[0m\u001b[0;34m,\u001b[0m\u001b[0;34m\u001b[0m\u001b[0;34m\u001b[0m\u001b[0m\n\u001b[0m\u001b[1;32m    392\u001b[0m             )\n\u001b[1;32m    393\u001b[0m \u001b[0;34m\u001b[0m\u001b[0m\n",
      "\u001b[0;32m/opt/anaconda3/lib/python3.7/site-packages/pandas/core/groupby/grouper.py\u001b[0m in \u001b[0;36m_get_grouper\u001b[0;34m(obj, key, axis, level, sort, observed, mutated, validate)\u001b[0m\n\u001b[1;32m    619\u001b[0m                 \u001b[0min_axis\u001b[0m\u001b[0;34m,\u001b[0m \u001b[0mname\u001b[0m\u001b[0;34m,\u001b[0m \u001b[0mlevel\u001b[0m\u001b[0;34m,\u001b[0m \u001b[0mgpr\u001b[0m \u001b[0;34m=\u001b[0m \u001b[0;32mFalse\u001b[0m\u001b[0;34m,\u001b[0m \u001b[0;32mNone\u001b[0m\u001b[0;34m,\u001b[0m \u001b[0mgpr\u001b[0m\u001b[0;34m,\u001b[0m \u001b[0;32mNone\u001b[0m\u001b[0;34m\u001b[0m\u001b[0;34m\u001b[0m\u001b[0m\n\u001b[1;32m    620\u001b[0m             \u001b[0;32melse\u001b[0m\u001b[0;34m:\u001b[0m\u001b[0;34m\u001b[0m\u001b[0;34m\u001b[0m\u001b[0m\n\u001b[0;32m--> 621\u001b[0;31m                 \u001b[0;32mraise\u001b[0m \u001b[0mKeyError\u001b[0m\u001b[0;34m(\u001b[0m\u001b[0mgpr\u001b[0m\u001b[0;34m)\u001b[0m\u001b[0;34m\u001b[0m\u001b[0;34m\u001b[0m\u001b[0m\n\u001b[0m\u001b[1;32m    622\u001b[0m         \u001b[0;32melif\u001b[0m \u001b[0misinstance\u001b[0m\u001b[0;34m(\u001b[0m\u001b[0mgpr\u001b[0m\u001b[0;34m,\u001b[0m \u001b[0mGrouper\u001b[0m\u001b[0;34m)\u001b[0m \u001b[0;32mand\u001b[0m \u001b[0mgpr\u001b[0m\u001b[0;34m.\u001b[0m\u001b[0mkey\u001b[0m \u001b[0;32mis\u001b[0m \u001b[0;32mnot\u001b[0m \u001b[0;32mNone\u001b[0m\u001b[0;34m:\u001b[0m\u001b[0;34m\u001b[0m\u001b[0;34m\u001b[0m\u001b[0m\n\u001b[1;32m    623\u001b[0m             \u001b[0;31m# Add key to exclusions\u001b[0m\u001b[0;34m\u001b[0m\u001b[0;34m\u001b[0m\u001b[0;34m\u001b[0m\u001b[0m\n",
      "\u001b[0;31mKeyError\u001b[0m: 'CabinLetter'"
     ]
    }
   ],
   "source": [
    "survival_by_cabin_letter = train.groupby('CabinLetter')['Survived']\n",
    "print(survival_by_cabin_letter.agg(np.mean))\n",
    "print(survival_by_cabin_letter.count())\n",
    "#print(survival_by_cabin.loc[survival_by_cabin.count() > 1])\n",
    "survival_by_cabin_letter.agg(np.mean).plot()\n",
    "plt.show()"
   ]
  },
  {
   "cell_type": "code",
   "execution_count": null,
   "metadata": {},
   "outputs": [],
   "source": [
    "#age_bins = list(range(0,100,10))\n",
    "sns.distplot(train['Fare'].dropna(),  kde=False, label='Died')\n",
    "plt.xlabel('Fare')\n",
    "plt.ylabel('Number')\n",
    "plt.show()"
   ]
  },
  {
   "cell_type": "code",
   "execution_count": null,
   "metadata": {},
   "outputs": [],
   "source": [
    "#age_bins = list(range(0,100,10))\n",
    "df = train[train['Survived'] == 0]\n",
    "sns.distplot(df['Fare'].dropna(),  kde=False, label='Died')\n",
    "df = train[train['Survived'] == 1]\n",
    "sns.distplot(df['Fare'].dropna(),  kde=False, label='Survived')\n",
    "plt.legend()\n",
    "plt.title('Fare of Survival vs Death')\n",
    "plt.xlabel('Fare')\n",
    "plt.ylabel('Number')\n",
    "plt.show()"
   ]
  },
  {
   "cell_type": "code",
   "execution_count": null,
   "metadata": {},
   "outputs": [],
   "source": [
    "sns.scatterplot(x=train['Fare'], y=train['CabinLetter'], hue=train['Survived'])\n",
    "plt.plot()"
   ]
  },
  {
   "cell_type": "code",
   "execution_count": null,
   "metadata": {},
   "outputs": [],
   "source": []
  },
  {
   "cell_type": "code",
   "execution_count": null,
   "metadata": {},
   "outputs": [],
   "source": []
  },
  {
   "cell_type": "code",
   "execution_count": null,
   "metadata": {},
   "outputs": [],
   "source": [
    "print(train.head(20))"
   ]
  },
  {
   "cell_type": "code",
   "execution_count": null,
   "metadata": {},
   "outputs": [],
   "source": []
  },
  {
   "cell_type": "code",
   "execution_count": null,
   "metadata": {},
   "outputs": [],
   "source": [
    "median_fare_by_class = train.groupby('Pclass')['Fare'].agg(np.median).round(2)\n",
    "mask = test['Fare'].isna() & (test['Pclass'] == 3)\n",
    "#tst = test.mask(test['Fare'].isnull() & (test['Pclass'] == 3), median_fare_by_class[3])\n",
    "print(mask.iloc[152])\n",
    "#tst2 = test.copy()\n",
    "#tst2.loc[mask, 'Fare'] = median_fare_by_class[3]\n",
    "test.loc[mask, 'Fare'] = median_fare_by_class[3]\n",
    "print(test.iloc[151:154])\n"
   ]
  }
 ],
 "metadata": {
  "kernelspec": {
   "display_name": "Python 3",
   "language": "python",
   "name": "python3"
  },
  "language_info": {
   "codemirror_mode": {
    "name": "ipython",
    "version": 3
   },
   "file_extension": ".py",
   "mimetype": "text/x-python",
   "name": "python",
   "nbconvert_exporter": "python",
   "pygments_lexer": "ipython3",
   "version": "3.7.4"
  }
 },
 "nbformat": 4,
 "nbformat_minor": 2
}
