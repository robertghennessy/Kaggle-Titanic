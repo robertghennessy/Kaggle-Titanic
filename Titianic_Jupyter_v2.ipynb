{
 "cells": [
  {
   "cell_type": "markdown",
   "metadata": {},
   "source": [
    "The goal of the Titanic competition is to predict who survived the disaster based on some information about the individual. The competition is described at https://www.kaggle.com/c/titanic/overview\n",
    "\n",
    "__Data Dictionary__\n",
    "- Survival: 0 = No, 1 = Yes\n",
    "- Pclass: Ticket class,, 1st = Upper 2nd = Middle 3rd = Lower\n",
    "- Sex: sex of the individual\n",
    "- Age: age in years\n",
    "- SibSp: The # of siblings / spouses aboard the Titanic Sibling = brother, sister, stepbrother, stepsister Spouse = husband, wife (mistresses and fiancés were ignored)\n",
    "- Parch: The # of parents / children aboard the Titanic Parent = mother, father Child = daughter, son, stepdaughter, stepson Some children travelled only with a nanny, therefore parch=0 for them.\n",
    "- Ticket: Ticket number\n",
    "- Fare: Passenger fare\n",
    "- Cabin: Cabin number embarked\n",
    "- Port of Embarkation: C = Cherbourg, Q = Queenstown, S = Southampton"
   ]
  },
  {
   "cell_type": "code",
   "execution_count": 843,
   "metadata": {},
   "outputs": [],
   "source": [
    "import pandas as pd\n",
    "import numpy as np\n",
    "import matplotlib.pyplot as plt\n",
    "import seaborn as sns\n",
    "import re\n",
    "from collections import Counter \n",
    "import scipy.stats as stats\n",
    "import string\n",
    "from sklearn.impute import SimpleImputer\n",
    "from sklearn.model_selection import train_test_split\n",
    "from sklearn.ensemble import RandomForestClassifier\n",
    "from sklearn.model_selection import cross_val_score\n",
    "from sklearn.model_selection import cross_validate\n",
    "from sklearn.neighbors import KNeighborsClassifier\n",
    "from sklearn.naive_bayes import GaussianNB\n",
    "from sklearn.svm import SVC\n",
    "from sklearn.model_selection import RandomizedSearchCV\n",
    "from sklearn.model_selection import GridSearchCV\n",
    "from sklearn import metrics\n",
    "from sklearn.ensemble import GradientBoostingClassifier\n",
    "from sklearn.inspection import permutation_importance\n",
    "from itertools import combinations\n",
    "from sklearn.feature_selection import RFE\n",
    "import scipy.stats\n",
    "from sklearn.metrics import plot_confusion_matrix\n",
    "from sklearn.metrics import accuracy_score\n",
    "import json"
   ]
  },
  {
   "cell_type": "markdown",
   "metadata": {},
   "source": [
    "Loaded the train and test data into pandas data frame. Both the train and test data contain missing values. Train has is missing 177 age values, 687 cabin values and 2 embarked values. Test data is missing 86 age values, 1 fare value and 327 cabin values. The missing values will either need to be imputed (filled in based on training set data) or the rows will need to be removed. Used describe to look into the statistics of the numeric columns. No obvious outliers are observed in the data. "
   ]
  },
  {
   "cell_type": "code",
   "execution_count": 740,
   "metadata": {},
   "outputs": [],
   "source": [
    "target_column = ['Survived']\n",
    "# load in the csv files\n",
    "test = pd.read_csv('data_files/test.csv')\n",
    "train = pd.read_csv('data_files/train.csv')"
   ]
  },
  {
   "cell_type": "markdown",
   "metadata": {},
   "source": [
    "Check_nans return a data frame with percentage missing calculated for the test and train dataframe. "
   ]
  },
  {
   "cell_type": "code",
   "execution_count": 741,
   "metadata": {},
   "outputs": [],
   "source": [
    "def check_nans(train_df, test_df):\n",
    "    train_nan = train_df.isna().sum() / len(train_df) * 100\n",
    "    train_nan.sort_values(inplace=True, ascending=False)\n",
    "    test_nan = test_df.isna().sum() / len(test_df) * 100\n",
    "    test_nan.sort_values(inplace=True, ascending=False)\n",
    "    return_df = pd.concat([train_nan, test_nan], axis=1)\n",
    "    return_df.columns = ['Train', 'Test']\n",
    "    return return_df"
   ]
  },
  {
   "cell_type": "code",
   "execution_count": 742,
   "metadata": {},
   "outputs": [
    {
     "name": "stdout",
     "output_type": "stream",
     "text": [
      "                 Train       Test\n",
      "Cabin        77.104377  78.229665\n",
      "Age          19.865320  20.574163\n",
      "Embarked      0.224467   0.000000\n",
      "Fare          0.000000   0.239234\n",
      "Ticket        0.000000   0.000000\n",
      "Parch         0.000000   0.000000\n",
      "SibSp         0.000000   0.000000\n",
      "Sex           0.000000   0.000000\n",
      "Name          0.000000   0.000000\n",
      "Pclass        0.000000   0.000000\n",
      "Survived      0.000000        NaN\n",
      "PassengerId   0.000000   0.000000\n"
     ]
    }
   ],
   "source": [
    "print(check_nans(train, test))"
   ]
  },
  {
   "cell_type": "code",
   "execution_count": 743,
   "metadata": {},
   "outputs": [
    {
     "name": "stdout",
     "output_type": "stream",
     "text": [
      "\n",
      "Describe train data\n",
      "       PassengerId    Survived      Pclass         Age       SibSp  \\\n",
      "count   891.000000  891.000000  891.000000  714.000000  891.000000   \n",
      "mean    446.000000    0.383838    2.308642   29.699118    0.523008   \n",
      "std     257.353842    0.486592    0.836071   14.526497    1.102743   \n",
      "min       1.000000    0.000000    1.000000    0.420000    0.000000   \n",
      "25%     223.500000    0.000000    2.000000   20.125000    0.000000   \n",
      "50%     446.000000    0.000000    3.000000   28.000000    0.000000   \n",
      "75%     668.500000    1.000000    3.000000   38.000000    1.000000   \n",
      "max     891.000000    1.000000    3.000000   80.000000    8.000000   \n",
      "\n",
      "            Parch        Fare  \n",
      "count  891.000000  891.000000  \n",
      "mean     0.381594   32.204208  \n",
      "std      0.806057   49.693429  \n",
      "min      0.000000    0.000000  \n",
      "25%      0.000000    7.910400  \n",
      "50%      0.000000   14.454200  \n",
      "75%      0.000000   31.000000  \n",
      "max      6.000000  512.329200  \n",
      "\n",
      "Describe test data\n",
      "       PassengerId      Pclass         Age       SibSp       Parch        Fare\n",
      "count   418.000000  418.000000  332.000000  418.000000  418.000000  417.000000\n",
      "mean   1100.500000    2.265550   30.272590    0.447368    0.392344   35.627188\n",
      "std     120.810458    0.841838   14.181209    0.896760    0.981429   55.907576\n",
      "min     892.000000    1.000000    0.170000    0.000000    0.000000    0.000000\n",
      "25%     996.250000    1.000000   21.000000    0.000000    0.000000    7.895800\n",
      "50%    1100.500000    3.000000   27.000000    0.000000    0.000000   14.454200\n",
      "75%    1204.750000    3.000000   39.000000    1.000000    0.000000   31.500000\n",
      "max    1309.000000    3.000000   76.000000    8.000000    9.000000  512.329200\n"
     ]
    }
   ],
   "source": [
    "print('\\nDescribe train data')\n",
    "print(train.describe())\n",
    "print('\\nDescribe test data')\n",
    "print(test.describe())"
   ]
  },
  {
   "cell_type": "markdown",
   "metadata": {},
   "source": [
    "## Check for invalid values\n",
    "\n",
    "Created a function to check to see if any of the rows has invalid values (values that should not exist based on the data definition above). "
   ]
  },
  {
   "cell_type": "code",
   "execution_count": 744,
   "metadata": {},
   "outputs": [
    {
     "name": "stdout",
     "output_type": "stream",
     "text": [
      "Check if train has any invalid values\n",
      "Check if test has any invalid values\n",
      "Column: Survived does not exist\n"
     ]
    }
   ],
   "source": [
    "target_column = 'Survived'\n",
    "\n",
    "# replace NaNs in the train and test dataframes with the missing value\n",
    "#train.fillna(missing_value, inplace=True)\n",
    "#test.fillna(missing_value, inplace=True)\n",
    "\n",
    "check_values_dict = {'Survived':[0, 1], \n",
    "                     'Pclass':[1, 2, 3], \n",
    "                     'Sex':['male', 'female'],\n",
    "                     'Embarked':['C', 'Q', 'S']}\n",
    "\n",
    "def check_values(df, check_dict):\n",
    "    return_dict = {}\n",
    "    for (key, value) in check_dict.items():\n",
    "        # check if the column exists in pandas\n",
    "        if key in df.columns:\n",
    "            # check column and see if there is any invalid values\n",
    "            temp_bool_series = ~df.loc[~df[key].isnull(), key].isin(value)\n",
    "            # if invalid values exist for the column. Store the row indices in dictionary\n",
    "            if temp_bool_series.sum() > 0:\n",
    "                return_dict[key] = temp_bool_series[temp_bool_series].index\n",
    "        else:\n",
    "            print('Column: ' + key + ' does not exist')\n",
    "    return return_dict\n",
    "\n",
    "def print_rows_with_invalid(df, invalid_dict):\n",
    "    for (key, value) in invalid_dict.items():\n",
    "        print(key + ' is invalid in the following rows')\n",
    "        print(df.iloc[value])\n",
    "\n",
    "print('Check if train has any invalid values')\n",
    "print_rows_with_invalid(train, check_values(train, check_values_dict))\n",
    "print('Check if test has any invalid values')\n",
    "print_rows_with_invalid(test, check_values(test, check_values_dict))\n"
   ]
  },
  {
   "cell_type": "markdown",
   "metadata": {},
   "source": [
    "## Feature conversion encoding\n",
    "\n",
    "For most machine learning algorithms, all features must be represented as numbers. Sex is encoded into integers. "
   ]
  },
  {
   "cell_type": "code",
   "execution_count": 745,
   "metadata": {},
   "outputs": [],
   "source": [
    "def encode_sex(df):\n",
    "    df['Sex'] = (df['Sex'].str.lower() == 'male').astype(int)\n",
    "    return df\n",
    "\n",
    "train = encode_sex(train)\n",
    "test = encode_sex(test)"
   ]
  },
  {
   "cell_type": "markdown",
   "metadata": {},
   "source": [
    "Last name may contain useful information because families may have been more likely to survive or perish together. Following function extracts the last name and title. Last name is assumed to be to the left of the comma. The title may give a hint about age and it is assummed to be between the comma and period. Both are converted to lower case to handle if same word was capitalized differntly in different records."
   ]
  },
  {
   "cell_type": "code",
   "execution_count": 746,
   "metadata": {},
   "outputs": [],
   "source": [
    "def parse_name(df):\n",
    "    split_name_at_comma = df['Name'].str.split(',', n=1, expand=True)\n",
    "    df['LastName'] = split_name_at_comma.get(0).str.lower()\n",
    "    split_name_at_period = split_name_at_comma.get(1).str.split('.', n=1, expand=True)\n",
    "    df['Title'] = split_name_at_period.get(0).str.lower().str.strip()\n",
    "    df.drop('Name', axis=1, inplace=True)\n",
    "    return df\n",
    "\n",
    "# extract name and title\n",
    "train = parse_name(train)\n",
    "test = parse_name(test)"
   ]
  },
  {
   "cell_type": "markdown",
   "metadata": {},
   "source": [
    "Ticket column contains letters and numbers. The column will be broken up into letters and numbers. For the text porition of the ticket number, the string is converted to lower case and the punctuation is stripped from the string. "
   ]
  },
  {
   "cell_type": "code",
   "execution_count": 747,
   "metadata": {},
   "outputs": [],
   "source": [
    "# create dictionary of punctuation to remove\n",
    "punctuation_table = str.maketrans(dict.fromkeys(string.punctuation))\n",
    "\n",
    "def parse_ticket(df, punctuation_table):\n",
    "    # split ticket at the first space\n",
    "    split_ticket_at_space = df['Ticket'].str.split(' ', n=1, expand=True)\n",
    "    # convert to lower case and remove the punctuation\n",
    "    temp = split_ticket_at_space.get(0).str.lower().str.translate(punctuation_table)\n",
    "    df['TicketHeader'] = temp[~temp.str.isnumeric()]\n",
    "    df['TicketNumber'] = temp[temp.str.isnumeric()]\n",
    "    df.loc[~temp.str.isnumeric(), 'TicketNumber'] = split_ticket_at_space.get(1)\n",
    "    df['TicketNumber'] = df['TicketNumber'].astype('int64')\n",
    "    return df\n",
    "\n",
    "def extract_numbers_text(df, col):\n",
    "    # Extract letters from the col, combine into one string and convert to lower case\n",
    "    df[col + 'Letters'] = df[col].str.findall(r'[A-Za-z]+').str.join('').str.lower()\n",
    "    # Extract numbers from the col, combine to one string, replace empty strings with NaNs and convert to numeric\n",
    "    df[col + 'Numbers'] = pd.to_numeric(df[col].str.findall(r'[0-9]+').str.join('').replace('', np.nan))\n",
    "    #df.drop(col, axis=1, inplace=True)\n",
    "    return df\n",
    "    \n",
    "\n",
    "train = extract_numbers_text(train, 'Ticket')\n",
    "test = extract_numbers_text(test, 'Ticket')\n",
    "\n",
    "train = extract_numbers_text(train, 'Cabin')\n",
    "test = extract_numbers_text(test, 'Cabin')"
   ]
  },
  {
   "cell_type": "markdown",
   "metadata": {},
   "source": [
    "Some individuals have multiple cabins. For example, cabin = 'C1 C2 C3' would lead to an extracted text = 'ccc'. The following function extracts only the unique characters. For the example above, the extracted text would become 'c'."
   ]
  },
  {
   "cell_type": "code",
   "execution_count": 748,
   "metadata": {},
   "outputs": [],
   "source": [
    "def create_set_string(string):\n",
    "    if type(string) == str:\n",
    "        string = ''.join(sorted(list(set(string))))\n",
    "    return string\n",
    " \n",
    "train['CabinLetters'] = train['CabinLetters'].apply(create_set_string)\n",
    "test['CabinLetters'] = test['CabinLetters'].apply(create_set_string)"
   ]
  },
  {
   "cell_type": "markdown",
   "metadata": {},
   "source": [
    "Calculate the percentage of records in the train and tet dataframes."
   ]
  },
  {
   "cell_type": "code",
   "execution_count": 749,
   "metadata": {},
   "outputs": [],
   "source": [
    "def calc_percent_records(train_df, test_df,  col):\n",
    "    train_per = train_df[col].value_counts(dropna=False)/len(train_df)*100\n",
    "    test_per = test_df[col].value_counts(dropna=False)/len(test_df)*100\n",
    "    out_df = pd.concat([train_per, test_per], axis=1)\n",
    "    out_df.columns = ['Train', 'Test']\n",
    "    return out_df"
   ]
  },
  {
   "cell_type": "markdown",
   "metadata": {},
   "source": [
    "Looked at the percentage of people that were on the different decks. The percentage is low for all decks, which means the deck must be imputed from the other features in order for this to be a useful feature. "
   ]
  },
  {
   "cell_type": "code",
   "execution_count": 750,
   "metadata": {},
   "outputs": [
    {
     "name": "stdout",
     "output_type": "stream",
     "text": [
      "         Train       Test\n",
      "NaN  77.104377  78.229665\n",
      "c     6.621773   8.373206\n",
      "b     5.274972   4.306220\n",
      "d     3.703704   3.110048\n",
      "e     3.591470   2.153110\n",
      "a     1.683502   1.674641\n",
      "f     1.010101   1.196172\n",
      "g     0.448934   0.239234\n",
      "fg    0.336700   0.239234\n",
      "t     0.112233        NaN\n",
      "ef    0.112233   0.478469\n"
     ]
    }
   ],
   "source": [
    "print(calc_percent_records(train, test, 'CabinLetters'))"
   ]
  },
  {
   "cell_type": "markdown",
   "metadata": {},
   "source": [
    "## Impute Missing Data\n",
    "\n",
    "The columns age, cabin, embarked and fare have NaN values. Exploratory data anlysis is performed to see the correlation between parameters with goal of using a different parameter to guess what the missing value should be.\n",
    "\n",
    "Train has is missing 177 age values, 687 cabin values and 2 embarked values. Test data is missing 86 age values, 1 fare value and 327 cabin values.\n",
    "\n"
   ]
  },
  {
   "cell_type": "markdown",
   "metadata": {},
   "source": [
    "### Fare \n",
    "\n",
    "Fare and Pclass should be correlated. Higher fare with better class (lower number). Histogram was created to look for the correlation. Pclass = 1 has higher ticket price than Pclass = 2 and 3. The fare is non gaussin for the different Pclasses"
   ]
  },
  {
   "cell_type": "code",
   "execution_count": 751,
   "metadata": {},
   "outputs": [
    {
     "data": {
      "image/png": "[encoded data removed]",
      "text/plain": [
       "<Figure size 432x288 with 1 Axes>"
      ]
     },
     "metadata": {
      "needs_background": "light"
     },
     "output_type": "display_data"
    }
   ],
   "source": [
    "def multi_hist(df, value_col, hue_col, bins):\n",
    "    unique_values = sorted(df[hue_col].unique())\n",
    "    for value in unique_values:\n",
    "        selected_entries = df[df[hue_col] == value]\n",
    "        label = hue_col + ' = '+ str(value)\n",
    "        sns.distplot(selected_entries[value_col].dropna(),  kde=False, label=label, bins=bins)\n",
    "    plt.legend()\n",
    "    plt.xlabel(value_col)\n",
    "    plt.ylabel('Number')\n",
    "    plt.show()\n",
    "    return None\n",
    "\n",
    "bins = np.arange(0, 90, 10)\n",
    "multi_hist(train, 'Fare', 'Pclass', bins=bins)\n",
    "#Note: There is a new function called sns.histogram that should be released soon which will do the above better"
   ]
  },
  {
   "cell_type": "markdown",
   "metadata": {},
   "source": [
    "A function is created to look at the emperical cummulative distribution function (ECDF). ECDF is another way to look at the distribution of the data. From the ECDF, there is large difference in the distribution for fare of pclass = 1 and the other pclasses. The difference between pclass = 2 and pclass = 3 is small. "
   ]
  },
  {
   "cell_type": "code",
   "execution_count": 752,
   "metadata": {},
   "outputs": [
    {
     "data": {
      "image/png": "[encoded data removed]",
      "text/plain": [
       "<Figure size 432x288 with 1 Axes>"
      ]
     },
     "metadata": {
      "needs_background": "light"
     },
     "output_type": "display_data"
    },
    {
     "name": "stdout",
     "output_type": "stream",
     "text": [
      "             mean   median        std  min       max  count\n",
      "Pclass                                                     \n",
      "1       84.154687  60.2875  78.380373  0.0  512.3292    216\n",
      "2       20.662183  14.2500  13.417399  0.0   73.5000    184\n",
      "3       13.675550   8.0500  11.778142  0.0   69.5500    491\n"
     ]
    }
   ],
   "source": [
    "def multi_ecdf(df, value_col, hue_col):\n",
    "    unique_values = sorted(df[hue_col].dropna().unique())\n",
    "    for value in unique_values:\n",
    "        selected_entries = df[df[hue_col] == value]\n",
    "        label = hue_col + ' = '+ str(value)\n",
    "        \"\"\" Compute ECDF \"\"\"\n",
    "        x = np.sort(selected_entries[value_col].dropna())\n",
    "        n = x.size\n",
    "        y = np.arange(1, n+1) / n\n",
    "        sns.scatterplot(x, y, label=label)\n",
    "    plt.legend()\n",
    "    plt.xlabel(value_col)\n",
    "    plt.ylabel('Cummulative Probability')\n",
    "    plt.show()\n",
    "    return None\n",
    "\n",
    "multi_ecdf(train, 'Fare', 'Pclass')\n",
    "\n",
    "print(train.groupby('Pclass')['Fare'].agg([np.mean, np.median, np.std, 'min', 'max', 'count']))"
   ]
  },
  {
   "cell_type": "markdown",
   "metadata": {},
   "source": [
    "The missing fare will be imputed by using the median fare from train for the given pclass. Additionally, fares of 0 will be considered missing. This reduces the impact of the outliers observed in Pclass = 1."
   ]
  },
  {
   "cell_type": "code",
   "execution_count": 753,
   "metadata": {},
   "outputs": [],
   "source": [
    "train['Fare'] = train['Fare'].replace(0, np.nan)\n",
    "test['Fare'] = test['Fare'].replace(0, np.nan)\n",
    "\n",
    "def impute_fare(train, test):\n",
    "    median_fare_by_class = train.groupby('Pclass')['Fare'].agg(np.median).round(2)\n",
    "    for p_class in median_fare_by_class.index:\n",
    "        mask_train = train['Fare'].isna() & (train['Pclass'] == p_class)\n",
    "        mask_test = test['Fare'].isna() & (test['Pclass'] == p_class)\n",
    "        train.loc[mask_train, 'Fare'] = median_fare_by_class[p_class]\n",
    "        test.loc[mask_test, 'Fare'] = median_fare_by_class[p_class]\n",
    "    return train, test\n",
    "\n",
    "train, test = impute_fare(train, test)"
   ]
  },
  {
   "cell_type": "markdown",
   "metadata": {},
   "source": [
    "### Age\n",
    "\n",
    "Age may be correlated with the title of the person (ex. Mr., Mrs., ....). In order to determine this, histograms were created for the different titles. Before creating the historam any title with very low percentage is merged into a new category callled other. "
   ]
  },
  {
   "cell_type": "code",
   "execution_count": 754,
   "metadata": {},
   "outputs": [
    {
     "name": "stdout",
     "output_type": "stream",
     "text": [
      "                  Train       Test\n",
      "mr            58.024691  57.416268\n",
      "miss          20.426487  18.660287\n",
      "mrs           14.029181  17.224880\n",
      "master         4.489338   5.023923\n",
      "dr             0.785634   0.239234\n",
      "rev            0.673401   0.478469\n",
      "mlle           0.224467        NaN\n",
      "col            0.224467   0.478469\n",
      "major          0.224467        NaN\n",
      "the countess   0.112233        NaN\n",
      "lady           0.112233        NaN\n",
      "don            0.112233        NaN\n",
      "mme            0.112233        NaN\n",
      "jonkheer       0.112233        NaN\n",
      "sir            0.112233        NaN\n",
      "capt           0.112233        NaN\n",
      "ms             0.112233   0.239234\n",
      "dona                NaN   0.239234\n"
     ]
    }
   ],
   "source": [
    "print(calc_percent_records(train, test, 'Title'))"
   ]
  },
  {
   "cell_type": "markdown",
   "metadata": {},
   "source": [
    "Some of the titles are used very infrequently. Those titles will not be useful for training. The following function will merge titles with low frequency into a new title called other."
   ]
  },
  {
   "cell_type": "code",
   "execution_count": 755,
   "metadata": {},
   "outputs": [],
   "source": [
    "def merge_values(df, col, threshold, new_value):\n",
    "    value_precent = df[col].value_counts() / df[col].value_counts().sum() * 100\n",
    "    merge_index = value_precent[value_precent < threshold].index\n",
    "    df.loc[df[col].isin(merge_index), col] = new_value\n",
    "    return df"
   ]
  },
  {
   "cell_type": "code",
   "execution_count": 756,
   "metadata": {},
   "outputs": [
    {
     "name": "stdout",
     "output_type": "stream",
     "text": [
      "            Train       Test\n",
      "mr      58.024691  57.416268\n",
      "miss    20.426487  18.660287\n",
      "mrs     14.029181  17.224880\n",
      "master   4.489338   5.023923\n",
      "other    3.030303   1.674641\n"
     ]
    }
   ],
   "source": [
    "train = merge_values(train, 'Title', 4, 'other')\n",
    "test = merge_values(test, 'Title', 4, 'other')\n",
    "print(calc_percent_records(train, test, 'Title'))"
   ]
  },
  {
   "cell_type": "markdown",
   "metadata": {},
   "source": [
    "Create an ECDF on the age to better determine if a title can be used to impute age. "
   ]
  },
  {
   "cell_type": "code",
   "execution_count": 757,
   "metadata": {
    "scrolled": true
   },
   "outputs": [
    {
     "data": {
      "image/png": "[encoded data removed]",
      "text/plain": [
       "<Figure size 432x288 with 1 Axes>"
      ]
     },
     "metadata": {
      "needs_background": "light"
     },
     "output_type": "display_data"
    }
   ],
   "source": [
    "multi_ecdf(train, 'Age', 'Title')"
   ]
  },
  {
   "cell_type": "code",
   "execution_count": 758,
   "metadata": {},
   "outputs": [
    {
     "name": "stdout",
     "output_type": "stream",
     "text": [
      "             mean  median        std    min   max  count\n",
      "Title                                                   \n",
      "master   4.574167     3.5   3.619872   0.42  12.0     36\n",
      "miss    21.773973    21.0  12.990292   0.75  63.0    146\n",
      "mr      32.368090    30.0  12.708793  11.00  80.0    398\n",
      "mrs     35.898148    35.0  11.433628  14.00  63.0    108\n",
      "other   42.384615    44.5  13.200233  23.00  70.0     26\n"
     ]
    }
   ],
   "source": [
    "print(train.groupby('Title')['Age'].agg([np.mean, np.median, np.std, 'min', 'max', 'count']))"
   ]
  },
  {
   "cell_type": "markdown",
   "metadata": {},
   "source": [
    "Master is a good way to determine if a male is less than 10 years old. However, miss cannot be used by itself because it has a wide distribution. Looked at other variables can be used to determine if a miss is less than 10 years old.  The other two variables that may be helpful is Parch (# of parents and children on board) and SibSp (the number of siblings or spuses on board)."
   ]
  },
  {
   "cell_type": "code",
   "execution_count": 759,
   "metadata": {},
   "outputs": [
    {
     "data": {
      "image/png": "[encoded data removed]",
      "text/plain": [
       "<Figure size 432x288 with 1 Axes>"
      ]
     },
     "metadata": {
      "needs_background": "light"
     },
     "output_type": "display_data"
    },
    {
     "data": {
      "image/png": "[encoded data removed]",
      "text/plain": [
       "<Figure size 432x288 with 1 Axes>"
      ]
     },
     "metadata": {
      "needs_background": "light"
     },
     "output_type": "display_data"
    }
   ],
   "source": [
    "multi_ecdf(train[train['Title'] == 'miss'], 'Age', 'Parch')\n",
    "mask = (train['Title'] == 'miss') & (train['Parch'].isin([1, 2]))\n",
    "sns.distplot(train[mask]['Age'].dropna(),  kde=False, bins=np.arange(0, 90, 10))\n",
    "plt.show()"
   ]
  },
  {
   "cell_type": "markdown",
   "metadata": {},
   "source": [
    "If the miss has at least one parent, she is likely less than 20 years old."
   ]
  },
  {
   "cell_type": "code",
   "execution_count": 760,
   "metadata": {},
   "outputs": [
    {
     "data": {
      "image/png": "[encoded data removed]",
      "text/plain": [
       "<Figure size 432x288 with 1 Axes>"
      ]
     },
     "metadata": {
      "needs_background": "light"
     },
     "output_type": "display_data"
    }
   ],
   "source": [
    "multi_ecdf(train[train['Title'] == 'miss'], 'Age', 'SibSp')"
   ]
  },
  {
   "cell_type": "markdown",
   "metadata": {},
   "source": [
    "The amount of sibling does not seem to be a good metric. There are individuals with no siblings that are less than 10 years. During the titanic disaster, women and children were the first ones on the lifeboats. Therefore, I will create a new feature called child. This feature is to capture any individual that is less than 10 years old. If the age is blank, it will assume that all individuals with the title master and miss with at least one parent is also a child."
   ]
  },
  {
   "cell_type": "code",
   "execution_count": 761,
   "metadata": {},
   "outputs": [
    {
     "name": "stdout",
     "output_type": "stream",
     "text": [
      "0    786\n",
      "1    105\n",
      "Name: Child, dtype: int64\n",
      "0    361\n",
      "1     57\n",
      "Name: Child, dtype: int64\n"
     ]
    }
   ],
   "source": [
    "def encode_child(df, age):\n",
    "    df['Child'] = 0\n",
    "    age_mask = (df['Age'] <= age)\n",
    "    master_mask = (df['Title'] == 'master')\n",
    "    miss_mask = (train['Title'] == 'miss') & (train['Parch'].isin([1, 2]))\n",
    "    df.loc[(age_mask | master_mask | miss_mask),'Child'] = 1\n",
    "    return df\n",
    "\n",
    "train = encode_child(train, 10)\n",
    "test = encode_child(test, 10)\n",
    "\n",
    "\n",
    "print(train['Child'].value_counts())\n",
    "print(test['Child'].value_counts())"
   ]
  },
  {
   "cell_type": "markdown",
   "metadata": {},
   "source": [
    "Group age by decade and look at the survival rate for the different groups."
   ]
  },
  {
   "cell_type": "code",
   "execution_count": 762,
   "metadata": {},
   "outputs": [
    {
     "name": "stdout",
     "output_type": "stream",
     "text": [
      "               mean  count\n",
      "AgeDecade                 \n",
      "0.0        0.612903     62\n",
      "1.0        0.401961    102\n",
      "2.0        0.350000    220\n",
      "3.0        0.437126    167\n",
      "4.0        0.382022     89\n",
      "5.0        0.416667     48\n",
      "6.0        0.315789     19\n",
      "7.0        0.000000      6\n",
      "8.0        1.000000      1\n"
     ]
    }
   ],
   "source": [
    "train['AgeDecade'] = (train['Age'] / 10).apply(np.floor)\n",
    "trained_grouped_by_age_decade = train.groupby('AgeDecade')\n",
    "print(trained_grouped_by_age_decade['Survived'].agg([np.mean, 'count']))"
   ]
  },
  {
   "cell_type": "markdown",
   "metadata": {},
   "source": [
    "Only indiviudals less than 10 years old have significantly different survival rate compared to the other age groups. This age group is covered by the new feature called Child. Age will be dropped because it has little effect on the survival rate and it cannot be imputed by the other features."
   ]
  },
  {
   "cell_type": "code",
   "execution_count": 763,
   "metadata": {},
   "outputs": [],
   "source": [
    "train.drop(['Age', 'AgeDecade'], axis=1, inplace=True)\n",
    "test.drop('Age', axis=1, inplace=True)"
   ]
  },
  {
   "cell_type": "markdown",
   "metadata": {},
   "source": [
    "### Cabin ###\n",
    "\n",
    "Check if ticket number can be used to fill in cabin. People with the same ticket number should be in the same cabin."
   ]
  },
  {
   "cell_type": "code",
   "execution_count": 764,
   "metadata": {},
   "outputs": [
    {
     "name": "stdout",
     "output_type": "stream",
     "text": [
      "10\n",
      "[3.0, 2668.0, 17421.0, 17755.0, 17757.0, 17760.0, 17761.0, 19877.0, 36928.0, 113781.0]\n",
      "     PassengerId  Survived  Pclass  Sex  SibSp  Parch  Ticket    Fare  \\\n",
      "297          298         0       1    0      1      2  113781  151.55   \n",
      "305          306         1       1    1      1      2  113781  151.55   \n",
      "498          499         0       1    0      1      2  113781  151.55   \n",
      "708          709         1       1    0      0      0  113781  151.55   \n",
      "\n",
      "       Cabin Embarked LastName   Title TicketLetters  TicketNumbers  \\\n",
      "297  C22 C26        S  allison    miss                     113781.0   \n",
      "305  C22 C26        S  allison  master                     113781.0   \n",
      "498  C22 C26        S  allison     mrs                     113781.0   \n",
      "708      NaN        S  cleaver    miss                     113781.0   \n",
      "\n",
      "    CabinLetters  CabinNumbers  Child  \n",
      "297            c        2226.0      1  \n",
      "305            c        2226.0      1  \n",
      "498            c        2226.0      0  \n",
      "708          NaN           NaN      0  \n"
     ]
    }
   ],
   "source": [
    "# list of ticket numbers that have a not null cabin\n",
    "ticket_numbers_not_null = train[train['Cabin'].notnull()]['TicketNumbers'].unique()\n",
    "# list of ticket numbers that have a null cabin\n",
    "ticket_numbers_null = train[train['Cabin'].isna()]['TicketNumbers'].unique()\n",
    "# create a list of ticket numbers with at least one nul value and one not null value\n",
    "common_ticket_numbers = sorted(list(set(ticket_numbers_not_null) & set(ticket_numbers_null)))\n",
    "print(len(common_ticket_numbers))\n",
    "print(common_ticket_numbers)\n",
    "print(train[train['TicketNumbers'] == 113781])"
   ]
  },
  {
   "cell_type": "markdown",
   "metadata": {},
   "source": [
    "Unfortunately, only 10 ticket numbers have at least one null and at least one not null value. Looking at some of the entries, those tickets are sold to people with different last name. Therefore, cabin cannot be imputed from ticket number.\n",
    "\n",
    "Check if last name can be used to fill in cabin. It is likely that people with the same last night will be in the same cabin."
   ]
  },
  {
   "cell_type": "code",
   "execution_count": 765,
   "metadata": {},
   "outputs": [
    {
     "name": "stdout",
     "output_type": "stream",
     "text": [
      "14\n",
      "['allen', 'brown', 'carlsson', 'carter', 'daly', 'flynn', 'harper', 'harris', 'hoyt', 'keane', 'peter', 'smith', 'webber', 'wick']\n",
      "     PassengerId  Survived  Pclass  Sex  SibSp  Parch  Ticket   Fare    Cabin  \\\n",
      "249          250         0       2    1      1      0  244252   26.0      NaN   \n",
      "390          391         1       1    1      1      2  113760  120.0  B96 B98   \n",
      "435          436         1       1    0      1      2  113760  120.0  B96 B98   \n",
      "763          764         1       1    0      1      2  113760  120.0  B96 B98   \n",
      "802          803         1       1    1      1      2  113760  120.0  B96 B98   \n",
      "854          855         0       2    0      1      0  244252   26.0      NaN   \n",
      "\n",
      "    Embarked LastName   Title TicketLetters  TicketNumbers CabinLetters  \\\n",
      "249        S   carter   other                     244252.0          NaN   \n",
      "390        S   carter      mr                     113760.0            b   \n",
      "435        S   carter    miss                     113760.0            b   \n",
      "763        S   carter     mrs                     113760.0            b   \n",
      "802        S   carter  master                     113760.0            b   \n",
      "854        S   carter     mrs                     244252.0          NaN   \n",
      "\n",
      "     CabinNumbers  Child  \n",
      "249           NaN      0  \n",
      "390        9698.0      0  \n",
      "435        9698.0      1  \n",
      "763        9698.0      0  \n",
      "802        9698.0      1  \n",
      "854           NaN      0  \n"
     ]
    }
   ],
   "source": [
    "# list of ticket numbers that have a not null cabin\n",
    "last_name_numbers_not_null = train[train['Cabin'].notnull()]['LastName'].unique()\n",
    "# list of ticket numbers that have a null cabin\n",
    "last_name_numbers_null = train[train['Cabin'].isna()]['LastName'].unique()\n",
    "# create a list of ticket numbers with at least one nul value and one not null value\n",
    "common_last_name = sorted(list(set(last_name_numbers_not_null) & set(last_name_numbers_null)))\n",
    "print(len(common_last_name))\n",
    "print(common_last_name)\n",
    "print(train[train['LastName'] == 'carter'])"
   ]
  },
  {
   "cell_type": "markdown",
   "metadata": {},
   "source": [
    "Unfortunately, only 14 last names have at least one null and at least one not null value. Looking at some of the entries, those last names correspond to tickets with very different fares and classes. Therfore, last name cannot be used to determine cabin.\n",
    "\n",
    "Next, investigate if there is a relationship between the Pclass and the cabin deck."
   ]
  },
  {
   "cell_type": "code",
   "execution_count": 766,
   "metadata": {},
   "outputs": [
    {
     "name": "stdout",
     "output_type": "stream",
     "text": [
      "Pclass       1  2  3\n",
      "Cabin Deck          \n",
      "a           15  0  0\n",
      "b           47  0  0\n",
      "c           59  0  0\n",
      "d           29  4  0\n",
      "e           25  4  3\n",
      "ef           0  0  1\n",
      "f            0  8  1\n",
      "fg           0  0  3\n",
      "g            0  0  4\n",
      "t            1  0  0\n"
     ]
    }
   ],
   "source": [
    "print(pd.crosstab(train['CabinLetters'], train['Pclass'], rownames=['Cabin Deck'], colnames=['Pclass']))"
   ]
  },
  {
   "cell_type": "markdown",
   "metadata": {},
   "source": [
    "Only first class passengers were on decks A, B and C. Decks D and E were mostly first class passengers. The other decks were mostly second or third class passengers."
   ]
  },
  {
   "cell_type": "code",
   "execution_count": 767,
   "metadata": {},
   "outputs": [
    {
     "data": {
      "image/png": "[encoded data removed]",
      "text/plain": [
       "<Figure size 432x288 with 1 Axes>"
      ]
     },
     "metadata": {
      "needs_background": "light"
     },
     "output_type": "display_data"
    },
    {
     "name": "stdout",
     "output_type": "stream",
     "text": [
      "                    mean    median         std      min       max  count\n",
      "CabinLetters                                                            \n",
      "a              43.755887  39.60000   15.112007  26.0000   81.8583     15\n",
      "b             116.143211  80.00000  107.214675   5.0000  512.3292     47\n",
      "c             100.151341  83.47500   70.225588  26.5500  263.0000     59\n",
      "d              57.244576  53.10000   29.592832  12.8750  113.2750     33\n",
      "e              46.026694  45.18125   32.608315   8.0500  134.5000     32\n",
      "ef             22.358300  22.35830         NaN  22.3583   22.3583      1\n",
      "f              21.972222  26.00000   12.116907   7.7500   39.0000      9\n",
      "fg              7.650000   7.65000    0.000000   7.6500    7.6500      3\n",
      "g              13.581250  13.58125    3.601222  10.4625   16.7000      4\n",
      "t              35.500000  35.50000         NaN  35.5000   35.5000      1\n"
     ]
    }
   ],
   "source": [
    "multi_ecdf(train, 'Fare', 'CabinLetters')\n",
    "print(train.groupby(by='CabinLetters')['Fare'].agg([np.mean, np.median, np.std, 'min', 'max', 'count']))"
   ]
  },
  {
   "cell_type": "code",
   "execution_count": 768,
   "metadata": {},
   "outputs": [
    {
     "data": {
      "image/png": "[encoded data removed]",
      "text/plain": [
       "<Figure size 432x288 with 1 Axes>"
      ]
     },
     "metadata": {
      "needs_background": "light"
     },
     "output_type": "display_data"
    },
    {
     "name": "stdout",
     "output_type": "stream",
     "text": [
      "                    mean  median         std      min       max  count\n",
      "CabinLetters                                                          \n",
      "a              43.755887  39.600   15.112007  26.0000   81.8583     15\n",
      "b             116.143211  80.000  107.214675   5.0000  512.3292     47\n",
      "c             100.151341  83.475   70.225588  26.5500  263.0000     59\n",
      "d              63.324286  75.250   26.172260  25.9292  113.2750     29\n",
      "e              55.740168  55.000   30.386910  25.5875  134.5000     25\n",
      "t              35.500000  35.500         NaN  35.5000   35.5000      1\n"
     ]
    }
   ],
   "source": [
    "multi_ecdf(train[train['Pclass'].isin([1])], 'Fare', 'CabinLetters')\n",
    "print(train[train['Pclass'].isin([1])].groupby(by='CabinLetters'\n",
    "                                              )['Fare'].agg([np.mean, np.median, np.std, 'min', 'max', 'count']))"
   ]
  },
  {
   "cell_type": "markdown",
   "metadata": {},
   "source": [
    "There appears to be no way to easily impute the cabin from the other data that should correlate with it. Therefore, cabin and cabin letters will be dropped."
   ]
  },
  {
   "cell_type": "code",
   "execution_count": 769,
   "metadata": {},
   "outputs": [],
   "source": [
    "train.drop(['Cabin', 'CabinLetters', 'CabinNumbers'], axis=1, inplace=True)\n",
    "test.drop(['Cabin', 'CabinLetters', 'CabinNumbers'], axis=1, inplace=True)"
   ]
  },
  {
   "cell_type": "markdown",
   "metadata": {},
   "source": [
    "### Embarked ###"
   ]
  },
  {
   "cell_type": "markdown",
   "metadata": {},
   "source": [
    "Embarktation port is unlikely to be correlated with any other parameter. Missing values will be replaced with the most common values."
   ]
  },
  {
   "cell_type": "code",
   "execution_count": 770,
   "metadata": {},
   "outputs": [],
   "source": [
    "embark_mode = train['Embarked'].mode()[0]\n",
    "train['Embarked'].fillna(embark_mode, inplace=True)\n",
    "test['Embarked'].fillna(embark_mode, inplace=True)"
   ]
  },
  {
   "cell_type": "markdown",
   "metadata": {},
   "source": [
    "For most machine learing algorithms, the data needs to be encoded as numbers. The following code encodes the location where the person embarked. "
   ]
  },
  {
   "cell_type": "code",
   "execution_count": 771,
   "metadata": {},
   "outputs": [],
   "source": [
    "dict_encode_embarked = {'C':0, 'Q':1, 'S':2}\n",
    "train['Embarked'].replace(dict_encode_embarked, inplace=True)\n",
    "test['Embarked'].replace(dict_encode_embarked, inplace=True)"
   ]
  },
  {
   "cell_type": "markdown",
   "metadata": {},
   "source": [
    "### Fare Encoding ###"
   ]
  },
  {
   "cell_type": "markdown",
   "metadata": {},
   "source": [
    "Plot the ECDF of the fare column."
   ]
  },
  {
   "cell_type": "code",
   "execution_count": 772,
   "metadata": {},
   "outputs": [
    {
     "data": {
      "image/png": "[encoded data removed]",
      "text/plain": [
       "<Figure size 432x288 with 1 Axes>"
      ]
     },
     "metadata": {
      "needs_background": "light"
     },
     "output_type": "display_data"
    }
   ],
   "source": [
    "def ecdf(df, value_col):\n",
    "    x = np.sort(df[value_col].dropna())\n",
    "    n = x.size\n",
    "    y = np.arange(1, n+1) / n\n",
    "    sns.scatterplot(x, y)\n",
    "    plt.xlabel(value_col)\n",
    "    plt.ylabel('Cummulative Probability')\n",
    "    plt.show()\n",
    "    return None\n",
    "\n",
    "ecdf(train, 'Fare')"
   ]
  },
  {
   "cell_type": "markdown",
   "metadata": {},
   "source": [
    "The fares have a long tail and are spread out. Will break up the fares into 10 separate categories of approximately the same size."
   ]
  },
  {
   "cell_type": "code",
   "execution_count": 773,
   "metadata": {},
   "outputs": [
    {
     "name": "stdout",
     "output_type": "stream",
     "text": [
      "[  4.0125   7.7375   7.8958   8.05    11.2417  14.5     23.      27.7208\n",
      "  41.5792  77.9583 512.3292]\n"
     ]
    }
   ],
   "source": [
    "def determine_boundaries(df, col, numb_cats):\n",
    "    vals = np.sort(df[col].to_numpy())\n",
    "    numb_per_cat = len(vals) // numb_cats\n",
    "    mod = len(vals) % numb_cats\n",
    "    # create index array. Spread out the mod so that last bucket is not \n",
    "    # significantly larger than other buckets\n",
    "    indexes = np.arange(0, len(vals)+1, numb_per_cat)\n",
    "    mod_corr = np.zeros(numb_cats+1)\n",
    "    mod_corr[0:mod+1] = np.arange(0, mod+1)\n",
    "    mod_corr[mod+1:] = mod_corr[mod]\n",
    "    # correct for 0 indexing\n",
    "    indexes =  indexes + mod_corr - np.ones(numb_cats+1)\n",
    "    indexes[0] = 0\n",
    "    indexes = indexes.astype(int)\n",
    "    return vals[indexes]\n",
    "\n",
    "boundaries = determine_boundaries(train, 'Fare', 10)\n",
    "print(boundaries)"
   ]
  },
  {
   "cell_type": "code",
   "execution_count": 774,
   "metadata": {},
   "outputs": [
    {
     "data": {
      "image/png": "[encoded data removed]",
      "text/plain": [
       "<Figure size 432x288 with 1 Axes>"
      ]
     },
     "metadata": {
      "needs_background": "light"
     },
     "output_type": "display_data"
    },
    {
     "name": "stdout",
     "output_type": "stream",
     "text": [
      "[  4.0125   7.7375   7.8958   8.05    11.2417  14.5     23.      27.7208\n",
      "  41.5792  77.9583 512.3292]\n"
     ]
    }
   ],
   "source": [
    "numb_cats= 10\n",
    "train['FareCats'], bins = pd.qcut(train['Fare'], numb_cats, retbins=True, labels=np.arange(0,numb_cats))\n",
    "sns.scatterplot(train['Fare'], train['FareCats'])\n",
    "plt.xlabel('Fare')\n",
    "plt.ylabel('Fare Category')\n",
    "plt.show()\n",
    "print(bins)"
   ]
  },
  {
   "cell_type": "markdown",
   "metadata": {},
   "source": [
    "Use the bins from train to encode the test data."
   ]
  },
  {
   "cell_type": "code",
   "execution_count": 775,
   "metadata": {},
   "outputs": [
    {
     "name": "stdout",
     "output_type": "stream",
     "text": [
      "1    65\n",
      "4    48\n",
      "0    47\n",
      "8    45\n",
      "5    45\n",
      "9    44\n",
      "6    40\n",
      "3    31\n",
      "7    30\n",
      "2    23\n",
      "Name: FareCats, dtype: int64\n"
     ]
    },
    {
     "data": {
      "image/png": "[encoded data removed]",
      "text/plain": [
       "<Figure size 432x288 with 1 Axes>"
      ]
     },
     "metadata": {
      "needs_background": "light"
     },
     "output_type": "display_data"
    },
    {
     "name": "stdout",
     "output_type": "stream",
     "text": [
      "[  0.       7.7375   7.8958   8.05    11.2417  14.5     23.      27.7208\n",
      "  41.5792  77.9583 512.3292]\n"
     ]
    }
   ],
   "source": [
    "# ensure that all fares are encoded\n",
    "bins[0] = 0\n",
    "\n",
    "test['FareCats'], bins = pd.cut(test['Fare'], bins=bins, retbins=True, labels=np.arange(0,numb_cats))\n",
    "print(test['FareCats'].value_counts())\n",
    "sns.scatterplot(test['Fare'], test['FareCats'])\n",
    "plt.xlabel('Fare')\n",
    "plt.ylabel('Fare Category')\n",
    "plt.show()\n",
    "print(bins)"
   ]
  },
  {
   "cell_type": "markdown",
   "metadata": {},
   "source": [
    "Check to see if the fare categories have an impact on the survival rate."
   ]
  },
  {
   "cell_type": "code",
   "execution_count": 776,
   "metadata": {},
   "outputs": [
    {
     "name": "stdout",
     "output_type": "stream",
     "text": [
      "FareCats\n",
      "0    0.177778\n",
      "1    0.228814\n",
      "2    0.227273\n",
      "3    0.273810\n",
      "4    0.375000\n",
      "5    0.456522\n",
      "6    0.465116\n",
      "7    0.388889\n",
      "8    0.500000\n",
      "9    0.758621\n",
      "Name: Survived, dtype: float64\n"
     ]
    }
   ],
   "source": [
    "print(train.groupby('FareCats')['Survived'].agg(np.mean))"
   ]
  },
  {
   "cell_type": "markdown",
   "metadata": {},
   "source": [
    "This looks like a good feature. Drop fare because it is redundant and convert FareCats into numbers."
   ]
  },
  {
   "cell_type": "code",
   "execution_count": 777,
   "metadata": {},
   "outputs": [],
   "source": [
    "train.drop('Fare', inplace=True, axis=1)\n",
    "test.drop('Fare', inplace=True, axis=1)\n",
    "train['FareCats'] = train['FareCats'].astype(int)\n",
    "test['FareCats'] = test['FareCats'].astype(int)"
   ]
  },
  {
   "cell_type": "markdown",
   "metadata": {},
   "source": [
    "# Feature Checking #"
   ]
  },
  {
   "cell_type": "markdown",
   "metadata": {},
   "source": [
    "Determine which features have too few common entries to be useful by looking at the percentage of entries that contained the most common value. Also looked at the percentage entries that had the least common value to determine if any of the entries should be merged. "
   ]
  },
  {
   "cell_type": "code",
   "execution_count": 778,
   "metadata": {},
   "outputs": [
    {
     "name": "stdout",
     "output_type": "stream",
     "text": [
      "Train\n",
      "           Column MostCommonValue  MCV_Percent LeastCommonValue  LCV_Percent\n",
      "0     PassengerId             891     0.112233                1     0.112233\n",
      "6          Ticket            1601     0.785634           349212     0.112233\n",
      "11  TicketNumbers            2343     0.785634           348124     0.112233\n",
      "8        LastName       andersson     1.010101            ayoub     0.112233\n",
      "10  TicketLetters              pc     6.734007               as     0.112233\n",
      "13       FareCats               1    13.243547                2     7.407407\n",
      "2          Pclass               3    55.106622                2    20.650954\n",
      "9           Title              mr    58.024691            other     3.030303\n",
      "1        Survived               0    61.616162                1    38.383838\n",
      "3             Sex               1    64.758698                0    35.241302\n",
      "4           SibSp               0    68.237935                5     0.561167\n",
      "7        Embarked               2    72.502806                1     8.641975\n",
      "5           Parch               0    76.094276                6     0.112233\n",
      "12          Child               0    88.215488                1    11.784512\n",
      "Test\n",
      "           Column MostCommonValue  MCV_Percent LeastCommonValue  LCV_Percent\n",
      "0     PassengerId             891     0.112233                1     0.112233\n",
      "6          Ticket            1601     0.785634           349212     0.112233\n",
      "11  TicketNumbers            2343     0.785634           348124     0.112233\n",
      "8        LastName       andersson     1.010101            ayoub     0.112233\n",
      "10  TicketLetters              pc     6.734007               as     0.112233\n",
      "13       FareCats               1    13.243547                2     7.407407\n",
      "2          Pclass               3    55.106622                2    20.650954\n",
      "9           Title              mr    58.024691            other     3.030303\n",
      "1        Survived               0    61.616162                1    38.383838\n",
      "3             Sex               1    64.758698                0    35.241302\n",
      "4           SibSp               0    68.237935                5     0.561167\n",
      "7        Embarked               2    72.502806                1     8.641975\n",
      "5           Parch               0    76.094276                6     0.112233\n",
      "12          Child               0    88.215488                1    11.784512\n"
     ]
    }
   ],
   "source": [
    "def common_percent(df):\n",
    "    ret_pd = pd.DataFrame(columns=['Column', 'MostCommonValue', 'MCV_Percent', 'LeastCommonValue', 'LCV_Percent'])\n",
    "    for col in df.columns:\n",
    "        value_counts = df[col].replace('', np.nan, regex=True).dropna().value_counts()\n",
    "        ret_pd = ret_pd.append({'Column': col,\n",
    "                                'MostCommonValue': value_counts.index[0],\n",
    "                                'MCV_Percent': value_counts.iloc[0]/len(df)*100,\n",
    "                                'LeastCommonValue': value_counts.index[-1],\n",
    "                                'LCV_Percent': value_counts.iloc[-1]/len(df)*100},\n",
    "                               ignore_index=True)\n",
    "        \n",
    "    return ret_pd.sort_values(by=['MCV_Percent', 'LCV_Percent'])\n",
    "\n",
    "print('Train')\n",
    "print(common_percent(train))\n",
    "\n",
    "print('Test')\n",
    "print(common_percent(train))"
   ]
  },
  {
   "cell_type": "markdown",
   "metadata": {},
   "source": [
    "Ticket, TicketLetters, TicketNumbers and LastName have entries with very low incidence. Therefore, they will be dropped.\n",
    "\n",
    "Title will be dropped becuase it was used to include the feature Child and also encodes gender which is in the Sex column."
   ]
  },
  {
   "cell_type": "code",
   "execution_count": 779,
   "metadata": {},
   "outputs": [],
   "source": [
    "drop_list = ['Ticket', 'TicketNumbers', 'LastName', 'TicketLetters', 'Title']\n",
    "train.drop(drop_list, axis=1, inplace=True)\n",
    "test.drop(drop_list, axis=1, inplace=True)"
   ]
  },
  {
   "cell_type": "markdown",
   "metadata": {},
   "source": [
    "Parch and SibSp have some values that are very rare. Therefore, will investigate merging values."
   ]
  },
  {
   "cell_type": "code",
   "execution_count": 780,
   "metadata": {},
   "outputs": [
    {
     "name": "stdout",
     "output_type": "stream",
     "text": [
      "       Train       Test\n",
      "0  76.094276  77.511962\n",
      "1  13.243547  12.440191\n",
      "2   8.978676   7.894737\n",
      "3   0.561167   0.717703\n",
      "4   0.448934   0.478469\n",
      "5   0.561167   0.239234\n",
      "6   0.112233   0.239234\n",
      "9        NaN   0.478469\n",
      "       Train       Test\n",
      "0  68.237935  67.703349\n",
      "1  23.456790  26.315789\n",
      "2   3.142536   3.349282\n",
      "4   2.020202   0.956938\n",
      "3   1.795735   0.956938\n",
      "8   0.785634   0.478469\n",
      "5   0.561167   0.239234\n"
     ]
    }
   ],
   "source": [
    "print(calc_percent_records(train, test, 'Parch'))\n",
    "print(calc_percent_records(train, test, 'SibSp'))"
   ]
  },
  {
   "cell_type": "markdown",
   "metadata": {},
   "source": [
    "For Parch, any entries with incidence less than 5% will be merged into a new category 3. For SibSp, any category with incidence less than 5% will be merged into a new category 2."
   ]
  },
  {
   "cell_type": "code",
   "execution_count": 781,
   "metadata": {},
   "outputs": [],
   "source": [
    "train = merge_values(train, 'Parch', 5, 3)\n",
    "test = merge_values(test, 'Parch', 5, 3)\n",
    "train = merge_values(train, 'SibSp', 5, 2)\n",
    "test = merge_values(test, 'SibSp', 5, 2)"
   ]
  },
  {
   "cell_type": "code",
   "execution_count": 782,
   "metadata": {},
   "outputs": [
    {
     "name": "stdout",
     "output_type": "stream",
     "text": [
      "       Train       Test\n",
      "0  76.094276  77.511962\n",
      "1  13.243547  12.440191\n",
      "2   8.978676   7.894737\n",
      "3   1.683502   2.153110\n",
      "       Train       Test\n",
      "0  68.237935  67.703349\n",
      "1  23.456790  26.315789\n",
      "2   8.305275   5.980861\n"
     ]
    }
   ],
   "source": [
    "print(calc_percent_records(train, test, 'Parch'))\n",
    "print(calc_percent_records(train, test, 'SibSp'))"
   ]
  },
  {
   "cell_type": "markdown",
   "metadata": {},
   "source": [
    "Before running machine learning on this data, all data must be converted to numeric values. The following checks that the columns are encoded as numbers."
   ]
  },
  {
   "cell_type": "code",
   "execution_count": 783,
   "metadata": {},
   "outputs": [
    {
     "name": "stdout",
     "output_type": "stream",
     "text": [
      "PassengerId    int64\n",
      "Survived       int64\n",
      "Pclass         int64\n",
      "Sex            int64\n",
      "SibSp          int64\n",
      "Parch          int64\n",
      "Embarked       int64\n",
      "Child          int64\n",
      "FareCats       int64\n",
      "dtype: object\n",
      "PassengerId    int64\n",
      "Pclass         int64\n",
      "Sex            int64\n",
      "SibSp          int64\n",
      "Parch          int64\n",
      "Embarked       int64\n",
      "Child          int64\n",
      "FareCats       int64\n",
      "dtype: object\n"
     ]
    }
   ],
   "source": [
    "print(train.dtypes)\n",
    "print(test.dtypes)"
   ]
  },
  {
   "cell_type": "markdown",
   "metadata": {},
   "source": [
    "Check to see if any of the remaining columns have NaNs."
   ]
  },
  {
   "cell_type": "code",
   "execution_count": 784,
   "metadata": {},
   "outputs": [
    {
     "name": "stdout",
     "output_type": "stream",
     "text": [
      "             Train  Test\n",
      "FareCats       0.0   0.0\n",
      "Child          0.0   0.0\n",
      "Embarked       0.0   0.0\n",
      "Parch          0.0   0.0\n",
      "SibSp          0.0   0.0\n",
      "Sex            0.0   0.0\n",
      "Pclass         0.0   0.0\n",
      "Survived       0.0   NaN\n",
      "PassengerId    0.0   0.0\n"
     ]
    }
   ],
   "source": [
    "print(check_nans(train, test))"
   ]
  },
  {
   "cell_type": "markdown",
   "metadata": {},
   "source": [
    "All of the data is encoded as numbers and all have the NaNs have been replaced with other values. To check if there is any redundant features, a correlation heat map will be created. Correlation only checks if there is a linear relationship. It will not capture a nonlinear relationship."
   ]
  },
  {
   "cell_type": "code",
   "execution_count": 785,
   "metadata": {},
   "outputs": [
    {
     "data": {
      "image/png": "[encoded data removed]",
      "text/plain": [
       "<Figure size 432x288 with 2 Axes>"
      ]
     },
     "metadata": {
      "needs_background": "light"
     },
     "output_type": "display_data"
    }
   ],
   "source": [
    "sns.heatmap(train.drop(['PassengerId'], axis=1).corr(), cmap='viridis',annot = True)\n",
    "plt.show()"
   ]
  },
  {
   "cell_type": "markdown",
   "metadata": {},
   "source": [
    "There are correlations between the different values but nothing above 0.6. None of the featues will be dropped. "
   ]
  },
  {
   "cell_type": "markdown",
   "metadata": {},
   "source": [
    "# Machine Learning #"
   ]
  },
  {
   "cell_type": "markdown",
   "metadata": {},
   "source": [
    "Features and target need to be split up."
   ]
  },
  {
   "cell_type": "code",
   "execution_count": 786,
   "metadata": {},
   "outputs": [],
   "source": [
    "random_state = 0\n",
    "\n",
    "train_features = train.drop(['PassengerId', 'Survived'], axis=1)\n",
    "train_target = train['Survived']\n",
    "test_features = test.drop(['PassengerId'], axis=1)"
   ]
  },
  {
   "cell_type": "markdown",
   "metadata": {},
   "source": [
    "Five machine learning algorithms will be investigated - random forest, nearest neighbors, naive bayes, suppport vector machine and gradient boosting classifier. Random forest consists of a group of decision trees. Nearest neighbors classifies a data point based on the classification of its nearest neighbors. Naive gaussian uses Bayes theorem to classify new datapoints. It assumes that the features are independent which is not the case in this problem - fare and pclass would be correlated. Support vector mahcine creates a hyperplane to break up the data points into different clusters. Gradient boosting classifier is an ensemble model of decision trees."
   ]
  },
  {
   "cell_type": "markdown",
   "metadata": {},
   "source": [
    "The function evaluate_classifier performs cross validation on the given classifier for different scores. It returns a dictionary that can be stored in the results_df.\n",
    "\n",
    "The following is the background of different scorers.\n",
    "1. accuracy is the ratio of true results to the total number of cases investigated ((True Positives + True Negatives)/(True positives + False Positives + True Neagtives + False Negatives)). This should be used when the cases are well balanced, which means that the positives approximately equal the negatives. If yes is very rare, guessing no every time will lead to a high accuracy score.\n",
    "2. precision is the ratio of true positives to total predicted trues (True Positives / (True Positives + False Positives). Used when you need to be very sure of your prediction.\n",
    "3. recall (aka sensitivity) is the ratio of the actual positives that are correctly characterized (True Positive /(True Positive + False Negative)). Used to capture as many positives as possible. Recall is 1 when True is predicted for all examples. \n",
    "4. specifity (aka selectivity) is the ratio of the actual negatives that are correctly characterized (True Negative /(True Negative + False Positive))\n",
    "\n",
    "https://en.wikipedia.org/wiki/Evaluation_of_binary_classifiers\n",
    "\n",
    "The following scorers are used.\n",
    "1. accuracy - see above\n",
    "2. F1 score is the harmonic mean of percision and recall. \n",
    "F1 = (2 * percision * recall)/(percision + recall) = tp / (tp + 1/2 * (fp + fn))\n",
    "Manages the tradeoff between getting only true positives and maximizing the number of true positives. However, it does not take into account true negatives. Want to maximize F1 score\n",
    "3. logloss is related to the likelihood function. It is given by\n",
    "-log P(y_true|y_pred) = -(y_true log(y_pred) + (1 - y_true) log(1 - y_pred))\n",
    "Want to minimize log loss score\n",
    "4. AUC is the area under the roc curve. The ROC curve is 1 - specificty = FP / (TN + FP) vs sensitivity = TP / (TP + FN)\n",
    "5. Balanced accuracy should be used instead of accuracy if the classes are imbalanced. Balanced accuracy = 1/2 * (Sensitivity + Spe\n",
    "\n",
    "Each of the scorers have a lot of input parameters that may be needed for other problems.\n",
    "\n",
    "https://scikit-learn.org/stable/modules/model_evaluation.html\n",
    "\n"
   ]
  },
  {
   "cell_type": "code",
   "execution_count": 787,
   "metadata": {},
   "outputs": [],
   "source": [
    "def mean_3sig(x):\n",
    "    return np.mean(x) - 3 * np.std(x)\n",
    "\n",
    "def prob_8(x):\n",
    "    return 1 - scipy.stats.norm(np.mean(x), np.std(x)).cdf(0.8)"
   ]
  },
  {
   "cell_type": "code",
   "execution_count": 788,
   "metadata": {},
   "outputs": [],
   "source": [
    "X_train, X_test, y_train, y_test = train_test_split(train_features, train_target, test_size=0.25, random_state=0)"
   ]
  },
  {
   "cell_type": "code",
   "execution_count": 789,
   "metadata": {},
   "outputs": [],
   "source": [
    "scorers = ['accuracy', 'f1', 'neg_log_loss', 'roc_auc', 'balanced_accuracy']\n",
    "scorer_math = [np.mean, np.std]\n",
    "test_scorer_key = ['test_' + x for x in scorers]\n",
    "scorer_names_df = [x+'_'+y.__name__ for x in scorers for y in scorer_math]\n",
    "col_names = ['classifier'] + scorer_names_df + ['kaggle_score']\n",
    "results_df = pd.DataFrame(columns=col_names)"
   ]
  },
  {
   "cell_type": "code",
   "execution_count": 790,
   "metadata": {},
   "outputs": [],
   "source": [
    "def evaluate_classifier(classifier, train_features, train_target, scorers, scorer_math):\n",
    "    results = cross_validate(classifier, train_features, train_target, cv=5,\n",
    "                             scoring=scorers, return_train_score=True)\n",
    "    parse_dict = {'classifier': str(classifier).split('(')[0]}\n",
    "    for sc in scorers:\n",
    "        for ma_func in scorer_math:\n",
    "            parse_dict[sc+'_'+ma_func.__name__] = ma_func(results['test_' + sc])\n",
    "            \n",
    "    return parse_dict"
   ]
  },
  {
   "cell_type": "code",
   "execution_count": 879,
   "metadata": {},
   "outputs": [],
   "source": [
    "def generate_predictions(estimator, test_features, test_df, filename):\n",
    "    y_pred = estimator.predict(test_features).astype(int)\n",
    "    pred_df = pd.DataFrame( {'Survived': y_pred}, index=test_df['PassengerId'])\n",
    "    pred_df.to_csv(filename)\n",
    "    return None"
   ]
  },
  {
   "cell_type": "markdown",
   "metadata": {},
   "source": [
    "The blocks below instantiate and uses the five classifiers using the default values. Additionally, the confusion matrix will be plotted to what items are misclassified."
   ]
  },
  {
   "cell_type": "code",
   "execution_count": 791,
   "metadata": {},
   "outputs": [],
   "source": [
    "rf = RandomForestClassifier(random_state=random_state)\n",
    "results_df = results_df.append(evaluate_classifier(rf, train_features, train_target,\n",
    "                                                   scorers, scorer_math), ignore_index=True)\n",
    "rf.fit(train_features, train_target)\n",
    "y_pred = rf.predict(test_features).astype(int)\n",
    "pred_df = pd.DataFrame( {'Survived': y_pred}, index=test['PassengerId'])\n",
    "pred_df.to_csv('default_rf_submission.csv')"
   ]
  },
  {
   "cell_type": "code",
   "execution_count": 792,
   "metadata": {},
   "outputs": [
    {
     "data": {
      "image/png": "[encoded data removed]",
      "text/plain": [
       "<Figure size 432x288 with 2 Axes>"
      ]
     },
     "metadata": {
      "needs_background": "light"
     },
     "output_type": "display_data"
    }
   ],
   "source": [
    "rf = RandomForestClassifier(random_state=random_state)\n",
    "rf.fit(X_train, y_train)\n",
    "plot_confusion_matrix(rf, X_test, y_test, normalize='true')\n",
    "plt.show()"
   ]
  },
  {
   "cell_type": "markdown",
   "metadata": {},
   "source": [
    "The default random forest classifier performs well when the true label is 0 (90% accurate) and less well when the true label is 1 (73%)."
   ]
  },
  {
   "cell_type": "code",
   "execution_count": 793,
   "metadata": {},
   "outputs": [],
   "source": [
    "knn = KNeighborsClassifier()\n",
    "results_df = results_df.append(evaluate_classifier(knn, train_features, train_target,\n",
    "                                                   scorers, scorer_math), ignore_index=True)\n",
    "knn.fit(train_features, train_target)\n",
    "y_pred = knn.predict(test_features).astype(int)\n",
    "pred_df = pd.DataFrame( {'Survived': y_pred}, index=test['PassengerId'])\n",
    "pred_df.to_csv('default_knn_submission.csv')"
   ]
  },
  {
   "cell_type": "code",
   "execution_count": 794,
   "metadata": {},
   "outputs": [
    {
     "data": {
      "image/png": "[encoded data removed]",
      "text/plain": [
       "<Figure size 432x288 with 2 Axes>"
      ]
     },
     "metadata": {
      "needs_background": "light"
     },
     "output_type": "display_data"
    }
   ],
   "source": [
    "knn = KNeighborsClassifier()\n",
    "knn.fit(X_train, y_train)\n",
    "plot_confusion_matrix(knn, X_test, y_test, normalize='true')\n",
    "plt.show()"
   ]
  },
  {
   "cell_type": "markdown",
   "metadata": {},
   "source": [
    "The default nearest neighbor classifier performs well when the true label is 0 (90% accurate) and less well when the true label is 1 (65%)."
   ]
  },
  {
   "cell_type": "code",
   "execution_count": 795,
   "metadata": {},
   "outputs": [],
   "source": [
    "gnb = GaussianNB()\n",
    "results_df = results_df.append(evaluate_classifier(gnb, train_features, train_target,\n",
    "                                                   scorers, scorer_math), ignore_index=True)\n",
    "gnb.fit(train_features, train_target)\n",
    "y_pred = gnb.predict(test_features).astype(int)\n",
    "pred_df = pd.DataFrame( {'Survived': y_pred}, index=test['PassengerId'])\n",
    "pred_df.to_csv('default_gnb_submission.csv')"
   ]
  },
  {
   "cell_type": "code",
   "execution_count": 796,
   "metadata": {},
   "outputs": [
    {
     "data": {
      "image/png": "[encoded data removed]",
      "text/plain": [
       "<Figure size 432x288 with 2 Axes>"
      ]
     },
     "metadata": {
      "needs_background": "light"
     },
     "output_type": "display_data"
    }
   ],
   "source": [
    "gnb = GaussianNB()\n",
    "gnb.fit(X_train, y_train)\n",
    "plot_confusion_matrix(gnb, X_test, y_test, normalize='true')\n",
    "plt.show()"
   ]
  },
  {
   "cell_type": "markdown",
   "metadata": {},
   "source": [
    "The default naive bayes classifier performs fine when the true label is 0 (77% accurate) and when the true label is 0 (81%)."
   ]
  },
  {
   "cell_type": "code",
   "execution_count": 797,
   "metadata": {},
   "outputs": [],
   "source": [
    "svc = SVC(probability=True)\n",
    "results_df = results_df.append(evaluate_classifier(svc, train_features, train_target,\n",
    "                                                   scorers, scorer_math), ignore_index=True)\n",
    "svc.fit(train_features, train_target)\n",
    "y_pred = svc.predict(test_features).astype(int)\n",
    "pred_df = pd.DataFrame( {'Survived': y_pred}, index=test['PassengerId'])\n",
    "pred_df.to_csv('default_svc_submission.csv')"
   ]
  },
  {
   "cell_type": "code",
   "execution_count": 798,
   "metadata": {},
   "outputs": [
    {
     "data": {
      "image/png": "[encoded data removed]",
      "text/plain": [
       "<Figure size 432x288 with 2 Axes>"
      ]
     },
     "metadata": {
      "needs_background": "light"
     },
     "output_type": "display_data"
    }
   ],
   "source": [
    "svc = SVC(probability=True)\n",
    "svc.fit(X_train, y_train)\n",
    "plot_confusion_matrix(svc, X_test, y_test, normalize='true')\n",
    "plt.show()"
   ]
  },
  {
   "cell_type": "markdown",
   "metadata": {},
   "source": [
    "The default support vector machine classifier performs fine when the true label is 0 (86% accurate) and when the true label is 0 (70%)."
   ]
  },
  {
   "cell_type": "code",
   "execution_count": 799,
   "metadata": {},
   "outputs": [],
   "source": [
    "gbc = GradientBoostingClassifier(random_state=random_state)\n",
    "results_df = results_df.append(evaluate_classifier(gbc, train_features, train_target,\n",
    "                                                   scorers, scorer_math), ignore_index=True)\n",
    "gbc.fit(train_features, train_target)\n",
    "y_pred = gbc.predict(test_features).astype(int)\n",
    "pred_df = pd.DataFrame( {'Survived': y_pred}, index=test['PassengerId'])\n",
    "pred_df.to_csv('default_gbc_submission.csv')"
   ]
  },
  {
   "cell_type": "code",
   "execution_count": 800,
   "metadata": {},
   "outputs": [
    {
     "data": {
      "image/png": "[encoded data removed]",
      "text/plain": [
       "<Figure size 432x288 with 2 Axes>"
      ]
     },
     "metadata": {
      "needs_background": "light"
     },
     "output_type": "display_data"
    }
   ],
   "source": [
    "gbc = GradientBoostingClassifier(random_state=random_state)\n",
    "gbc.fit(X_train, y_train)\n",
    "plot_confusion_matrix(gbc, X_test, y_test, normalize='true')\n",
    "plt.show()"
   ]
  },
  {
   "cell_type": "markdown",
   "metadata": {},
   "source": [
    "The default gradient boost classifier performs good when the true label is 0 (92% accurate) and when the true label is 1 (68%)."
   ]
  },
  {
   "cell_type": "markdown",
   "metadata": {},
   "source": [
    "The results from the five algorithms are similar for accuracy and roc score. The mean accuracy score varies from 0.76 - 0.83 and the mean AUC varies from 0.82 to 0.87."
   ]
  },
  {
   "cell_type": "code",
   "execution_count": 801,
   "metadata": {},
   "outputs": [
    {
     "data": {
      "text/html": [
       "<div>\n",
       "<style scoped>\n",
       "    .dataframe tbody tr th:only-of-type {\n",
       "        vertical-align: middle;\n",
       "    }\n",
       "\n",
       "    .dataframe tbody tr th {\n",
       "        vertical-align: top;\n",
       "    }\n",
       "\n",
       "    .dataframe thead th {\n",
       "        text-align: right;\n",
       "    }\n",
       "</style>\n",
       "<table border=\"1\" class=\"dataframe\">\n",
       "  <thead>\n",
       "    <tr style=\"text-align: right;\">\n",
       "      <th></th>\n",
       "      <th>classifier</th>\n",
       "      <th>accuracy_mean</th>\n",
       "      <th>accuracy_std</th>\n",
       "      <th>f1_mean</th>\n",
       "      <th>f1_std</th>\n",
       "      <th>neg_log_loss_mean</th>\n",
       "      <th>neg_log_loss_std</th>\n",
       "      <th>roc_auc_mean</th>\n",
       "      <th>roc_auc_std</th>\n",
       "      <th>balanced_accuracy_mean</th>\n",
       "      <th>balanced_accuracy_std</th>\n",
       "      <th>kaggle_score</th>\n",
       "    </tr>\n",
       "  </thead>\n",
       "  <tbody>\n",
       "    <tr>\n",
       "      <th>4</th>\n",
       "      <td>GradientBoostingClassifier</td>\n",
       "      <td>0.822679</td>\n",
       "      <td>0.026673</td>\n",
       "      <td>0.742258</td>\n",
       "      <td>0.045607</td>\n",
       "      <td>-0.418077</td>\n",
       "      <td>0.059592</td>\n",
       "      <td>0.869828</td>\n",
       "      <td>0.037499</td>\n",
       "      <td>0.793751</td>\n",
       "      <td>0.031833</td>\n",
       "      <td>NaN</td>\n",
       "    </tr>\n",
       "    <tr>\n",
       "      <th>0</th>\n",
       "      <td>RandomForestClassifier</td>\n",
       "      <td>0.817074</td>\n",
       "      <td>0.033359</td>\n",
       "      <td>0.744991</td>\n",
       "      <td>0.040552</td>\n",
       "      <td>-0.730247</td>\n",
       "      <td>0.384989</td>\n",
       "      <td>0.858492</td>\n",
       "      <td>0.033316</td>\n",
       "      <td>0.793660</td>\n",
       "      <td>0.030822</td>\n",
       "      <td>NaN</td>\n",
       "    </tr>\n",
       "    <tr>\n",
       "      <th>1</th>\n",
       "      <td>KNeighborsClassifier</td>\n",
       "      <td>0.815937</td>\n",
       "      <td>0.028948</td>\n",
       "      <td>0.746452</td>\n",
       "      <td>0.036304</td>\n",
       "      <td>-1.506794</td>\n",
       "      <td>0.603355</td>\n",
       "      <td>0.845668</td>\n",
       "      <td>0.032976</td>\n",
       "      <td>0.794946</td>\n",
       "      <td>0.028350</td>\n",
       "      <td>NaN</td>\n",
       "    </tr>\n",
       "    <tr>\n",
       "      <th>3</th>\n",
       "      <td>SVC</td>\n",
       "      <td>0.797960</td>\n",
       "      <td>0.018991</td>\n",
       "      <td>0.718042</td>\n",
       "      <td>0.032638</td>\n",
       "      <td>-0.477746</td>\n",
       "      <td>0.023173</td>\n",
       "      <td>0.836765</td>\n",
       "      <td>0.023686</td>\n",
       "      <td>0.774309</td>\n",
       "      <td>0.023130</td>\n",
       "      <td>NaN</td>\n",
       "    </tr>\n",
       "    <tr>\n",
       "      <th>2</th>\n",
       "      <td>GaussianNB</td>\n",
       "      <td>0.772262</td>\n",
       "      <td>0.046575</td>\n",
       "      <td>0.707910</td>\n",
       "      <td>0.053523</td>\n",
       "      <td>-0.657618</td>\n",
       "      <td>0.090489</td>\n",
       "      <td>0.817391</td>\n",
       "      <td>0.034683</td>\n",
       "      <td>0.761657</td>\n",
       "      <td>0.046044</td>\n",
       "      <td>NaN</td>\n",
       "    </tr>\n",
       "  </tbody>\n",
       "</table>\n",
       "</div>"
      ],
      "text/plain": [
       "                   classifier  accuracy_mean  accuracy_std   f1_mean  \\\n",
       "4  GradientBoostingClassifier       0.822679      0.026673  0.742258   \n",
       "0      RandomForestClassifier       0.817074      0.033359  0.744991   \n",
       "1        KNeighborsClassifier       0.815937      0.028948  0.746452   \n",
       "3                         SVC       0.797960      0.018991  0.718042   \n",
       "2                  GaussianNB       0.772262      0.046575  0.707910   \n",
       "\n",
       "     f1_std  neg_log_loss_mean  neg_log_loss_std  roc_auc_mean  roc_auc_std  \\\n",
       "4  0.045607          -0.418077          0.059592      0.869828     0.037499   \n",
       "0  0.040552          -0.730247          0.384989      0.858492     0.033316   \n",
       "1  0.036304          -1.506794          0.603355      0.845668     0.032976   \n",
       "3  0.032638          -0.477746          0.023173      0.836765     0.023686   \n",
       "2  0.053523          -0.657618          0.090489      0.817391     0.034683   \n",
       "\n",
       "   balanced_accuracy_mean  balanced_accuracy_std  kaggle_score  \n",
       "4                0.793751               0.031833           NaN  \n",
       "0                0.793660               0.030822           NaN  \n",
       "1                0.794946               0.028350           NaN  \n",
       "3                0.774309               0.023130           NaN  \n",
       "2                0.761657               0.046044           NaN  "
      ]
     },
     "execution_count": 801,
     "metadata": {},
     "output_type": "execute_result"
    }
   ],
   "source": [
    "results_df.sort_values('roc_auc_mean', ascending=False)"
   ]
  },
  {
   "cell_type": "code",
   "execution_count": 802,
   "metadata": {},
   "outputs": [],
   "source": [
    "results_df.loc[results_df['classifier'] == 'RandomForestClassifier', 'kaggle_score'] = 0.74401\n",
    "results_df.loc[results_df['classifier'] == 'GradientBoostingClassifier', 'kaggle_score'] = 0.75598\n",
    "results_df.loc[results_df['classifier'] == 'SVC', 'kaggle_score'] = 0.77511\n",
    "results_df.loc[results_df['classifier'] == 'KNeighborsClassifier', 'kaggle_score'] = 0.75598\n",
    "results_df.loc[results_df['classifier'] == 'GaussianNB', 'kaggle_score'] = 0.71052"
   ]
  },
  {
   "cell_type": "markdown",
   "metadata": {},
   "source": [
    "The five classifiers above were submitted to Kaggle for scoring. The classifiers produced similar results. "
   ]
  },
  {
   "cell_type": "code",
   "execution_count": 803,
   "metadata": {},
   "outputs": [
    {
     "data": {
      "text/html": [
       "<div>\n",
       "<style scoped>\n",
       "    .dataframe tbody tr th:only-of-type {\n",
       "        vertical-align: middle;\n",
       "    }\n",
       "\n",
       "    .dataframe tbody tr th {\n",
       "        vertical-align: top;\n",
       "    }\n",
       "\n",
       "    .dataframe thead th {\n",
       "        text-align: right;\n",
       "    }\n",
       "</style>\n",
       "<table border=\"1\" class=\"dataframe\">\n",
       "  <thead>\n",
       "    <tr style=\"text-align: right;\">\n",
       "      <th></th>\n",
       "      <th>classifier</th>\n",
       "      <th>accuracy_mean</th>\n",
       "      <th>accuracy_std</th>\n",
       "      <th>f1_mean</th>\n",
       "      <th>f1_std</th>\n",
       "      <th>neg_log_loss_mean</th>\n",
       "      <th>neg_log_loss_std</th>\n",
       "      <th>roc_auc_mean</th>\n",
       "      <th>roc_auc_std</th>\n",
       "      <th>balanced_accuracy_mean</th>\n",
       "      <th>balanced_accuracy_std</th>\n",
       "      <th>kaggle_score</th>\n",
       "    </tr>\n",
       "  </thead>\n",
       "  <tbody>\n",
       "    <tr>\n",
       "      <th>3</th>\n",
       "      <td>SVC</td>\n",
       "      <td>0.797960</td>\n",
       "      <td>0.018991</td>\n",
       "      <td>0.718042</td>\n",
       "      <td>0.032638</td>\n",
       "      <td>-0.477746</td>\n",
       "      <td>0.023173</td>\n",
       "      <td>0.836765</td>\n",
       "      <td>0.023686</td>\n",
       "      <td>0.774309</td>\n",
       "      <td>0.023130</td>\n",
       "      <td>0.77511</td>\n",
       "    </tr>\n",
       "    <tr>\n",
       "      <th>1</th>\n",
       "      <td>KNeighborsClassifier</td>\n",
       "      <td>0.815937</td>\n",
       "      <td>0.028948</td>\n",
       "      <td>0.746452</td>\n",
       "      <td>0.036304</td>\n",
       "      <td>-1.506794</td>\n",
       "      <td>0.603355</td>\n",
       "      <td>0.845668</td>\n",
       "      <td>0.032976</td>\n",
       "      <td>0.794946</td>\n",
       "      <td>0.028350</td>\n",
       "      <td>0.75598</td>\n",
       "    </tr>\n",
       "    <tr>\n",
       "      <th>4</th>\n",
       "      <td>GradientBoostingClassifier</td>\n",
       "      <td>0.822679</td>\n",
       "      <td>0.026673</td>\n",
       "      <td>0.742258</td>\n",
       "      <td>0.045607</td>\n",
       "      <td>-0.418077</td>\n",
       "      <td>0.059592</td>\n",
       "      <td>0.869828</td>\n",
       "      <td>0.037499</td>\n",
       "      <td>0.793751</td>\n",
       "      <td>0.031833</td>\n",
       "      <td>0.75598</td>\n",
       "    </tr>\n",
       "    <tr>\n",
       "      <th>0</th>\n",
       "      <td>RandomForestClassifier</td>\n",
       "      <td>0.817074</td>\n",
       "      <td>0.033359</td>\n",
       "      <td>0.744991</td>\n",
       "      <td>0.040552</td>\n",
       "      <td>-0.730247</td>\n",
       "      <td>0.384989</td>\n",
       "      <td>0.858492</td>\n",
       "      <td>0.033316</td>\n",
       "      <td>0.793660</td>\n",
       "      <td>0.030822</td>\n",
       "      <td>0.74401</td>\n",
       "    </tr>\n",
       "    <tr>\n",
       "      <th>2</th>\n",
       "      <td>GaussianNB</td>\n",
       "      <td>0.772262</td>\n",
       "      <td>0.046575</td>\n",
       "      <td>0.707910</td>\n",
       "      <td>0.053523</td>\n",
       "      <td>-0.657618</td>\n",
       "      <td>0.090489</td>\n",
       "      <td>0.817391</td>\n",
       "      <td>0.034683</td>\n",
       "      <td>0.761657</td>\n",
       "      <td>0.046044</td>\n",
       "      <td>0.71052</td>\n",
       "    </tr>\n",
       "  </tbody>\n",
       "</table>\n",
       "</div>"
      ],
      "text/plain": [
       "                   classifier  accuracy_mean  accuracy_std   f1_mean  \\\n",
       "3                         SVC       0.797960      0.018991  0.718042   \n",
       "1        KNeighborsClassifier       0.815937      0.028948  0.746452   \n",
       "4  GradientBoostingClassifier       0.822679      0.026673  0.742258   \n",
       "0      RandomForestClassifier       0.817074      0.033359  0.744991   \n",
       "2                  GaussianNB       0.772262      0.046575  0.707910   \n",
       "\n",
       "     f1_std  neg_log_loss_mean  neg_log_loss_std  roc_auc_mean  roc_auc_std  \\\n",
       "3  0.032638          -0.477746          0.023173      0.836765     0.023686   \n",
       "1  0.036304          -1.506794          0.603355      0.845668     0.032976   \n",
       "4  0.045607          -0.418077          0.059592      0.869828     0.037499   \n",
       "0  0.040552          -0.730247          0.384989      0.858492     0.033316   \n",
       "2  0.053523          -0.657618          0.090489      0.817391     0.034683   \n",
       "\n",
       "   balanced_accuracy_mean  balanced_accuracy_std  kaggle_score  \n",
       "3                0.774309               0.023130       0.77511  \n",
       "1                0.794946               0.028350       0.75598  \n",
       "4                0.793751               0.031833       0.75598  \n",
       "0                0.793660               0.030822       0.74401  \n",
       "2                0.761657               0.046044       0.71052  "
      ]
     },
     "execution_count": 803,
     "metadata": {},
     "output_type": "execute_result"
    }
   ],
   "source": [
    "results_df.sort_values('kaggle_score', ascending=False)"
   ]
  },
  {
   "cell_type": "markdown",
   "metadata": {},
   "source": [
    "Scatter plots are created to see if there is a correlation between the cross validated score and the kaggle score."
   ]
  },
  {
   "cell_type": "code",
   "execution_count": 804,
   "metadata": {},
   "outputs": [
    {
     "data": {
      "image/png": "[encoded data removed]",
      "text/plain": [
       "<Figure size 432x288 with 1 Axes>"
      ]
     },
     "metadata": {
      "needs_background": "light"
     },
     "output_type": "display_data"
    },
    {
     "data": {
      "image/png": "[encoded data removed]",
      "text/plain": [
       "<Figure size 432x288 with 1 Axes>"
      ]
     },
     "metadata": {
      "needs_background": "light"
     },
     "output_type": "display_data"
    },
    {
     "data": {
      "image/png": "[encoded data removed]",
      "text/plain": [
       "<Figure size 432x288 with 1 Axes>"
      ]
     },
     "metadata": {
      "needs_background": "light"
     },
     "output_type": "display_data"
    }
   ],
   "source": [
    "sns.scatterplot(data=results_df, x=\"kaggle_score\", y=\"accuracy_mean\")\n",
    "sns.scatterplot(data=results_df, x=\"kaggle_score\", y=\"f1_mean\")\n",
    "sns.scatterplot(data=results_df, x=\"kaggle_score\", y=\"roc_auc_mean\")\n",
    "plt.xlabel('Kaggle Score')\n",
    "plt.ylabel('Mean Score')\n",
    "plt.legend(['Accuracy', 'F1', 'ROC AUC'])\n",
    "plt.show()\n",
    "\n",
    "sns.scatterplot(data=results_df, x=\"kaggle_score\", y=\"neg_log_loss_mean\")\n",
    "plt.xlabel('Kaggle Score')\n",
    "plt.ylabel('Mean Score')\n",
    "plt.show()\n",
    "\n",
    "sns.scatterplot(data=results_df, x=\"kaggle_score\", y=\"accuracy_std\")\n",
    "sns.scatterplot(data=results_df, x=\"kaggle_score\", y=\"f1_std\")\n",
    "sns.scatterplot(data=results_df, x=\"kaggle_score\", y=\"roc_auc_std\")\n",
    "plt.xlabel('Kaggle Score')\n",
    "plt.ylabel('STD Score')\n",
    "plt.legend(['Accuracy', 'F1', 'ROC AUC'])\n",
    "plt.show()\n"
   ]
  },
  {
   "cell_type": "markdown",
   "metadata": {},
   "source": [
    "There is no correlation between the cross validated mean score and the kaggle score. There is a weak correlation between the standard deviation of the score and the kaggle score. "
   ]
  },
  {
   "cell_type": "markdown",
   "metadata": {},
   "source": [
    "### Optimizing Random Forest ###"
   ]
  },
  {
   "cell_type": "markdown",
   "metadata": {},
   "source": [
    "Hyperparameter tuning will be performed on random forest to see if the score can be improved. This was chosen because it is a classical machine learning approach.\n",
    "\n",
    "First, each hyparameter was varied individually to see its impact on the score to determine which area should be investigated with a full grid search."
   ]
  },
  {
   "cell_type": "code",
   "execution_count": 805,
   "metadata": {},
   "outputs": [
    {
     "name": "stdout",
     "output_type": "stream",
     "text": [
      "{'n_estimators': [1, 6, 11, 16, 22, 27, 32, 37, 43, 48, 53, 58, 64, 69, 74, 79, 85, 90, 95, 101], 'max_features': ['auto', 'log2', 'sqrt', 1, 2, 3, 4, 5, 6], 'max_depth': [2, 4, 6, 8, 10, None], 'min_samples_split': [2, 6, 10, 14, 18, 22, 26, 30, 34, 38, 43, 47, 51, 55, 59, 63, 67, 71, 75, 80], 'min_samples_leaf': [2, 4, 6, 8, 10, 12, 14, 16, 18, 20, 22, 24, 26, 28, 30, 32, 34, 36, 38, 40]}\n"
     ]
    }
   ],
   "source": [
    "scorers = ['accuracy', 'f1', 'roc_auc', 'balanced_accuracy']\n",
    "refit = 'roc_auc'\n",
    "\n",
    "# Number of trees in random forest\n",
    "n_estimators = [int(x) for x in np.linspace(1, 101, num = 20)]\n",
    "# Number of features to consider at every split\n",
    "max_features = ['auto', 'log2', 'sqrt']\n",
    "max_features.extend(list(np.arange(1,len(train_features.columns))))\n",
    "# auto = sqrt for this classifier\n",
    "# Maximum number of levels in tree\n",
    "max_depths = [2, 4, 6, 8, 10]\n",
    "max_depths.append(None)\n",
    "# Minimum number of samples required to split a node\n",
    "min_samples_splits = [int(x) for x in np.linspace(2, 80, num = 20)]\n",
    "# Minimum number of samples required at each leaf node\n",
    "min_samples_leafs = [int(x) for x in np.linspace(2, 40, num = 20)]\n",
    "\n",
    "param_grid = {'n_estimators': n_estimators,\n",
    "               'max_features': max_features,\n",
    "               'max_depth': max_depths,\n",
    "               'min_samples_split': min_samples_splits,\n",
    "               'min_samples_leaf': min_samples_leafs}\n",
    "print(param_grid)"
   ]
  },
  {
   "cell_type": "code",
   "execution_count": 806,
   "metadata": {},
   "outputs": [],
   "source": [
    "def score_vs_param(estimator, param_grid, scorers):\n",
    "    for key, values in param_grid.items():\n",
    "        temp_dict = {key: values}\n",
    "        grid = GridSearchCV(estimator=rf, param_grid=temp_dict, cv=5, verbose=2, n_jobs=-1, \n",
    "                               scoring=scorers, return_train_score=True, refit=refit)\n",
    "        grid.fit(train_features, train_target)\n",
    "        temp_results_df = pd.DataFrame(columns=['x', 'mean_score', 'scorer'])\n",
    "        values_str = [str(x) for x in values]\n",
    "        for sc in scorers:\n",
    "            score_str = 'mean_test_' + sc\n",
    "            scores = grid.cv_results_[score_str]\n",
    "            dict = {'x': values_str, 'mean_score': list(scores), 'scorer': sc}\n",
    "            temp_results_df = temp_results_df.append(pd.DataFrame(dict), ignore_index=True)\n",
    "        g = sns.scatterplot(data=temp_results_df, x='x', y='mean_score', hue='scorer')\n",
    "        plt.legend(loc='center left', bbox_to_anchor=(1.0, 0.5))\n",
    "        plt.xlabel(key)\n",
    "        plt.ylabel('Score')\n",
    "        plt.show()"
   ]
  },
  {
   "cell_type": "code",
   "execution_count": null,
   "metadata": {},
   "outputs": [],
   "source": []
  },
  {
   "cell_type": "code",
   "execution_count": 807,
   "metadata": {},
   "outputs": [
    {
     "name": "stdout",
     "output_type": "stream",
     "text": [
      "Fitting 5 folds for each of 20 candidates, totalling 100 fits\n"
     ]
    },
    {
     "name": "stderr",
     "output_type": "stream",
     "text": [
      "[Parallel(n_jobs=-1)]: Using backend LokyBackend with 8 concurrent workers.\n",
      "[Parallel(n_jobs=-1)]: Done  34 tasks      | elapsed:    0.5s\n",
      "[Parallel(n_jobs=-1)]: Done 100 out of 100 | elapsed:    2.1s finished\n"
     ]
    },
    {
     "data": {
      "image/png": "[encoded data removed]",
      "text/plain": [
       "<Figure size 432x288 with 1 Axes>"
      ]
     },
     "metadata": {
      "needs_background": "light"
     },
     "output_type": "display_data"
    },
    {
     "name": "stdout",
     "output_type": "stream",
     "text": [
      "Fitting 5 folds for each of 9 candidates, totalling 45 fits\n"
     ]
    },
    {
     "name": "stderr",
     "output_type": "stream",
     "text": [
      "[Parallel(n_jobs=-1)]: Using backend LokyBackend with 8 concurrent workers.\n",
      "[Parallel(n_jobs=-1)]: Done  25 tasks      | elapsed:    1.2s\n",
      "[Parallel(n_jobs=-1)]: Done  45 out of  45 | elapsed:    1.7s finished\n"
     ]
    },
    {
     "data": {
      "image/png": "[encoded data removed]",
      "text/plain": [
       "<Figure size 432x288 with 1 Axes>"
      ]
     },
     "metadata": {
      "needs_background": "light"
     },
     "output_type": "display_data"
    },
    {
     "name": "stdout",
     "output_type": "stream",
     "text": [
      "Fitting 5 folds for each of 6 candidates, totalling 30 fits\n"
     ]
    },
    {
     "name": "stderr",
     "output_type": "stream",
     "text": [
      "[Parallel(n_jobs=-1)]: Using backend LokyBackend with 8 concurrent workers.\n",
      "[Parallel(n_jobs=-1)]: Done  30 out of  30 | elapsed:    1.2s finished\n"
     ]
    },
    {
     "data": {
      "image/png": "[encoded data removed]",
      "text/plain": [
       "<Figure size 432x288 with 1 Axes>"
      ]
     },
     "metadata": {
      "needs_background": "light"
     },
     "output_type": "display_data"
    },
    {
     "name": "stdout",
     "output_type": "stream",
     "text": [
      "Fitting 5 folds for each of 20 candidates, totalling 100 fits\n"
     ]
    },
    {
     "name": "stderr",
     "output_type": "stream",
     "text": [
      "[Parallel(n_jobs=-1)]: Using backend LokyBackend with 8 concurrent workers.\n",
      "[Parallel(n_jobs=-1)]: Done  25 tasks      | elapsed:    1.2s\n",
      "[Parallel(n_jobs=-1)]: Done 100 out of 100 | elapsed:    4.2s finished\n"
     ]
    },
    {
     "data": {
      "image/png": "[encoded data removed]",
      "text/plain": [
       "<Figure size 432x288 with 1 Axes>"
      ]
     },
     "metadata": {
      "needs_background": "light"
     },
     "output_type": "display_data"
    },
    {
     "name": "stdout",
     "output_type": "stream",
     "text": [
      "Fitting 5 folds for each of 20 candidates, totalling 100 fits\n"
     ]
    },
    {
     "name": "stderr",
     "output_type": "stream",
     "text": [
      "[Parallel(n_jobs=-1)]: Using backend LokyBackend with 8 concurrent workers.\n",
      "[Parallel(n_jobs=-1)]: Done  25 tasks      | elapsed:    1.2s\n",
      "[Parallel(n_jobs=-1)]: Done 100 out of 100 | elapsed:    4.0s finished\n"
     ]
    },
    {
     "data": {
      "image/png": "[encoded data removed]",
      "text/plain": [
       "<Figure size 432x288 with 1 Axes>"
      ]
     },
     "metadata": {
      "needs_background": "light"
     },
     "output_type": "display_data"
    }
   ],
   "source": [
    "rf = RandomForestClassifier(random_state=random_state)\n",
    "score_vs_param(rf, param_grid, scorers)"
   ]
  },
  {
   "cell_type": "markdown",
   "metadata": {},
   "source": [
    "Based on the results above, a grid search was performed to optimize the random forest. "
   ]
  },
  {
   "cell_type": "code",
   "execution_count": 808,
   "metadata": {},
   "outputs": [
    {
     "name": "stdout",
     "output_type": "stream",
     "text": [
      "{'n_estimators': [2, 6, 11, 15, 20], 'max_features': [3, 4, 5], 'max_depth': [2, 4, 6, 8, None], 'min_samples_split': [10, 17, 25, 32, 40], 'min_samples_leaf': [4, 6, 9, 11, 14], 'bootstrap': [True, False]}\n"
     ]
    }
   ],
   "source": [
    "# Number of trees in random forest\n",
    "n_estimators = [int(x) for x in np.linspace(2, 20, num = 5)]\n",
    "# Number of features to consider at every split\n",
    "max_features = [3, 4, 5]\n",
    "# Maximum number of levels in tree\n",
    "max_depth = [2, 4, 6, 8]\n",
    "max_depth.append(None)\n",
    "# Minimum number of samples required to split a node\n",
    "min_samples_split = [int(x) for x in np.linspace(10, 40, num = 5)]\n",
    "# Minimum number of samples required at each leaf node\n",
    "min_samples_leaf = [int(x) for x in np.linspace(4, 14, num = 5)]\n",
    "# Method of selecting samples for training each tree\n",
    "bootstrap = [True, False]\n",
    "\n",
    "param_grid = {'n_estimators': n_estimators,\n",
    "               'max_features': max_features,\n",
    "               'max_depth': max_depth,\n",
    "               'min_samples_split': min_samples_split,\n",
    "               'min_samples_leaf': min_samples_leaf,\n",
    "               'bootstrap': bootstrap}\n",
    "print(param_grid)"
   ]
  },
  {
   "cell_type": "code",
   "execution_count": 809,
   "metadata": {},
   "outputs": [
    {
     "name": "stdout",
     "output_type": "stream",
     "text": [
      "accuracy\n",
      "Fitting 5 folds for each of 3750 candidates, totalling 18750 fits\n"
     ]
    },
    {
     "name": "stderr",
     "output_type": "stream",
     "text": [
      "[Parallel(n_jobs=-1)]: Using backend LokyBackend with 8 concurrent workers.\n",
      "[Parallel(n_jobs=-1)]: Done  34 tasks      | elapsed:    0.2s\n",
      "[Parallel(n_jobs=-1)]: Done 896 tasks      | elapsed:    4.3s\n",
      "[Parallel(n_jobs=-1)]: Done 2520 tasks      | elapsed:   11.9s\n",
      "[Parallel(n_jobs=-1)]: Done 4784 tasks      | elapsed:   23.3s\n",
      "[Parallel(n_jobs=-1)]: Done 7704 tasks      | elapsed:   38.0s\n",
      "[Parallel(n_jobs=-1)]: Done 11264 tasks      | elapsed:   55.6s\n",
      "[Parallel(n_jobs=-1)]: Done 15480 tasks      | elapsed:  1.3min\n"
     ]
    },
    {
     "name": "stdout",
     "output_type": "stream",
     "text": [
      "{'bootstrap': False, 'max_depth': 4, 'max_features': 5, 'min_samples_leaf': 6, 'min_samples_split': 17, 'n_estimators': 2}\n",
      "0.820627802690583\n"
     ]
    },
    {
     "name": "stderr",
     "output_type": "stream",
     "text": [
      "[Parallel(n_jobs=-1)]: Done 18750 out of 18750 | elapsed:  1.5min finished\n"
     ]
    },
    {
     "data": {
      "image/png": "[encoded data removed]",
      "text/plain": [
       "<Figure size 432x288 with 2 Axes>"
      ]
     },
     "metadata": {
      "needs_background": "light"
     },
     "output_type": "display_data"
    },
    {
     "name": "stderr",
     "output_type": "stream",
     "text": [
      "[Parallel(n_jobs=-1)]: Using backend LokyBackend with 8 concurrent workers.\n"
     ]
    },
    {
     "name": "stdout",
     "output_type": "stream",
     "text": [
      "f1\n",
      "Fitting 5 folds for each of 3750 candidates, totalling 18750 fits\n"
     ]
    },
    {
     "name": "stderr",
     "output_type": "stream",
     "text": [
      "[Parallel(n_jobs=-1)]: Done  34 tasks      | elapsed:    0.2s\n",
      "[Parallel(n_jobs=-1)]: Done 896 tasks      | elapsed:    4.5s\n",
      "[Parallel(n_jobs=-1)]: Done 2520 tasks      | elapsed:   12.6s\n",
      "[Parallel(n_jobs=-1)]: Done 4784 tasks      | elapsed:   24.2s\n",
      "[Parallel(n_jobs=-1)]: Done 7704 tasks      | elapsed:   39.0s\n",
      "[Parallel(n_jobs=-1)]: Done 11264 tasks      | elapsed:   56.8s\n",
      "[Parallel(n_jobs=-1)]: Done 15480 tasks      | elapsed:  1.3min\n"
     ]
    },
    {
     "name": "stdout",
     "output_type": "stream",
     "text": [
      "{'bootstrap': False, 'max_depth': 4, 'max_features': 4, 'min_samples_leaf': 6, 'min_samples_split': 10, 'n_estimators': 6}\n",
      "0.8161434977578476\n"
     ]
    },
    {
     "name": "stderr",
     "output_type": "stream",
     "text": [
      "[Parallel(n_jobs=-1)]: Done 18750 out of 18750 | elapsed:  1.6min finished\n"
     ]
    },
    {
     "data": {
      "image/png": "[encoded data removed]",
      "text/plain": [
       "<Figure size 432x288 with 2 Axes>"
      ]
     },
     "metadata": {
      "needs_background": "light"
     },
     "output_type": "display_data"
    },
    {
     "name": "stderr",
     "output_type": "stream",
     "text": [
      "[Parallel(n_jobs=-1)]: Using backend LokyBackend with 8 concurrent workers.\n"
     ]
    },
    {
     "name": "stdout",
     "output_type": "stream",
     "text": [
      "roc_auc\n",
      "Fitting 5 folds for each of 3750 candidates, totalling 18750 fits\n"
     ]
    },
    {
     "name": "stderr",
     "output_type": "stream",
     "text": [
      "[Parallel(n_jobs=-1)]: Done  34 tasks      | elapsed:    0.2s\n",
      "[Parallel(n_jobs=-1)]: Done 896 tasks      | elapsed:    4.7s\n",
      "[Parallel(n_jobs=-1)]: Done 2520 tasks      | elapsed:   12.8s\n",
      "[Parallel(n_jobs=-1)]: Done 4784 tasks      | elapsed:   24.4s\n",
      "[Parallel(n_jobs=-1)]: Done 7704 tasks      | elapsed:   39.2s\n",
      "[Parallel(n_jobs=-1)]: Done 11264 tasks      | elapsed:   57.5s\n",
      "[Parallel(n_jobs=-1)]: Done 15480 tasks      | elapsed:  1.3min\n"
     ]
    },
    {
     "name": "stdout",
     "output_type": "stream",
     "text": [
      "{'bootstrap': False, 'max_depth': 4, 'max_features': 4, 'min_samples_leaf': 6, 'min_samples_split': 10, 'n_estimators': 15}\n",
      "0.8161434977578476\n"
     ]
    },
    {
     "name": "stderr",
     "output_type": "stream",
     "text": [
      "[Parallel(n_jobs=-1)]: Done 18750 out of 18750 | elapsed:  1.6min finished\n"
     ]
    },
    {
     "data": {
      "image/png": "[encoded data removed]",
      "text/plain": [
       "<Figure size 432x288 with 2 Axes>"
      ]
     },
     "metadata": {
      "needs_background": "light"
     },
     "output_type": "display_data"
    },
    {
     "name": "stderr",
     "output_type": "stream",
     "text": [
      "[Parallel(n_jobs=-1)]: Using backend LokyBackend with 8 concurrent workers.\n"
     ]
    },
    {
     "name": "stdout",
     "output_type": "stream",
     "text": [
      "balanced_accuracy\n",
      "Fitting 5 folds for each of 3750 candidates, totalling 18750 fits\n"
     ]
    },
    {
     "name": "stderr",
     "output_type": "stream",
     "text": [
      "[Parallel(n_jobs=-1)]: Done  34 tasks      | elapsed:    0.2s\n",
      "[Parallel(n_jobs=-1)]: Done 896 tasks      | elapsed:    4.5s\n",
      "[Parallel(n_jobs=-1)]: Done 2520 tasks      | elapsed:   12.6s\n",
      "[Parallel(n_jobs=-1)]: Done 4784 tasks      | elapsed:   23.8s\n",
      "[Parallel(n_jobs=-1)]: Done 7704 tasks      | elapsed:   38.5s\n",
      "[Parallel(n_jobs=-1)]: Done 11264 tasks      | elapsed:   56.1s\n",
      "[Parallel(n_jobs=-1)]: Done 15480 tasks      | elapsed:  1.3min\n"
     ]
    },
    {
     "name": "stdout",
     "output_type": "stream",
     "text": [
      "{'bootstrap': False, 'max_depth': 4, 'max_features': 4, 'min_samples_leaf': 6, 'min_samples_split': 10, 'n_estimators': 6}\n",
      "0.8161434977578476\n"
     ]
    },
    {
     "name": "stderr",
     "output_type": "stream",
     "text": [
      "[Parallel(n_jobs=-1)]: Done 18750 out of 18750 | elapsed:  1.6min finished\n"
     ]
    },
    {
     "data": {
      "image/png": "[encoded data removed]",
      "text/plain": [
       "<Figure size 432x288 with 2 Axes>"
      ]
     },
     "metadata": {
      "needs_background": "light"
     },
     "output_type": "display_data"
    }
   ],
   "source": [
    "for sc in scorers:\n",
    "    print(sc)\n",
    "    rf = RandomForestClassifier(random_state=random_state)\n",
    "    rf_grid = GridSearchCV(estimator=rf, param_grid=param_grid, cv=5, verbose=2, n_jobs=-1, scoring=sc)\n",
    "    rf_grid.fit(X_train, y_train)\n",
    "    print(rf_grid.best_params_)\n",
    "    best_rf = rf_grid.best_estimator_.fit(X_train, y_train)\n",
    "    plot_confusion_matrix(best_rf, X_test, y_test, normalize='true')\n",
    "    y_pred = best_rf.predict(X_test)\n",
    "    print(accuracy_score(y_test, y_pred))\n",
    "    plt.show()"
   ]
  },
  {
   "cell_type": "markdown",
   "metadata": {},
   "source": [
    "Balanced accuracy will be further investigated because the dataset is imbalanced and want to maximize correctly predicting both survivors and victims. Grid search will be performed near the previously found values."
   ]
  },
  {
   "cell_type": "code",
   "execution_count": 810,
   "metadata": {},
   "outputs": [
    {
     "name": "stderr",
     "output_type": "stream",
     "text": [
      "[Parallel(n_jobs=-1)]: Using backend LokyBackend with 8 concurrent workers.\n"
     ]
    },
    {
     "name": "stdout",
     "output_type": "stream",
     "text": [
      "{'n_estimators': [1, 2, 3, 4, 5], 'max_features': [3, 4, 5, 6, 7], 'max_depth': [2, 4, 6, 8, 10], 'min_samples_split': [5, 10, 15, 20, 25, 30], 'min_samples_leaf': [5, 7, 10, 12, 15], 'bootstrap': [True, False]}\n",
      "Fitting 5 folds for each of 7500 candidates, totalling 37500 fits\n"
     ]
    },
    {
     "name": "stderr",
     "output_type": "stream",
     "text": [
      "[Parallel(n_jobs=-1)]: Done  34 tasks      | elapsed:    0.2s\n",
      "[Parallel(n_jobs=-1)]: Done 896 tasks      | elapsed:    4.6s\n",
      "[Parallel(n_jobs=-1)]: Done 2520 tasks      | elapsed:   12.8s\n",
      "[Parallel(n_jobs=-1)]: Done 4784 tasks      | elapsed:   24.4s\n",
      "[Parallel(n_jobs=-1)]: Done 7704 tasks      | elapsed:   39.2s\n",
      "[Parallel(n_jobs=-1)]: Done 11264 tasks      | elapsed:   53.1s\n",
      "[Parallel(n_jobs=-1)]: Done 15480 tasks      | elapsed:  1.1min\n",
      "[Parallel(n_jobs=-1)]: Done 20336 tasks      | elapsed:  1.3min\n",
      "[Parallel(n_jobs=-1)]: Done 25848 tasks      | elapsed:  1.7min\n",
      "[Parallel(n_jobs=-1)]: Done 32000 tasks      | elapsed:  2.0min\n"
     ]
    },
    {
     "name": "stdout",
     "output_type": "stream",
     "text": [
      "{'bootstrap': False, 'max_depth': 4, 'max_features': 4, 'min_samples_leaf': 7, 'min_samples_split': 5, 'n_estimators': 5}\n"
     ]
    },
    {
     "name": "stderr",
     "output_type": "stream",
     "text": [
      "[Parallel(n_jobs=-1)]: Done 37500 out of 37500 | elapsed:  2.2min finished\n"
     ]
    }
   ],
   "source": [
    "# Number of trees in random forest\n",
    "n_estimators = [int(x) for x in np.linspace(1, 5, num = 5)]\n",
    "# Number of features to consider at every split\n",
    "max_features = [3, 4, 5, 6, 7]\n",
    "# Maximum number of levels in tree\n",
    "max_depth = [2, 4, 6, 8, 10]\n",
    "#max_depth.append(None)\n",
    "# Minimum number of samples required to split a node\n",
    "min_samples_split = [int(x) for x in np.linspace(5, 30, num = 6)]\n",
    "# Minimum number of samples required at each leaf node\n",
    "min_samples_leaf = [int(x) for x in np.linspace(5, 15, num = 5)]\n",
    "# Method of selecting samples for training each tree\n",
    "bootstrap = [True, False]\n",
    "\n",
    "param_grid = {'n_estimators': n_estimators,\n",
    "               'max_features': max_features,\n",
    "               'max_depth': max_depth,\n",
    "               'min_samples_split': min_samples_split,\n",
    "               'min_samples_leaf': min_samples_leaf,\n",
    "               'bootstrap': bootstrap}\n",
    "print(param_grid)\n",
    "\n",
    "rf = RandomForestClassifier(random_state=random_state)\n",
    "rf_grid = GridSearchCV(estimator=rf, param_grid=param_grid, cv=5, verbose=2, \n",
    "                       n_jobs=-1, scoring='balanced_accuracy')\n",
    "rf_grid.fit(X_train, y_train)\n",
    "print(rf_grid.best_params_)\n",
    "\n"
   ]
  },
  {
   "cell_type": "code",
   "execution_count": 811,
   "metadata": {},
   "outputs": [
    {
     "name": "stdout",
     "output_type": "stream",
     "text": [
      "0.8071748878923767\n"
     ]
    },
    {
     "data": {
      "image/png": "[encoded data removed]",
      "text/plain": [
       "<Figure size 432x288 with 2 Axes>"
      ]
     },
     "metadata": {
      "needs_background": "light"
     },
     "output_type": "display_data"
    }
   ],
   "source": [
    "best_rf = rf_grid.best_estimator_.fit(X_train, y_train)\n",
    "plot_confusion_matrix(best_rf, X_test, y_test, normalize='true')\n",
    "y_pred = best_rf.predict(X_test)\n",
    "print(accuracy_score(y_test, y_pred))\n",
    "plt.show()"
   ]
  },
  {
   "cell_type": "markdown",
   "metadata": {},
   "source": [
    "Look at the feature importance for the best random forest. "
   ]
  },
  {
   "cell_type": "code",
   "execution_count": 812,
   "metadata": {},
   "outputs": [
    {
     "data": {
      "image/png": "[encoded data removed]",
      "text/plain": [
       "<Figure size 432x288 with 1 Axes>"
      ]
     },
     "metadata": {
      "needs_background": "light"
     },
     "output_type": "display_data"
    }
   ],
   "source": [
    "sorted_idx = best_rf.feature_importances_.argsort()\n",
    "plt.barh(train_features.columns[sorted_idx], best_rf.feature_importances_[sorted_idx])\n",
    "plt.show()"
   ]
  },
  {
   "cell_type": "markdown",
   "metadata": {},
   "source": [
    "As expected, Sex and Pclass are the most important factors. FareCats and Pclass are correlated so it may influence each others importance. \n",
    "\n",
    "Permutation importance is another metric to determine feature importance. First, a baseline metric, defined by scoring, is evaluated on a dataset. Next, a feature column from the validation set is permuted and the metric is evaluated again. The permutation importance is defined to be the difference between the baseline metric and metric from permutating the feature column."
   ]
  },
  {
   "cell_type": "code",
   "execution_count": 813,
   "metadata": {},
   "outputs": [
    {
     "data": {
      "image/png": "[encoded data removed]",
      "text/plain": [
       "<Figure size 432x288 with 1 Axes>"
      ]
     },
     "metadata": {
      "needs_background": "light"
     },
     "output_type": "display_data"
    }
   ],
   "source": [
    "perm_importance = permutation_importance(best_rf, X_test, y_test)\n",
    "sorted_idx = perm_importance.importances_mean.argsort()\n",
    "plt.barh(train_features.columns[sorted_idx], perm_importance.importances_mean[sorted_idx])\n",
    "plt.xlabel(\"Permutation Importance\")\n",
    "plt.show()"
   ]
  },
  {
   "cell_type": "markdown",
   "metadata": {},
   "source": [
    "Determine feature importance by recursively eliminating a feature. The estimator is trained on the initial set of features and the importance of each feature is obtained either through a coef_ attribute or through a feature_importances_ attribute. Then, the least important features are pruned from current set of features. That procedure is recursively repeated on the pruned set until the desired number of features to select is eventually reached. n_features_select is the number of features to select.\n",
    "\n",
    "The most important feature is given a rank of 1."
   ]
  },
  {
   "cell_type": "code",
   "execution_count": 814,
   "metadata": {},
   "outputs": [
    {
     "name": "stdout",
     "output_type": "stream",
     "text": [
      "{'bootstrap': False, 'max_depth': 4, 'max_features': 4, 'min_samples_leaf': 7, 'min_samples_split': 5, 'n_estimators': 5}\n",
      "{'bootstrap': False, 'max_depth': 4, 'min_samples_leaf': 7, 'min_samples_split': 5, 'n_estimators': 5, 'random_state': 0}\n",
      "Features sorted by their rank:\n",
      "[(1, 'FareCats'), (1, 'Pclass'), (1, 'Sex'), (2, 'Parch'), (3, 'Embarked'), (4, 'SibSp'), (5, 'Child')]\n"
     ]
    }
   ],
   "source": [
    "print(rf_grid.best_params_)\n",
    "params = rf_grid.best_params_\n",
    "params['random_state'] = random_state\n",
    "params.pop('max_features')\n",
    "print(params)\n",
    "rf = RandomForestClassifier().set_params(**params)\n",
    "rfe = RFE(rf, n_features_to_select=3)\n",
    "rfe.fit(X_train, y_train)\n",
    " \n",
    "print(\"Features sorted by their rank:\")\n",
    "print(sorted(zip(map(lambda x: round(x, 4), rfe.ranking_), train_features.columns)))"
   ]
  },
  {
   "cell_type": "markdown",
   "metadata": {},
   "source": [
    "#### Look into fature elimination ####\n",
    "\n",
    "Remove Embarked, Parch and SibSp due to low feature importance. "
   ]
  },
  {
   "cell_type": "code",
   "execution_count": 815,
   "metadata": {},
   "outputs": [
    {
     "data": {
      "image/png": "[encoded data removed]",
      "text/plain": [
       "<Figure size 432x288 with 2 Axes>"
      ]
     },
     "metadata": {
      "needs_background": "light"
     },
     "output_type": "display_data"
    }
   ],
   "source": [
    "features_drop = ['Embarked', 'Parch', 'SibSp']\n",
    "reduced_features = train_features.drop(features_drop, axis=1)\n",
    "sns.heatmap(reduced_features.corr(), cmap='viridis',annot = True)\n",
    "plt.show()"
   ]
  },
  {
   "cell_type": "markdown",
   "metadata": {},
   "source": [
    "Pclass and farecats are correlated so one of the features should likely be eliminated. Will compare different feature selection to determine if the results change dramatically. The concern with correlated features is overfitting."
   ]
  },
  {
   "cell_type": "code",
   "execution_count": 816,
   "metadata": {},
   "outputs": [],
   "source": [
    "features_selected =[\n",
    "    ['Pclass', 'Sex', 'SibSp', 'Parch', 'Embarked', 'Child', 'FareCats'],\n",
    "    ['Pclass', 'Sex', 'Child', 'FareCats'],\n",
    "    ['Pclass', 'Sex', 'Child'],\n",
    "    ['Sex', 'Child', 'FareCats']\n",
    "]"
   ]
  },
  {
   "cell_type": "markdown",
   "metadata": {},
   "source": [
    "The function below is used to evaluate feature elimination. For the selected features, a grid search will be performed to optimize the estimator. A confusion matrix will be plotted and accuracy score is calculated to evaluate the estimator. "
   ]
  },
  {
   "cell_type": "code",
   "execution_count": 893,
   "metadata": {},
   "outputs": [],
   "source": [
    "def evaluate_feature_tuning(estimator, param_grid, features_selected, X_train, y_train, X_test, y_test):\n",
    "    param_grid_new = param_grid.copy()\n",
    "    param_grid_new['max_features'] = list(set(np.linspace(1,len(features_selected),5).astype(int)))\n",
    "    X_train_sub = X_train[features_selected]\n",
    "    X_test_sub = X_test[features_selected]\n",
    "    grid = GridSearchCV(estimator=rf, param_grid=param_grid_new, cv=5, verbose=2, \n",
    "                       n_jobs=-1, scoring='balanced_accuracy')\n",
    "    grid.fit(X_train, y_train)\n",
    "    best_est = grid.best_estimator_.fit(X_train_sub, y_train)\n",
    "    plot_confusion_matrix(best_est, X_test_sub, y_test, normalize='true')\n",
    "    y_pred = best_est.predict(X_test_sub)\n",
    "    score = accuracy_score(y_test, y_pred)\n",
    "    plt.show()\n",
    "    filename = str(rf).split('(')[0] + '_feat_tuning_' + str(ind) + '.csv'\n",
    "    generate_predictions(best_est, test[features_selected], test, filename)\n",
    "    return score, grid.best_params_, best_est "
   ]
  },
  {
   "cell_type": "markdown",
   "metadata": {},
   "source": [
    "Below is an encoder used to convert the params dictionary into a json for storage in a dataframe. The param dictionary contained numpy datatypes which are unable to be encoded using the default encoder. The class below converts numpy objects into thier normal couterparts for encoding."
   ]
  },
  {
   "cell_type": "code",
   "execution_count": 868,
   "metadata": {},
   "outputs": [],
   "source": [
    "class NpEncoder(json.JSONEncoder):\n",
    "    def default(self, obj):\n",
    "        if isinstance(obj, np.integer):\n",
    "            return int(obj)\n",
    "        elif isinstance(obj, np.floating):\n",
    "            return float(obj)\n",
    "        elif isinstance(obj, np.ndarray):\n",
    "            return obj.tolist()\n",
    "        else:\n",
    "            return super(NpEncoder, self).default(obj)"
   ]
  },
  {
   "cell_type": "markdown",
   "metadata": {},
   "source": [
    "Create a dataframe to store the results from the feature elimination. "
   ]
  },
  {
   "cell_type": "code",
   "execution_count": 878,
   "metadata": {},
   "outputs": [
    {
     "name": "stdout",
     "output_type": "stream",
     "text": [
      "  Pclass Sex SibSp Parch Embarked Child FareCats Accuracy Params\n",
      "0      0   0     0     0        0     0        0      NaN    NaN\n",
      "1      0   0     0     0        0     0        0      NaN    NaN\n",
      "2      0   0     0     0        0     0        0      NaN    NaN\n",
      "3      0   0     0     0        0     0        0      NaN    NaN\n"
     ]
    }
   ],
   "source": [
    "col_list = list(train_features.columns)\n",
    "col_list.extend(['Accuracy', 'Params'])\n",
    "feat_rem_rf = pd.DataFrame(columns=col_list, index=list(range(0,len(features_selected))))\n",
    "feat_rem_rf[train_features.columns] = 0\n",
    "print(feat_rem_rf)"
   ]
  },
  {
   "cell_type": "markdown",
   "metadata": {},
   "source": [
    "Loop for the selected features. Store the returned optimal parameters, accuracy score and features selected in dataframe."
   ]
  },
  {
   "cell_type": "code",
   "execution_count": 894,
   "metadata": {},
   "outputs": [
    {
     "name": "stdout",
     "output_type": "stream",
     "text": [
      "['Pclass', 'Sex', 'SibSp', 'Parch', 'Embarked', 'Child', 'FareCats']\n",
      "Fitting 5 folds for each of 7500 candidates, totalling 37500 fits\n"
     ]
    },
    {
     "name": "stderr",
     "output_type": "stream",
     "text": [
      "[Parallel(n_jobs=-1)]: Using backend LokyBackend with 8 concurrent workers.\n",
      "[Parallel(n_jobs=-1)]: Done  25 tasks      | elapsed:    2.3s\n",
      "[Parallel(n_jobs=-1)]: Done 1072 tasks      | elapsed:    4.4s\n",
      "[Parallel(n_jobs=-1)]: Done 4320 tasks      | elapsed:   10.2s\n",
      "[Parallel(n_jobs=-1)]: Done 8848 tasks      | elapsed:   19.2s\n",
      "[Parallel(n_jobs=-1)]: Done 14688 tasks      | elapsed:   32.8s\n",
      "[Parallel(n_jobs=-1)]: Done 21808 tasks      | elapsed:   55.9s\n",
      "[Parallel(n_jobs=-1)]: Done 30240 tasks      | elapsed:  1.4min\n",
      "[Parallel(n_jobs=-1)]: Done 37500 out of 37500 | elapsed:  1.9min finished\n"
     ]
    },
    {
     "data": {
      "image/png": "[encoded data removed]",
      "text/plain": [
       "<Figure size 432x288 with 2 Axes>"
      ]
     },
     "metadata": {
      "needs_background": "light"
     },
     "output_type": "display_data"
    },
    {
     "name": "stdout",
     "output_type": "stream",
     "text": [
      "['Pclass', 'Sex', 'Child', 'FareCats']\n",
      "Fitting 5 folds for each of 6000 candidates, totalling 30000 fits\n"
     ]
    },
    {
     "name": "stderr",
     "output_type": "stream",
     "text": [
      "[Parallel(n_jobs=-1)]: Using backend LokyBackend with 8 concurrent workers.\n",
      "[Parallel(n_jobs=-1)]: Done  34 tasks      | elapsed:    0.2s\n",
      "[Parallel(n_jobs=-1)]: Done 896 tasks      | elapsed:    4.1s\n",
      "[Parallel(n_jobs=-1)]: Done 2520 tasks      | elapsed:   10.6s\n",
      "[Parallel(n_jobs=-1)]: Done 4784 tasks      | elapsed:   18.3s\n",
      "[Parallel(n_jobs=-1)]: Done 7704 tasks      | elapsed:   29.4s\n",
      "[Parallel(n_jobs=-1)]: Done 11264 tasks      | elapsed:   43.5s\n",
      "[Parallel(n_jobs=-1)]: Done 15480 tasks      | elapsed:  1.0min\n",
      "[Parallel(n_jobs=-1)]: Done 20336 tasks      | elapsed:  1.3min\n",
      "[Parallel(n_jobs=-1)]: Done 25848 tasks      | elapsed:  1.7min\n",
      "[Parallel(n_jobs=-1)]: Done 30000 out of 30000 | elapsed:  1.9min finished\n"
     ]
    },
    {
     "data": {
      "image/png": "[encoded data removed]",
      "text/plain": [
       "<Figure size 432x288 with 2 Axes>"
      ]
     },
     "metadata": {
      "needs_background": "light"
     },
     "output_type": "display_data"
    },
    {
     "name": "stdout",
     "output_type": "stream",
     "text": [
      "['Pclass', 'Sex', 'Child']\n",
      "Fitting 5 folds for each of 4500 candidates, totalling 22500 fits\n"
     ]
    },
    {
     "name": "stderr",
     "output_type": "stream",
     "text": [
      "[Parallel(n_jobs=-1)]: Using backend LokyBackend with 8 concurrent workers.\n",
      "[Parallel(n_jobs=-1)]: Done  34 tasks      | elapsed:    0.2s\n",
      "[Parallel(n_jobs=-1)]: Done 896 tasks      | elapsed:    4.2s\n",
      "[Parallel(n_jobs=-1)]: Done 2520 tasks      | elapsed:   11.8s\n",
      "[Parallel(n_jobs=-1)]: Done 4784 tasks      | elapsed:   23.1s\n",
      "[Parallel(n_jobs=-1)]: Done 7704 tasks      | elapsed:   37.7s\n",
      "[Parallel(n_jobs=-1)]: Done 11264 tasks      | elapsed:   55.6s\n",
      "[Parallel(n_jobs=-1)]: Done 15480 tasks      | elapsed:  1.3min\n",
      "[Parallel(n_jobs=-1)]: Done 20336 tasks      | elapsed:  1.6min\n",
      "[Parallel(n_jobs=-1)]: Done 22500 out of 22500 | elapsed:  1.8min finished\n"
     ]
    },
    {
     "data": {
      "image/png": "[encoded data removed]",
      "text/plain": [
       "<Figure size 432x288 with 2 Axes>"
      ]
     },
     "metadata": {
      "needs_background": "light"
     },
     "output_type": "display_data"
    },
    {
     "name": "stderr",
     "output_type": "stream",
     "text": [
      "[Parallel(n_jobs=-1)]: Using backend LokyBackend with 8 concurrent workers.\n"
     ]
    },
    {
     "name": "stdout",
     "output_type": "stream",
     "text": [
      "['Sex', 'Child', 'FareCats']\n",
      "Fitting 5 folds for each of 4500 candidates, totalling 22500 fits\n"
     ]
    },
    {
     "name": "stderr",
     "output_type": "stream",
     "text": [
      "[Parallel(n_jobs=-1)]: Done  34 tasks      | elapsed:    0.2s\n",
      "[Parallel(n_jobs=-1)]: Done 504 tasks      | elapsed:    2.5s\n",
      "[Parallel(n_jobs=-1)]: Done 1316 tasks      | elapsed:    6.5s\n",
      "[Parallel(n_jobs=-1)]: Done 2448 tasks      | elapsed:   12.1s\n",
      "[Parallel(n_jobs=-1)]: Done 3908 tasks      | elapsed:   19.3s\n",
      "[Parallel(n_jobs=-1)]: Done 5688 tasks      | elapsed:   27.9s\n",
      "[Parallel(n_jobs=-1)]: Done 7796 tasks      | elapsed:   38.3s\n",
      "[Parallel(n_jobs=-1)]: Done 10224 tasks      | elapsed:   50.4s\n",
      "[Parallel(n_jobs=-1)]: Done 13632 tasks      | elapsed:  1.1min\n",
      "[Parallel(n_jobs=-1)]: Done 22500 out of 22500 | elapsed:  1.5min finished\n"
     ]
    },
    {
     "data": {
      "image/png": "[encoded data removed]",
      "text/plain": [
       "<Figure size 432x288 with 2 Axes>"
      ]
     },
     "metadata": {
      "needs_background": "light"
     },
     "output_type": "display_data"
    }
   ],
   "source": [
    "for ind, feat in enumerate(features_selected):\n",
    "    print(feat)\n",
    "    rf = RandomForestClassifier(random_state=random_state)\n",
    "    score, param, opt_estimator = evaluate_feature_tuning(rf, param_grid, feat, X_train, y_train, X_test, y_test)\n",
    "    feat_rem_rf.loc[ind,feat] = 1\n",
    "    feat_rem_rf.loc[ind,'Accuracy'] =  score\n",
    "    feat_rem_rf.loc[ind,'Params'] =  json.dumps(param, cls=NpEncoder)"
   ]
  },
  {
   "cell_type": "code",
   "execution_count": 895,
   "metadata": {},
   "outputs": [],
   "source": [
    "feat_rem_rf.loc[0,'Kaggle']  = 0.77033\n",
    "feat_rem_rf.loc[1,'Kaggle']  = 0.75119\n",
    "feat_rem_rf.loc[2,'Kaggle']  = 0.77511\n",
    "feat_rem_rf.loc[3,'Kaggle']  = 0.72248"
   ]
  },
  {
   "cell_type": "code",
   "execution_count": 896,
   "metadata": {},
   "outputs": [
    {
     "name": "stdout",
     "output_type": "stream",
     "text": [
      "  Pclass Sex SibSp Parch Embarked Child FareCats  Accuracy  \\\n",
      "0      1   1     1     1        1     1        1  0.807175   \n",
      "1      1   1     0     0        0     1        1  0.820628   \n",
      "2      1   1     0     0        0     1        0  0.789238   \n",
      "3      0   1     0     0        0     1        1  0.789238   \n",
      "\n",
      "                                              Params   Kaggle  \n",
      "0  {\"bootstrap\": false, \"max_depth\": 4, \"max_feat...  0.77033  \n",
      "1  {\"bootstrap\": false, \"max_depth\": 4, \"max_feat...  0.75119  \n",
      "2  {\"bootstrap\": false, \"max_depth\": 4, \"max_feat...  0.77511  \n",
      "3  {\"bootstrap\": false, \"max_depth\": 4, \"max_feat...  0.72248  \n"
     ]
    }
   ],
   "source": [
    "print(feat_rem_rf)"
   ]
  },
  {
   "cell_type": "markdown",
   "metadata": {},
   "source": [
    "Removing some of the features improved the Kaggle score marginly. However, removing other features lead to a degradation in the score."
   ]
  },
  {
   "cell_type": "markdown",
   "metadata": {},
   "source": [
    "### Tuning SVM ###"
   ]
  },
  {
   "cell_type": "code",
   "execution_count": null,
   "metadata": {},
   "outputs": [],
   "source": []
  },
  {
   "cell_type": "code",
   "execution_count": null,
   "metadata": {},
   "outputs": [],
   "source": []
  },
  {
   "cell_type": "code",
   "execution_count": null,
   "metadata": {},
   "outputs": [],
   "source": []
  },
  {
   "cell_type": "code",
   "execution_count": null,
   "metadata": {},
   "outputs": [],
   "source": []
  },
  {
   "cell_type": "code",
   "execution_count": null,
   "metadata": {},
   "outputs": [],
   "source": []
  },
  {
   "cell_type": "code",
   "execution_count": null,
   "metadata": {},
   "outputs": [],
   "source": []
  },
  {
   "cell_type": "code",
   "execution_count": null,
   "metadata": {},
   "outputs": [],
   "source": []
  },
  {
   "cell_type": "code",
   "execution_count": null,
   "metadata": {},
   "outputs": [],
   "source": []
  },
  {
   "cell_type": "code",
   "execution_count": null,
   "metadata": {},
   "outputs": [],
   "source": []
  },
  {
   "cell_type": "code",
   "execution_count": null,
   "metadata": {},
   "outputs": [],
   "source": []
  },
  {
   "cell_type": "code",
   "execution_count": null,
   "metadata": {},
   "outputs": [],
   "source": []
  },
  {
   "cell_type": "code",
   "execution_count": null,
   "metadata": {},
   "outputs": [],
   "source": []
  },
  {
   "cell_type": "markdown",
   "metadata": {},
   "source": [
    "Hyperparameter tuning improved the accuracy from 0.828 to 0.84 for the random forest classifier. This is small improvement. \n",
    "\n",
    "Hyperparameter tuning will be performed on k-nearest neighbors. "
   ]
  },
  {
   "cell_type": "code",
   "execution_count": 821,
   "metadata": {},
   "outputs": [
    {
     "ename": "TypeError",
     "evalue": "'dict' object is not callable",
     "output_type": "error",
     "traceback": [
      "\u001b[0;31m---------------------------------------------------------------------------\u001b[0m",
      "\u001b[0;31mTypeError\u001b[0m                                 Traceback (most recent call last)",
      "\u001b[0;32m<ipython-input-821-9abbb85cc101>\u001b[0m in \u001b[0;36m<module>\u001b[0;34m\u001b[0m\n\u001b[1;32m      6\u001b[0m \u001b[0mmetric\u001b[0m \u001b[0;34m=\u001b[0m \u001b[0;34m[\u001b[0m\u001b[0;34m'euclidean'\u001b[0m\u001b[0;34m,\u001b[0m \u001b[0;34m'manhattan'\u001b[0m\u001b[0;34m,\u001b[0m \u001b[0;34m'minkowski'\u001b[0m\u001b[0;34m]\u001b[0m\u001b[0;34m\u001b[0m\u001b[0;34m\u001b[0m\u001b[0m\n\u001b[1;32m      7\u001b[0m \u001b[0;31m# define grid search\u001b[0m\u001b[0;34m\u001b[0m\u001b[0;34m\u001b[0m\u001b[0;34m\u001b[0m\u001b[0m\n\u001b[0;32m----> 8\u001b[0;31m \u001b[0mknn_grid\u001b[0m \u001b[0;34m=\u001b[0m \u001b[0mdict\u001b[0m\u001b[0;34m(\u001b[0m\u001b[0mn_neighbors\u001b[0m\u001b[0;34m=\u001b[0m\u001b[0mn_neighbors\u001b[0m\u001b[0;34m,\u001b[0m \u001b[0mweights\u001b[0m\u001b[0;34m=\u001b[0m\u001b[0mweights\u001b[0m\u001b[0;34m,\u001b[0m \u001b[0mmetric\u001b[0m\u001b[0;34m=\u001b[0m\u001b[0mmetric\u001b[0m\u001b[0;34m)\u001b[0m\u001b[0;34m\u001b[0m\u001b[0;34m\u001b[0m\u001b[0m\n\u001b[0m\u001b[1;32m      9\u001b[0m \u001b[0;34m\u001b[0m\u001b[0m\n\u001b[1;32m     10\u001b[0m \u001b[0mknn\u001b[0m \u001b[0;34m=\u001b[0m \u001b[0mKNeighborsClassifier\u001b[0m\u001b[0;34m(\u001b[0m\u001b[0;34m)\u001b[0m\u001b[0;34m\u001b[0m\u001b[0;34m\u001b[0m\u001b[0m\n",
      "\u001b[0;31mTypeError\u001b[0m: 'dict' object is not callable"
     ]
    }
   ],
   "source": [
    "# the number of neighbors to consider for classification\n",
    "n_neighbors = range(1, 21, 2)\n",
    "# how the classifcation of the neighbors are used to predict the target\n",
    "weights = ['uniform', 'distance']\n",
    "# how the distance are calculated\n",
    "metric = ['euclidean', 'manhattan', 'minkowski']\n",
    "# define grid search\n",
    "knn_grid = dict(n_neighbors=n_neighbors, weights=weights, metric=metric)\n",
    "\n",
    "knn = KNeighborsClassifier()\n",
    "knn_random = RandomizedSearchCV(estimator=knn, param_distributions=knn_grid, n_iter=100, \n",
    "                               cv=4, verbose=2, n_jobs=-1, random_state=random_state)\n",
    "knn_random.fit(train_features, train_target)"
   ]
  },
  {
   "cell_type": "code",
   "execution_count": null,
   "metadata": {},
   "outputs": [],
   "source": [
    "print(knn_random.best_params_)\n",
    "best_knn = knn_random.best_estimator_\n",
    "scores = cross_val_score(best_knn, train_features, train_target, cv=4)\n",
    "print(scores)\n",
    "print(np.mean(scores))"
   ]
  },
  {
   "cell_type": "markdown",
   "metadata": {},
   "source": [
    "Hyperparameter tuning improved the score of the knn from 0.801 to 0.817.\n",
    "\n",
    "Hyperparameter tuning is performed on naive bayes."
   ]
  },
  {
   "cell_type": "code",
   "execution_count": null,
   "metadata": {},
   "outputs": [],
   "source": []
  },
  {
   "cell_type": "markdown",
   "metadata": {},
   "source": [
    "# Create Submission #"
   ]
  },
  {
   "cell_type": "code",
   "execution_count": null,
   "metadata": {},
   "outputs": [],
   "source": [
    "model = best_rf\n",
    "y_pred = model.predict(test_features.drop(features_drop, axis=1)).astype(int)\n",
    "pred_df = pd.DataFrame( {'Survived': y_pred}, index=test['PassengerId'])\n",
    "pred_df.to_csv('best_rf_submission.csv')"
   ]
  },
  {
   "cell_type": "code",
   "execution_count": null,
   "metadata": {},
   "outputs": [],
   "source": [
    "model = best_knn\n",
    "y_pred = model.predict(test_features).astype(int)\n",
    "pred_df = pd.DataFrame( {'Survived': y_pred}, index=test['PassengerId'])\n",
    "pred_df.to_csv('best_knn_submission.csv')"
   ]
  },
  {
   "cell_type": "code",
   "execution_count": null,
   "metadata": {},
   "outputs": [],
   "source": [
    "model = best_rf\n",
    "y_pred = model.predict(test_features).astype(int)\n",
    "pred_df = pd.DataFrame( {'Survived': y_pred}, index=test['PassengerId'])\n",
    "pred_df.to_csv('best_rf_submission.csv')"
   ]
  },
  {
   "cell_type": "markdown",
   "metadata": {},
   "source": []
  },
  {
   "cell_type": "code",
   "execution_count": null,
   "metadata": {},
   "outputs": [],
   "source": []
  },
  {
   "cell_type": "markdown",
   "metadata": {},
   "source": []
  },
  {
   "cell_type": "code",
   "execution_count": null,
   "metadata": {},
   "outputs": [],
   "source": []
  },
  {
   "cell_type": "code",
   "execution_count": null,
   "metadata": {},
   "outputs": [],
   "source": []
  },
  {
   "cell_type": "code",
   "execution_count": null,
   "metadata": {},
   "outputs": [],
   "source": []
  },
  {
   "cell_type": "code",
   "execution_count": null,
   "metadata": {},
   "outputs": [],
   "source": []
  },
  {
   "cell_type": "code",
   "execution_count": null,
   "metadata": {},
   "outputs": [],
   "source": []
  },
  {
   "cell_type": "markdown",
   "metadata": {},
   "source": []
  },
  {
   "cell_type": "code",
   "execution_count": null,
   "metadata": {},
   "outputs": [],
   "source": []
  },
  {
   "cell_type": "code",
   "execution_count": null,
   "metadata": {},
   "outputs": [],
   "source": []
  },
  {
   "cell_type": "code",
   "execution_count": null,
   "metadata": {},
   "outputs": [],
   "source": []
  },
  {
   "cell_type": "code",
   "execution_count": null,
   "metadata": {},
   "outputs": [],
   "source": []
  },
  {
   "cell_type": "code",
   "execution_count": null,
   "metadata": {},
   "outputs": [],
   "source": []
  },
  {
   "cell_type": "code",
   "execution_count": null,
   "metadata": {},
   "outputs": [],
   "source": []
  },
  {
   "cell_type": "code",
   "execution_count": null,
   "metadata": {},
   "outputs": [],
   "source": []
  },
  {
   "cell_type": "code",
   "execution_count": null,
   "metadata": {},
   "outputs": [],
   "source": []
  },
  {
   "cell_type": "code",
   "execution_count": null,
   "metadata": {},
   "outputs": [],
   "source": []
  },
  {
   "cell_type": "code",
   "execution_count": null,
   "metadata": {},
   "outputs": [],
   "source": []
  },
  {
   "cell_type": "code",
   "execution_count": null,
   "metadata": {},
   "outputs": [],
   "source": []
  },
  {
   "cell_type": "code",
   "execution_count": null,
   "metadata": {},
   "outputs": [],
   "source": []
  },
  {
   "cell_type": "code",
   "execution_count": null,
   "metadata": {},
   "outputs": [],
   "source": []
  },
  {
   "cell_type": "code",
   "execution_count": null,
   "metadata": {},
   "outputs": [],
   "source": []
  },
  {
   "cell_type": "code",
   "execution_count": null,
   "metadata": {},
   "outputs": [],
   "source": []
  },
  {
   "cell_type": "code",
   "execution_count": null,
   "metadata": {},
   "outputs": [],
   "source": []
  },
  {
   "cell_type": "code",
   "execution_count": null,
   "metadata": {},
   "outputs": [],
   "source": []
  },
  {
   "cell_type": "code",
   "execution_count": null,
   "metadata": {},
   "outputs": [],
   "source": []
  },
  {
   "cell_type": "code",
   "execution_count": null,
   "metadata": {},
   "outputs": [],
   "source": []
  },
  {
   "cell_type": "code",
   "execution_count": null,
   "metadata": {},
   "outputs": [],
   "source": []
  },
  {
   "cell_type": "code",
   "execution_count": null,
   "metadata": {},
   "outputs": [],
   "source": [
    "\n"
   ]
  },
  {
   "cell_type": "code",
   "execution_count": null,
   "metadata": {},
   "outputs": [],
   "source": []
  },
  {
   "cell_type": "code",
   "execution_count": null,
   "metadata": {},
   "outputs": [],
   "source": []
  }
 ],
 "metadata": {
  "kernelspec": {
   "display_name": "Python 3",
   "language": "python",
   "name": "python3"
  },
  "language_info": {
   "codemirror_mode": {
    "name": "ipython",
    "version": 3
   },
   "file_extension": ".py",
   "mimetype": "text/x-python",
   "name": "python",
   "nbconvert_exporter": "python",
   "pygments_lexer": "ipython3",
   "version": "3.8.3"
  }
 },
 "nbformat": 4,
 "nbformat_minor": 2
}
