{
 "cells": [
  {
   "cell_type": "code",
   "execution_count": 320,
   "metadata": {},
   "outputs": [],
   "source": [
    "import pandas as pd\n",
    "import numpy as np\n",
    "import matplotlib.pyplot as plt\n",
    "import seaborn as sns\n",
    "import re\n",
    "from collections import Counter "
   ]
  },
  {
   "cell_type": "code",
   "execution_count": 321,
   "metadata": {},
   "outputs": [
    {
     "name": "stdout",
     "output_type": "stream",
     "text": [
      "PassengerId      0\n",
      "Survived         0\n",
      "Pclass           0\n",
      "Name             0\n",
      "Sex              0\n",
      "Age            177\n",
      "SibSp            0\n",
      "Parch            0\n",
      "Ticket           0\n",
      "Fare             0\n",
      "Cabin          687\n",
      "Embarked         2\n",
      "dtype: int64\n",
      "       PassengerId    Survived      Pclass         Age       SibSp  \\\n",
      "count   891.000000  891.000000  891.000000  714.000000  891.000000   \n",
      "mean    446.000000    0.383838    2.308642   29.699118    0.523008   \n",
      "std     257.353842    0.486592    0.836071   14.526497    1.102743   \n",
      "min       1.000000    0.000000    1.000000    0.420000    0.000000   \n",
      "25%     223.500000    0.000000    2.000000   20.125000    0.000000   \n",
      "50%     446.000000    0.000000    3.000000   28.000000    0.000000   \n",
      "75%     668.500000    1.000000    3.000000   38.000000    1.000000   \n",
      "max     891.000000    1.000000    3.000000   80.000000    8.000000   \n",
      "\n",
      "            Parch        Fare  \n",
      "count  891.000000  891.000000  \n",
      "mean     0.381594   32.204208  \n",
      "std      0.806057   49.693429  \n",
      "min      0.000000    0.000000  \n",
      "25%      0.000000    7.910400  \n",
      "50%      0.000000   14.454200  \n",
      "75%      0.000000   31.000000  \n",
      "max      6.000000  512.329200  \n"
     ]
    }
   ],
   "source": [
    "target_column = ['Survived']\n",
    "# load in the csv files\n",
    "test = pd.read_csv('data_files/test.csv')\n",
    "train = pd.read_csv('data_files/train.csv')\n",
    "# determine the nans in each column\n",
    "print(train.isna().sum())\n",
    "# describe data\n",
    "print(train.describe())"
   ]
  },
  {
   "cell_type": "code",
   "execution_count": 322,
   "metadata": {},
   "outputs": [
    {
     "name": "stdout",
     "output_type": "stream",
     "text": [
      "0\n",
      "0\n",
      "0\n",
      "2\n",
      "     PassengerId  Survived  Pclass                                       Name  \\\n",
      "61            62         1       1                        Icard, Miss. Amelie   \n",
      "829          830         1       1  Stone, Mrs. George Nelson (Martha Evelyn)   \n",
      "\n",
      "        Sex   Age  SibSp  Parch  Ticket  Fare Cabin Embarked  \n",
      "61   female  38.0      0      0  113572  80.0   B28      NaN  \n",
      "829  female  62.0      0      0  113572  80.0   B28      NaN  \n"
     ]
    }
   ],
   "source": [
    "#check if any of the columns have out of bounds values\n",
    "valid_survived = [0, 1]\n",
    "print((~train['Survived'].isin(valid_survived)).sum())\n",
    "valid_pclass = [1, 2, 3]\n",
    "print((~train['Pclass'].isin(valid_pclass)).sum())\n",
    "valid_sex = ['male', 'female']\n",
    "print((~train['Sex'].isin(valid_gender)).sum())\n",
    "valid_embarked = ['C', 'Q', 'S']\n",
    "print((~train['Embarked'].isin(valid_embarked)).sum())\n",
    "print(train[~train['Embarked'].isin(valid_embarked)])"
   ]
  },
  {
   "cell_type": "code",
   "execution_count": 323,
   "metadata": {},
   "outputs": [
    {
     "name": "stdout",
     "output_type": "stream",
     "text": [
      "Index(['Survived'], dtype='object')\n",
      "Index(['PassengerId', 'Pclass', 'Name', 'Sex', 'Age', 'SibSp', 'Parch',\n",
      "       'Ticket', 'Fare', 'Cabin', 'Embarked'],\n",
      "      dtype='object')\n"
     ]
    }
   ],
   "source": [
    "# split the features from the target\n",
    "train_target = train[target_column]\n",
    "train_features = train.drop(target_column, axis=1)\n",
    "# print the columns in the dataframe\n",
    "print(train_target.columns)\n",
    "print(train_features.columns)"
   ]
  },
  {
   "cell_type": "code",
   "execution_count": 324,
   "metadata": {},
   "outputs": [
    {
     "name": "stdout",
     "output_type": "stream",
     "text": [
      "   PassengerId  Pclass                                               Name  \\\n",
      "0            1       3                            Braund, Mr. Owen Harris   \n",
      "1            2       1  Cumings, Mrs. John Bradley (Florence Briggs Th...   \n",
      "2            3       3                             Heikkinen, Miss. Laina   \n",
      "3            4       1       Futrelle, Mrs. Jacques Heath (Lily May Peel)   \n",
      "4            5       3                           Allen, Mr. William Henry   \n",
      "\n",
      "      Sex   Age  SibSp  Parch            Ticket     Fare Cabin Embarked  \n",
      "0    male  22.0      1      0         A/5 21171   7.2500   NaN        S  \n",
      "1  female  38.0      1      0          PC 17599  71.2833   C85        C  \n",
      "2  female  26.0      0      0  STON/O2. 3101282   7.9250   NaN        S  \n",
      "3  female  35.0      1      0            113803  53.1000  C123        S  \n",
      "4    male  35.0      0      0            373450   8.0500   NaN        S  \n"
     ]
    }
   ],
   "source": [
    "print(train_features.head())"
   ]
  },
  {
   "cell_type": "code",
   "execution_count": 325,
   "metadata": {},
   "outputs": [
    {
     "name": "stdout",
     "output_type": "stream",
     "text": [
      "   PassengerId  Survived  Pclass  \\\n",
      "0            1         0       3   \n",
      "1            2         1       1   \n",
      "2            3         1       3   \n",
      "3            4         1       1   \n",
      "4            5         0       3   \n",
      "\n",
      "                                                Name     Sex   Age  SibSp  \\\n",
      "0                            Braund, Mr. Owen Harris    male  22.0      1   \n",
      "1  Cumings, Mrs. John Bradley (Florence Briggs Th...  female  38.0      1   \n",
      "2                             Heikkinen, Miss. Laina  female  26.0      0   \n",
      "3       Futrelle, Mrs. Jacques Heath (Lily May Peel)  female  35.0      1   \n",
      "4                           Allen, Mr. William Henry    male  35.0      0   \n",
      "\n",
      "   Parch            Ticket     Fare Cabin Embarked  Male  \n",
      "0      0         A/5 21171   7.2500   NaN        S     1  \n",
      "1      0          PC 17599  71.2833   C85        C     0  \n",
      "2      0  STON/O2. 3101282   7.9250   NaN        S     0  \n",
      "3      0            113803  53.1000  C123        S     0  \n",
      "4      0            373450   8.0500   NaN        S     1  \n",
      "   PassengerId  Survived  Pclass  \\\n",
      "0            1         0       3   \n",
      "1            2         1       1   \n",
      "2            3         1       3   \n",
      "3            4         1       1   \n",
      "4            5         0       3   \n",
      "\n",
      "                                                Name   Age  SibSp  Parch  \\\n",
      "0                            Braund, Mr. Owen Harris  22.0      1      0   \n",
      "1  Cumings, Mrs. John Bradley (Florence Briggs Th...  38.0      1      0   \n",
      "2                             Heikkinen, Miss. Laina  26.0      0      0   \n",
      "3       Futrelle, Mrs. Jacques Heath (Lily May Peel)  35.0      1      0   \n",
      "4                           Allen, Mr. William Henry  35.0      0      0   \n",
      "\n",
      "             Ticket     Fare Cabin Embarked  Male  \n",
      "0         A/5 21171   7.2500   NaN        S     1  \n",
      "1          PC 17599  71.2833   C85        C     0  \n",
      "2  STON/O2. 3101282   7.9250   NaN        S     0  \n",
      "3            113803  53.1000  C123        S     0  \n",
      "4            373450   8.0500   NaN        S     1  \n"
     ]
    }
   ],
   "source": [
    "#encode gender\n",
    "train['Male'] = (train['Sex'].str.lower() == 'male').astype(int)\n",
    "print(train.head())\n",
    "train.drop('Sex', axis=1, inplace=True)\n",
    "print(train.head())"
   ]
  },
  {
   "cell_type": "code",
   "execution_count": 326,
   "metadata": {},
   "outputs": [
    {
     "name": "stdout",
     "output_type": "stream",
     "text": [
      "   PassengerId  Survived  Pclass  \\\n",
      "0            1         0       3   \n",
      "1            2         1       1   \n",
      "2            3         1       3   \n",
      "3            4         1       1   \n",
      "4            5         0       3   \n",
      "\n",
      "                                                Name   Age  SibSp  Parch  \\\n",
      "0                            Braund, Mr. Owen Harris  22.0      1      0   \n",
      "1  Cumings, Mrs. John Bradley (Florence Briggs Th...  38.0      1      0   \n",
      "2                             Heikkinen, Miss. Laina  26.0      0      0   \n",
      "3       Futrelle, Mrs. Jacques Heath (Lily May Peel)  35.0      1      0   \n",
      "4                           Allen, Mr. William Henry  35.0      0      0   \n",
      "\n",
      "             Ticket     Fare Cabin Embarked  Male   LastName  \n",
      "0         A/5 21171   7.2500   NaN        S     1     braund  \n",
      "1          PC 17599  71.2833   C85        C     0    cumings  \n",
      "2  STON/O2. 3101282   7.9250   NaN        S     0  heikkinen  \n",
      "3            113803  53.1000  C123        S     0   futrelle  \n",
      "4            373450   8.0500   NaN        S     1      allen  \n",
      "   PassengerId  Survived  Pclass   Age  SibSp  Parch            Ticket  \\\n",
      "0            1         0       3  22.0      1      0         A/5 21171   \n",
      "1            2         1       1  38.0      1      0          PC 17599   \n",
      "2            3         1       3  26.0      0      0  STON/O2. 3101282   \n",
      "3            4         1       1  35.0      1      0            113803   \n",
      "4            5         0       3  35.0      0      0            373450   \n",
      "\n",
      "      Fare Cabin Embarked  Male   LastName  \n",
      "0   7.2500   NaN        S     1     braund  \n",
      "1  71.2833   C85        C     0    cumings  \n",
      "2   7.9250   NaN        S     0  heikkinen  \n",
      "3  53.1000  C123        S     0   futrelle  \n",
      "4   8.0500   NaN        S     1      allen  \n"
     ]
    }
   ],
   "source": [
    "# extract last name\n",
    "train['LastName'] = train['Name'].str.split(',', n=1, expand=True).get(0).str.lower()\n",
    "print(train.head())\n",
    "train.drop('Name', axis=1, inplace=True)\n",
    "print(train.head())"
   ]
  },
  {
   "cell_type": "code",
   "execution_count": 327,
   "metadata": {},
   "outputs": [
    {
     "name": "stdout",
     "output_type": "stream",
     "text": [
      "Male        0    1\n",
      "Survived          \n",
      "0          81  468\n",
      "1         233  109\n",
      "Male\n",
      "0    0.742038\n",
      "1    0.188908\n",
      "Name: Survived, dtype: float64\n"
     ]
    }
   ],
   "source": [
    "correlation_matrix_male_survived = pd.crosstab(train['Survived'], train['Male'], rownames=['Survived'], colnames=['Male'])\n",
    "print(correlation_matrix_male_survived)\n",
    "print(train.groupby('Male')['Survived'].agg(np.mean))\n",
    "#Male is a good feature"
   ]
  },
  {
   "cell_type": "code",
   "execution_count": 328,
   "metadata": {},
   "outputs": [
    {
     "name": "stdout",
     "output_type": "stream",
     "text": [
      "Pclass      1   2    3\n",
      "Survived              \n",
      "0          80  97  372\n",
      "1         136  87  119\n",
      "Pclass\n",
      "1    0.629630\n",
      "2    0.472826\n",
      "3    0.242363\n",
      "Name: Survived, dtype: float64\n"
     ]
    }
   ],
   "source": [
    "correlation_matrix_pclass_survived = pd.crosstab(train['Survived'], train['Pclass'], rownames=['Survived'], colnames=['Pclass'])\n",
    "print(correlation_matrix_pclass_survived)\n",
    "print(train.groupby('Pclass')['Survived'].agg(np.mean))\n",
    "#Pclass is a good feature"
   ]
  },
  {
   "cell_type": "code",
   "execution_count": 329,
   "metadata": {},
   "outputs": [
    {
     "data": {
      "image/png": "[encoded data removed]",
      "text/plain": [
       "<Figure size 432x288 with 1 Axes>"
      ]
     },
     "metadata": {
      "needs_background": "light"
     },
     "output_type": "display_data"
    }
   ],
   "source": [
    "#age_bins = list(range(0,100,10))\n",
    "df = train[train['Survived'] == 0]\n",
    "sns.distplot(df['Age'].dropna(),  kde=False, label='Died')\n",
    "df = train[train['Survived'] == 1]\n",
    "sns.distplot(df['Age'].dropna(),  kde=False, label='Survived')\n",
    "plt.legend()\n",
    "plt.title('Age of Survival vs Death')\n",
    "plt.xlabel('Age')\n",
    "plt.ylabel('Number')\n",
    "plt.show()"
   ]
  },
  {
   "cell_type": "code",
   "execution_count": 330,
   "metadata": {},
   "outputs": [
    {
     "name": "stdout",
     "output_type": "stream",
     "text": [
      "AgeDecade\n",
      "0.0    0.612903\n",
      "1.0    0.401961\n",
      "2.0    0.350000\n",
      "3.0    0.437126\n",
      "4.0    0.382022\n",
      "5.0    0.416667\n",
      "6.0    0.315789\n",
      "7.0    0.000000\n",
      "8.0    1.000000\n",
      "Name: Survived, dtype: float64\n",
      "AgeDecade\n",
      "0.0     62\n",
      "1.0    102\n",
      "2.0    220\n",
      "3.0    167\n",
      "4.0     89\n",
      "5.0     48\n",
      "6.0     19\n",
      "7.0      6\n",
      "8.0      1\n",
      "Name: Survived, dtype: int64\n"
     ]
    }
   ],
   "source": [
    "# look into age affects survival\n",
    "train['AgeDecade'] = (train['Age'] / 10).apply(np.floor)\n",
    "trained_grouped_by_age_decade = train.groupby('AgeDecade')\n",
    "print(trained_grouped_by_age_decade['Survived'].agg(np.mean))\n",
    "print(trained_grouped_by_age_decade['Survived'].count())"
   ]
  },
  {
   "cell_type": "code",
   "execution_count": 331,
   "metadata": {},
   "outputs": [
    {
     "name": "stdout",
     "output_type": "stream",
     "text": [
      "SibSp\n",
      "0    0.345395\n",
      "1    0.535885\n",
      "2    0.464286\n",
      "3    0.250000\n",
      "4    0.166667\n",
      "5    0.000000\n",
      "8    0.000000\n",
      "Name: Survived, dtype: float64\n",
      "SibSp\n",
      "0    608\n",
      "1    209\n",
      "2     28\n",
      "3     16\n",
      "4     18\n",
      "5      5\n",
      "8      7\n",
      "Name: Survived, dtype: int64\n"
     ]
    }
   ],
   "source": [
    "print(train.groupby('SibSp')['Survived'].agg(np.mean))\n",
    "print(train.groupby('SibSp')['Survived'].count())"
   ]
  },
  {
   "cell_type": "code",
   "execution_count": 332,
   "metadata": {},
   "outputs": [
    {
     "name": "stdout",
     "output_type": "stream",
     "text": [
      "Parch\n",
      "0    0.343658\n",
      "1    0.550847\n",
      "2    0.500000\n",
      "3    0.600000\n",
      "4    0.000000\n",
      "5    0.200000\n",
      "6    0.000000\n",
      "Name: Survived, dtype: float64\n",
      "Parch\n",
      "0    678\n",
      "1    118\n",
      "2     80\n",
      "3      5\n",
      "4      4\n",
      "5      5\n",
      "6      1\n",
      "Name: Survived, dtype: int64\n"
     ]
    }
   ],
   "source": [
    "print(train.groupby('Parch')['Survived'].agg(np.mean))\n",
    "print(train.groupby('Parch')['Survived'].count())"
   ]
  },
  {
   "cell_type": "code",
   "execution_count": 333,
   "metadata": {},
   "outputs": [
    {
     "name": "stdout",
     "output_type": "stream",
     "text": [
      "Embarked\n",
      "C    0.553571\n",
      "Q    0.389610\n",
      "S    0.336957\n",
      "Name: Survived, dtype: float64\n",
      "Embarked\n",
      "C    168\n",
      "Q     77\n",
      "S    644\n",
      "Name: Survived, dtype: int64\n"
     ]
    }
   ],
   "source": [
    "print(train.groupby('Embarked')['Survived'].agg(np.mean))\n",
    "print(train.groupby('Embarked')['Survived'].count())\n",
    "# suprisingly this looks like a good feature"
   ]
  },
  {
   "cell_type": "code",
   "execution_count": 334,
   "metadata": {},
   "outputs": [
    {
     "name": "stdout",
     "output_type": "stream",
     "text": [
      "Cabin\n",
      "A10    0.0\n",
      "A14    0.0\n",
      "A16    1.0\n",
      "A19    0.0\n",
      "A20    1.0\n",
      "      ... \n",
      "F33    1.0\n",
      "F38    0.0\n",
      "F4     1.0\n",
      "G6     0.5\n",
      "T      0.0\n",
      "Name: Survived, Length: 147, dtype: float64\n",
      "Cabin\n",
      "A10    1\n",
      "A14    1\n",
      "A16    1\n",
      "A19    1\n",
      "A20    1\n",
      "      ..\n",
      "F33    3\n",
      "F38    1\n",
      "F4     2\n",
      "G6     4\n",
      "T      1\n",
      "Name: Survived, Length: 147, dtype: int64\n"
     ]
    },
    {
     "data": {
      "image/png": "[encoded data removed]",
      "text/plain": [
       "<Figure size 432x288 with 1 Axes>"
      ]
     },
     "metadata": {
      "needs_background": "light"
     },
     "output_type": "display_data"
    }
   ],
   "source": [
    "survival_by_cabin = train.groupby('Cabin')['Survived']\n",
    "print(survival_by_cabin.agg(np.mean))\n",
    "print(survival_by_cabin.count())\n",
    "#print(survival_by_cabin.loc[survival_by_cabin.count() > 1])\n",
    "survival_by_cabin.agg(np.mean).plot()\n",
    "plt.show()\n"
   ]
  },
  {
   "cell_type": "code",
   "execution_count": 335,
   "metadata": {},
   "outputs": [],
   "source": [
    "def most_frequent(input_list):\n",
    "    if not input_list:\n",
    "        return ''\n",
    "    else:\n",
    "        occurence_count = Counter(input_list)\n",
    "        return occurence_count.most_common(1)[0][0] "
   ]
  },
  {
   "cell_type": "code",
   "execution_count": 336,
   "metadata": {},
   "outputs": [
    {
     "name": "stdout",
     "output_type": "stream",
     "text": [
      "A\n",
      "\n"
     ]
    }
   ],
   "source": [
    "print(most_frequent(['A', 'B', 'A']))\n",
    "print(most_frequent(['']))"
   ]
  },
  {
   "cell_type": "code",
   "execution_count": 340,
   "metadata": {},
   "outputs": [
    {
     "name": "stdout",
     "output_type": "stream",
     "text": [
      "     687\n",
      "c     59\n",
      "b     47\n",
      "d     33\n",
      "e     32\n",
      "a     15\n",
      "f     13\n",
      "g      4\n",
      "t      1\n",
      "Name: CabinLetter, dtype: int64\n"
     ]
    }
   ],
   "source": [
    "# break up the cabin column into level and number. Need to check for correlation between different features. Ex.\n",
    "# pclass and cabin letter are likely correlated\n",
    "#train['CabinLetter'] = train['Cabin'].str.extract(r\"^[a-zA-Z]+\").lower()\n",
    "#s = pd.Series(['C1', 'A1 A2 A3', 'D3'])\n",
    "#s.str.findall(r'[A-Za-z]', flags=re.IGNORECASE)\n",
    "train['Cabin'] = train['Cabin'].replace(np.nan, '', regex=True).str.lower()\n",
    "train['CabinLetter'] = train['Cabin'].str.findall(r'[A-Za-z]', flags=re.IGNORECASE).apply(lambda x: most_frequent(x))\n",
    "print(train['CabinLetter'].value_counts())"
   ]
  },
  {
   "cell_type": "code",
   "execution_count": null,
   "metadata": {},
   "outputs": [],
   "source": []
  }
 ],
 "metadata": {
  "kernelspec": {
   "display_name": "Python 3",
   "language": "python",
   "name": "python3"
  },
  "language_info": {
   "codemirror_mode": {
    "name": "ipython",
    "version": 3
   },
   "file_extension": ".py",
   "mimetype": "text/x-python",
   "name": "python",
   "nbconvert_exporter": "python",
   "pygments_lexer": "ipython3",
   "version": "3.7.4"
  }
 },
 "nbformat": 4,
 "nbformat_minor": 2
}
